{
  "nbformat": 4,
  "nbformat_minor": 0,
  "metadata": {
    "colab": {
      "name": "RL_in_Action_TaxiV3_Shashikant.ipynb",
      "provenance": [],
      "collapsed_sections": [
        "FAcjbAqmM7tt",
        "SemyR0nQIY1e",
        "8PV91m4941FQ",
        "GlhLny5599rJ"
      ],
      "authorship_tag": "ABX9TyPaVdVYcApco2WqFibAbGCN",
      "include_colab_link": true
    },
    "kernelspec": {
      "name": "python3",
      "display_name": "Python 3"
    },
    "language_info": {
      "name": "python"
    }
  },
  "cells": [
    {
      "cell_type": "markdown",
      "metadata": {
        "id": "view-in-github",
        "colab_type": "text"
      },
      "source": [
        "<a href=\"https://colab.research.google.com/github/ShashiAI/RLinAction/blob/main/RL_in_Action_TaxiV3_Shashikant.ipynb\" target=\"_parent\"><img src=\"https://colab.research.google.com/assets/colab-badge.svg\" alt=\"Open In Colab\"/></a>"
      ]
    },
    {
      "cell_type": "markdown",
      "metadata": {
        "id": "ht8yXQ0oWjMG"
      },
      "source": [
        "### About Taxi V3\n",
        "- Textual environment with 5 rows and 5 columns. So, totally 25 locations in which the Taxi could be present.\n",
        "- Out of these 25 locations, 4 locations indicated by; R, G, B and Y letters represent the locations where the passenger could be initially present. Additionally, passenger could also be in the Taxi after a legal pickup from one of the 4 locations.\n",
        "- After a legal pick-up, one of the above four locations would be the destination where the Taxi has to drop-off the passenger. \n",
        "- It can be inferred that the total number of allowed states are 500.\n",
        "- Initially, after a reset, the environment is setup randomly in one of the 500 states.\n",
        "  - The passenger's location is indicated by color Blue\n",
        "  - Destination location is indicated by color Magenta\n",
        "  - Taxi color Yellow indicates the Taxi is empty and Green indicates the passenger is inside the Taxi (Color green after legal)\n",
        "- The rewards are as follows:\n",
        "  - -1 penalty for each step\n",
        "  - -10 penalty for illegal pickup or dropoff\n",
        "  - +20 reward for dropoff at destination\n",
        "\n",
        "###Primary Goal:\n",
        "- Drive the taxi and take one of the 6 actions (move North, South, East, West, pick-up and drop-off) per step to pickup and dropoff the passenger in the indicated locations\n",
        "\n",
        "###Secondary Goal:\n",
        "- Achieve the primary goal in the least number of steps or having the highest cumulative reward for that episode  \n",
        "Note: A penalty of -1 per step dictates that the shortest path would be the most efficient."
      ]
    },
    {
      "cell_type": "markdown",
      "metadata": {
        "id": "9c8oIkIGNNTh"
      },
      "source": [
        "### Taxi-V3 setup and environment understanding\n"
      ]
    },
    {
      "cell_type": "code",
      "metadata": {
        "id": "NKkWtUunUXaD"
      },
      "source": [
        "import gym\n",
        "taxi = gym.make('Taxi-v3')"
      ],
      "execution_count": 1,
      "outputs": []
    },
    {
      "cell_type": "code",
      "metadata": {
        "colab": {
          "base_uri": "https://localhost:8080/"
        },
        "id": "ziyn7z5kUhxE",
        "outputId": "b9bf4bf3-3c0b-4151-823e-2ac25a96e44a"
      },
      "source": [
        "taxi.reset()"
      ],
      "execution_count": 2,
      "outputs": [
        {
          "output_type": "execute_result",
          "data": {
            "text/plain": [
              "262"
            ]
          },
          "metadata": {
            "tags": []
          },
          "execution_count": 2
        }
      ]
    },
    {
      "cell_type": "markdown",
      "metadata": {
        "id": "rXZc8KWsCqQM"
      },
      "source": [
        "Resetting sets the environment in one of the 500 possible states randomly.\n",
        "\n",
        "Note: 500 = 25 possible positions for taxi * 5 possible positions for passenger (including in taxi) * 4 locations for destination."
      ]
    },
    {
      "cell_type": "code",
      "metadata": {
        "colab": {
          "base_uri": "https://localhost:8080/"
        },
        "id": "tvJetuEWUju7",
        "outputId": "f4c3d0dc-7296-4977-a7f0-bc95b0f9a34a"
      },
      "source": [
        "taxi.render() #Visualize Taxi state"
      ],
      "execution_count": 3,
      "outputs": [
        {
          "output_type": "stream",
          "text": [
            "+---------+\n",
            "|\u001b[34;1mR\u001b[0m: | : :G|\n",
            "| : | : : |\n",
            "| : : :\u001b[43m \u001b[0m: |\n",
            "| | : | : |\n",
            "|\u001b[35mY\u001b[0m| : |B: |\n",
            "+---------+\n",
            "\n"
          ],
          "name": "stdout"
        }
      ]
    },
    {
      "cell_type": "code",
      "metadata": {
        "colab": {
          "base_uri": "https://localhost:8080/"
        },
        "id": "C2x0_kwVUlnL",
        "outputId": "7d9b0d8f-a997-47d3-d97b-7e6b9992b008"
      },
      "source": [
        "taxi.reset()"
      ],
      "execution_count": 4,
      "outputs": [
        {
          "output_type": "execute_result",
          "data": {
            "text/plain": [
              "327"
            ]
          },
          "metadata": {
            "tags": []
          },
          "execution_count": 4
        }
      ]
    },
    {
      "cell_type": "code",
      "metadata": {
        "colab": {
          "base_uri": "https://localhost:8080/"
        },
        "id": "2E3jfl8mC2AV",
        "outputId": "fed5de2c-dde8-47d9-f35a-e75139e9358d"
      },
      "source": [
        "taxi.render()"
      ],
      "execution_count": 5,
      "outputs": [
        {
          "output_type": "stream",
          "text": [
            "+---------+\n",
            "|R: | : :\u001b[34;1mG\u001b[0m|\n",
            "| : | : : |\n",
            "| : : : : |\n",
            "| |\u001b[43m \u001b[0m: | : |\n",
            "|Y| : |\u001b[35mB\u001b[0m: |\n",
            "+---------+\n",
            "\n"
          ],
          "name": "stdout"
        }
      ]
    },
    {
      "cell_type": "code",
      "metadata": {
        "colab": {
          "base_uri": "https://localhost:8080/"
        },
        "id": "c5wvr-GLU3Fn",
        "outputId": "66dad635-5aed-43dc-c9e2-763c722b3344"
      },
      "source": [
        "taxi.observation_space"
      ],
      "execution_count": 6,
      "outputs": [
        {
          "output_type": "execute_result",
          "data": {
            "text/plain": [
              "Discrete(500)"
            ]
          },
          "metadata": {
            "tags": []
          },
          "execution_count": 6
        }
      ]
    },
    {
      "cell_type": "code",
      "metadata": {
        "colab": {
          "base_uri": "https://localhost:8080/"
        },
        "id": "8Yv1W8T-VBxw",
        "outputId": "2816a5a6-89d2-4f69-be36-ca53f893076c"
      },
      "source": [
        "taxi.action_space"
      ],
      "execution_count": 7,
      "outputs": [
        {
          "output_type": "execute_result",
          "data": {
            "text/plain": [
              "Discrete(6)"
            ]
          },
          "metadata": {
            "tags": []
          },
          "execution_count": 7
        }
      ]
    },
    {
      "cell_type": "markdown",
      "metadata": {
        "id": "4Gd-GCKzjiNz"
      },
      "source": [
        "**TaxiEnv** Class Methods and Variables:"
      ]
    },
    {
      "cell_type": "code",
      "metadata": {
        "colab": {
          "base_uri": "https://localhost:8080/"
        },
        "id": "zdjZJac3VFsT",
        "outputId": "8e353209-311e-4cd8-e5ec-41a2b53a0819"
      },
      "source": [
        "#Print methods and class variables\n",
        "print (dir(taxi))\n",
        "print (dir(taxi.env))"
      ],
      "execution_count": 8,
      "outputs": [
        {
          "output_type": "stream",
          "text": [
            "['__class__', '__delattr__', '__dict__', '__dir__', '__doc__', '__enter__', '__eq__', '__exit__', '__format__', '__ge__', '__getattr__', '__getattribute__', '__gt__', '__hash__', '__init__', '__init_subclass__', '__le__', '__lt__', '__module__', '__ne__', '__new__', '__reduce__', '__reduce_ex__', '__repr__', '__setattr__', '__sizeof__', '__str__', '__subclasshook__', '__weakref__', '_elapsed_steps', '_max_episode_steps', 'action_space', 'class_name', 'close', 'compute_reward', 'env', 'metadata', 'observation_space', 'render', 'reset', 'reward_range', 'seed', 'spec', 'step', 'unwrapped']\n",
            "['P', '__class__', '__delattr__', '__dict__', '__dir__', '__doc__', '__enter__', '__eq__', '__exit__', '__format__', '__ge__', '__getattribute__', '__gt__', '__hash__', '__init__', '__init_subclass__', '__le__', '__lt__', '__module__', '__ne__', '__new__', '__reduce__', '__reduce_ex__', '__repr__', '__setattr__', '__sizeof__', '__str__', '__subclasshook__', '__weakref__', 'action_space', 'close', 'decode', 'desc', 'encode', 'isd', 'lastaction', 'locs', 'metadata', 'nA', 'nS', 'np_random', 'observation_space', 'render', 'reset', 'reward_range', 's', 'seed', 'spec', 'step', 'unwrapped']\n"
          ],
          "name": "stdout"
        }
      ]
    },
    {
      "cell_type": "code",
      "metadata": {
        "colab": {
          "base_uri": "https://localhost:8080/"
        },
        "id": "zGAbT67CVHW8",
        "outputId": "5c88ad0d-4f4c-4380-a617-850955106eac"
      },
      "source": [
        "taxi.env.s #gives current state of the env"
      ],
      "execution_count": 9,
      "outputs": [
        {
          "output_type": "execute_result",
          "data": {
            "text/plain": [
              "327"
            ]
          },
          "metadata": {
            "tags": []
          },
          "execution_count": 9
        }
      ]
    },
    {
      "cell_type": "code",
      "metadata": {
        "colab": {
          "base_uri": "https://localhost:8080/"
        },
        "id": "5xY4uD_zlFzu",
        "outputId": "58140e0f-8946-4520-9234-8ec464914aad"
      },
      "source": [
        "print (vars(taxi))"
      ],
      "execution_count": 10,
      "outputs": [
        {
          "output_type": "stream",
          "text": [
            "{'env': <gym.envs.toy_text.taxi.TaxiEnv object at 0x7fed68ea64d0>, 'action_space': Discrete(6), 'observation_space': Discrete(500), 'reward_range': (-inf, inf), 'metadata': {'render.modes': ['human', 'ansi']}, '_max_episode_steps': 200, '_elapsed_steps': 0}\n"
          ],
          "name": "stdout"
        }
      ]
    },
    {
      "cell_type": "markdown",
      "metadata": {
        "id": "zMKQWPeqFVre"
      },
      "source": [
        "**Decode** method:\n",
        "- Given a valid state (0 to 499) returns the following:\n",
        "taxi row, taxi col, passenger location, destination index"
      ]
    },
    {
      "cell_type": "code",
      "metadata": {
        "colab": {
          "base_uri": "https://localhost:8080/"
        },
        "id": "ZAA5SEHCHe7K",
        "outputId": "f3306bb5-5f30-437a-d21c-90579cb21051"
      },
      "source": [
        "for i in taxi.env.decode(28):\n",
        "  print(i)"
      ],
      "execution_count": 11,
      "outputs": [
        {
          "output_type": "stream",
          "text": [
            "0\n",
            "1\n",
            "2\n",
            "0\n"
          ],
          "name": "stdout"
        }
      ]
    },
    {
      "cell_type": "code",
      "metadata": {
        "colab": {
          "base_uri": "https://localhost:8080/"
        },
        "id": "Oy7fjtP5mvrf",
        "outputId": "3231ef6d-0122-4e7f-ea5c-94216ac1ed87"
      },
      "source": [
        "taxi.locs #Fixed R, G, B and Y locations"
      ],
      "execution_count": 12,
      "outputs": [
        {
          "output_type": "execute_result",
          "data": {
            "text/plain": [
              "[(0, 0), (0, 4), (4, 0), (4, 3)]"
            ]
          },
          "metadata": {
            "tags": []
          },
          "execution_count": 12
        }
      ]
    },
    {
      "cell_type": "code",
      "metadata": {
        "colab": {
          "base_uri": "https://localhost:8080/"
        },
        "id": "y9Rb00o3mekB",
        "outputId": "84c19e62-d5e0-4c0f-96ad-94e7da035769"
      },
      "source": [
        "taxi.env.s = 28\n",
        "taxi.render() #verify that the above decode outputs is the same as the below rendered state"
      ],
      "execution_count": 13,
      "outputs": [
        {
          "output_type": "stream",
          "text": [
            "+---------+\n",
            "|\u001b[35mR\u001b[0m:\u001b[43m \u001b[0m| : :G|\n",
            "| : | : : |\n",
            "| : : : : |\n",
            "| | : | : |\n",
            "|\u001b[34;1mY\u001b[0m| : |B: |\n",
            "+---------+\n",
            "\n"
          ],
          "name": "stdout"
        }
      ]
    },
    {
      "cell_type": "code",
      "metadata": {
        "colab": {
          "base_uri": "https://localhost:8080/"
        },
        "id": "BG2IGVPE9-Dx",
        "outputId": "af4eea5a-243c-413c-e00a-f11ce7e3afca"
      },
      "source": [
        "taxi.env.encode(2,0,0,3) #get the state for: Taxi at: 3rd row, 1st column and passenger at first loc and dest is at the last location"
      ],
      "execution_count": 14,
      "outputs": [
        {
          "output_type": "execute_result",
          "data": {
            "text/plain": [
              "203"
            ]
          },
          "metadata": {
            "tags": []
          },
          "execution_count": 14
        }
      ]
    },
    {
      "cell_type": "code",
      "metadata": {
        "id": "vXuxkws__CGb"
      },
      "source": [
        "taxi.env.s = 203 #verify if the encoded state has the description mentioned above"
      ],
      "execution_count": 15,
      "outputs": []
    },
    {
      "cell_type": "code",
      "metadata": {
        "colab": {
          "base_uri": "https://localhost:8080/"
        },
        "id": "7yxKJprC_EMW",
        "outputId": "a63273d8-a98c-404c-8b04-617acee11162"
      },
      "source": [
        "taxi.render()"
      ],
      "execution_count": 16,
      "outputs": [
        {
          "output_type": "stream",
          "text": [
            "+---------+\n",
            "|\u001b[34;1mR\u001b[0m: | : :G|\n",
            "| : | : : |\n",
            "|\u001b[43m \u001b[0m: : : : |\n",
            "| | : | : |\n",
            "|Y| : |\u001b[35mB\u001b[0m: |\n",
            "+---------+\n",
            "\n"
          ],
          "name": "stdout"
        }
      ]
    },
    {
      "cell_type": "markdown",
      "metadata": {
        "id": "41-UwIhc_0u1"
      },
      "source": [
        "Note: There is no error-checking on the maximum value given to the dest_idx !\n",
        "\n",
        "For example, try to give dest_idx as 10 (invalid)"
      ]
    },
    {
      "cell_type": "code",
      "metadata": {
        "colab": {
          "base_uri": "https://localhost:8080/"
        },
        "id": "FkiHGZVCANFW",
        "outputId": "6a2342de-7a1e-44f1-f483-5924244cc609"
      },
      "source": [
        "taxi.env.encode(2,0,0,10) # Wrong input for dest_idx"
      ],
      "execution_count": 17,
      "outputs": [
        {
          "output_type": "execute_result",
          "data": {
            "text/plain": [
              "210"
            ]
          },
          "metadata": {
            "tags": []
          },
          "execution_count": 17
        }
      ]
    },
    {
      "cell_type": "code",
      "metadata": {
        "colab": {
          "base_uri": "https://localhost:8080/"
        },
        "id": "yU8yEoWj4haC",
        "outputId": "89384fde-30b3-40e5-b7d8-5d271cbe4a7c"
      },
      "source": [
        "print (taxi.env.P) #Transition table --> States v/s Actions and for each of the 6 actions; Probability, next state, reward and done flag"
      ],
      "execution_count": 18,
      "outputs": [
        {
          "output_type": "stream",
          "text": [
            "{0: {0: [(1.0, 100, -1, False)], 1: [(1.0, 0, -1, False)], 2: [(1.0, 20, -1, False)], 3: [(1.0, 0, -1, False)], 4: [(1.0, 16, -1, False)], 5: [(1.0, 0, -10, False)]}, 1: {0: [(1.0, 101, -1, False)], 1: [(1.0, 1, -1, False)], 2: [(1.0, 21, -1, False)], 3: [(1.0, 1, -1, False)], 4: [(1.0, 17, -1, False)], 5: [(1.0, 1, -10, False)]}, 2: {0: [(1.0, 102, -1, False)], 1: [(1.0, 2, -1, False)], 2: [(1.0, 22, -1, False)], 3: [(1.0, 2, -1, False)], 4: [(1.0, 18, -1, False)], 5: [(1.0, 2, -10, False)]}, 3: {0: [(1.0, 103, -1, False)], 1: [(1.0, 3, -1, False)], 2: [(1.0, 23, -1, False)], 3: [(1.0, 3, -1, False)], 4: [(1.0, 19, -1, False)], 5: [(1.0, 3, -10, False)]}, 4: {0: [(1.0, 104, -1, False)], 1: [(1.0, 4, -1, False)], 2: [(1.0, 24, -1, False)], 3: [(1.0, 4, -1, False)], 4: [(1.0, 4, -10, False)], 5: [(1.0, 4, -10, False)]}, 5: {0: [(1.0, 105, -1, False)], 1: [(1.0, 5, -1, False)], 2: [(1.0, 25, -1, False)], 3: [(1.0, 5, -1, False)], 4: [(1.0, 5, -10, False)], 5: [(1.0, 5, -10, False)]}, 6: {0: [(1.0, 106, -1, False)], 1: [(1.0, 6, -1, False)], 2: [(1.0, 26, -1, False)], 3: [(1.0, 6, -1, False)], 4: [(1.0, 6, -10, False)], 5: [(1.0, 6, -10, False)]}, 7: {0: [(1.0, 107, -1, False)], 1: [(1.0, 7, -1, False)], 2: [(1.0, 27, -1, False)], 3: [(1.0, 7, -1, False)], 4: [(1.0, 7, -10, False)], 5: [(1.0, 7, -10, False)]}, 8: {0: [(1.0, 108, -1, False)], 1: [(1.0, 8, -1, False)], 2: [(1.0, 28, -1, False)], 3: [(1.0, 8, -1, False)], 4: [(1.0, 8, -10, False)], 5: [(1.0, 8, -10, False)]}, 9: {0: [(1.0, 109, -1, False)], 1: [(1.0, 9, -1, False)], 2: [(1.0, 29, -1, False)], 3: [(1.0, 9, -1, False)], 4: [(1.0, 9, -10, False)], 5: [(1.0, 9, -10, False)]}, 10: {0: [(1.0, 110, -1, False)], 1: [(1.0, 10, -1, False)], 2: [(1.0, 30, -1, False)], 3: [(1.0, 10, -1, False)], 4: [(1.0, 10, -10, False)], 5: [(1.0, 10, -10, False)]}, 11: {0: [(1.0, 111, -1, False)], 1: [(1.0, 11, -1, False)], 2: [(1.0, 31, -1, False)], 3: [(1.0, 11, -1, False)], 4: [(1.0, 11, -10, False)], 5: [(1.0, 11, -10, False)]}, 12: {0: [(1.0, 112, -1, False)], 1: [(1.0, 12, -1, False)], 2: [(1.0, 32, -1, False)], 3: [(1.0, 12, -1, False)], 4: [(1.0, 12, -10, False)], 5: [(1.0, 12, -10, False)]}, 13: {0: [(1.0, 113, -1, False)], 1: [(1.0, 13, -1, False)], 2: [(1.0, 33, -1, False)], 3: [(1.0, 13, -1, False)], 4: [(1.0, 13, -10, False)], 5: [(1.0, 13, -10, False)]}, 14: {0: [(1.0, 114, -1, False)], 1: [(1.0, 14, -1, False)], 2: [(1.0, 34, -1, False)], 3: [(1.0, 14, -1, False)], 4: [(1.0, 14, -10, False)], 5: [(1.0, 14, -10, False)]}, 15: {0: [(1.0, 115, -1, False)], 1: [(1.0, 15, -1, False)], 2: [(1.0, 35, -1, False)], 3: [(1.0, 15, -1, False)], 4: [(1.0, 15, -10, False)], 5: [(1.0, 15, -10, False)]}, 16: {0: [(1.0, 116, -1, False)], 1: [(1.0, 16, -1, False)], 2: [(1.0, 36, -1, False)], 3: [(1.0, 16, -1, False)], 4: [(1.0, 16, -10, False)], 5: [(1.0, 0, 20, True)]}, 17: {0: [(1.0, 117, -1, False)], 1: [(1.0, 17, -1, False)], 2: [(1.0, 37, -1, False)], 3: [(1.0, 17, -1, False)], 4: [(1.0, 17, -10, False)], 5: [(1.0, 1, -1, False)]}, 18: {0: [(1.0, 118, -1, False)], 1: [(1.0, 18, -1, False)], 2: [(1.0, 38, -1, False)], 3: [(1.0, 18, -1, False)], 4: [(1.0, 18, -10, False)], 5: [(1.0, 2, -1, False)]}, 19: {0: [(1.0, 119, -1, False)], 1: [(1.0, 19, -1, False)], 2: [(1.0, 39, -1, False)], 3: [(1.0, 19, -1, False)], 4: [(1.0, 19, -10, False)], 5: [(1.0, 3, -1, False)]}, 20: {0: [(1.0, 120, -1, False)], 1: [(1.0, 20, -1, False)], 2: [(1.0, 20, -1, False)], 3: [(1.0, 0, -1, False)], 4: [(1.0, 20, -10, False)], 5: [(1.0, 20, -10, False)]}, 21: {0: [(1.0, 121, -1, False)], 1: [(1.0, 21, -1, False)], 2: [(1.0, 21, -1, False)], 3: [(1.0, 1, -1, False)], 4: [(1.0, 21, -10, False)], 5: [(1.0, 21, -10, False)]}, 22: {0: [(1.0, 122, -1, False)], 1: [(1.0, 22, -1, False)], 2: [(1.0, 22, -1, False)], 3: [(1.0, 2, -1, False)], 4: [(1.0, 22, -10, False)], 5: [(1.0, 22, -10, False)]}, 23: {0: [(1.0, 123, -1, False)], 1: [(1.0, 23, -1, False)], 2: [(1.0, 23, -1, False)], 3: [(1.0, 3, -1, False)], 4: [(1.0, 23, -10, False)], 5: [(1.0, 23, -10, False)]}, 24: {0: [(1.0, 124, -1, False)], 1: [(1.0, 24, -1, False)], 2: [(1.0, 24, -1, False)], 3: [(1.0, 4, -1, False)], 4: [(1.0, 24, -10, False)], 5: [(1.0, 24, -10, False)]}, 25: {0: [(1.0, 125, -1, False)], 1: [(1.0, 25, -1, False)], 2: [(1.0, 25, -1, False)], 3: [(1.0, 5, -1, False)], 4: [(1.0, 25, -10, False)], 5: [(1.0, 25, -10, False)]}, 26: {0: [(1.0, 126, -1, False)], 1: [(1.0, 26, -1, False)], 2: [(1.0, 26, -1, False)], 3: [(1.0, 6, -1, False)], 4: [(1.0, 26, -10, False)], 5: [(1.0, 26, -10, False)]}, 27: {0: [(1.0, 127, -1, False)], 1: [(1.0, 27, -1, False)], 2: [(1.0, 27, -1, False)], 3: [(1.0, 7, -1, False)], 4: [(1.0, 27, -10, False)], 5: [(1.0, 27, -10, False)]}, 28: {0: [(1.0, 128, -1, False)], 1: [(1.0, 28, -1, False)], 2: [(1.0, 28, -1, False)], 3: [(1.0, 8, -1, False)], 4: [(1.0, 28, -10, False)], 5: [(1.0, 28, -10, False)]}, 29: {0: [(1.0, 129, -1, False)], 1: [(1.0, 29, -1, False)], 2: [(1.0, 29, -1, False)], 3: [(1.0, 9, -1, False)], 4: [(1.0, 29, -10, False)], 5: [(1.0, 29, -10, False)]}, 30: {0: [(1.0, 130, -1, False)], 1: [(1.0, 30, -1, False)], 2: [(1.0, 30, -1, False)], 3: [(1.0, 10, -1, False)], 4: [(1.0, 30, -10, False)], 5: [(1.0, 30, -10, False)]}, 31: {0: [(1.0, 131, -1, False)], 1: [(1.0, 31, -1, False)], 2: [(1.0, 31, -1, False)], 3: [(1.0, 11, -1, False)], 4: [(1.0, 31, -10, False)], 5: [(1.0, 31, -10, False)]}, 32: {0: [(1.0, 132, -1, False)], 1: [(1.0, 32, -1, False)], 2: [(1.0, 32, -1, False)], 3: [(1.0, 12, -1, False)], 4: [(1.0, 32, -10, False)], 5: [(1.0, 32, -10, False)]}, 33: {0: [(1.0, 133, -1, False)], 1: [(1.0, 33, -1, False)], 2: [(1.0, 33, -1, False)], 3: [(1.0, 13, -1, False)], 4: [(1.0, 33, -10, False)], 5: [(1.0, 33, -10, False)]}, 34: {0: [(1.0, 134, -1, False)], 1: [(1.0, 34, -1, False)], 2: [(1.0, 34, -1, False)], 3: [(1.0, 14, -1, False)], 4: [(1.0, 34, -10, False)], 5: [(1.0, 34, -10, False)]}, 35: {0: [(1.0, 135, -1, False)], 1: [(1.0, 35, -1, False)], 2: [(1.0, 35, -1, False)], 3: [(1.0, 15, -1, False)], 4: [(1.0, 35, -10, False)], 5: [(1.0, 35, -10, False)]}, 36: {0: [(1.0, 136, -1, False)], 1: [(1.0, 36, -1, False)], 2: [(1.0, 36, -1, False)], 3: [(1.0, 16, -1, False)], 4: [(1.0, 36, -10, False)], 5: [(1.0, 36, -10, False)]}, 37: {0: [(1.0, 137, -1, False)], 1: [(1.0, 37, -1, False)], 2: [(1.0, 37, -1, False)], 3: [(1.0, 17, -1, False)], 4: [(1.0, 37, -10, False)], 5: [(1.0, 37, -10, False)]}, 38: {0: [(1.0, 138, -1, False)], 1: [(1.0, 38, -1, False)], 2: [(1.0, 38, -1, False)], 3: [(1.0, 18, -1, False)], 4: [(1.0, 38, -10, False)], 5: [(1.0, 38, -10, False)]}, 39: {0: [(1.0, 139, -1, False)], 1: [(1.0, 39, -1, False)], 2: [(1.0, 39, -1, False)], 3: [(1.0, 19, -1, False)], 4: [(1.0, 39, -10, False)], 5: [(1.0, 39, -10, False)]}, 40: {0: [(1.0, 140, -1, False)], 1: [(1.0, 40, -1, False)], 2: [(1.0, 60, -1, False)], 3: [(1.0, 40, -1, False)], 4: [(1.0, 40, -10, False)], 5: [(1.0, 40, -10, False)]}, 41: {0: [(1.0, 141, -1, False)], 1: [(1.0, 41, -1, False)], 2: [(1.0, 61, -1, False)], 3: [(1.0, 41, -1, False)], 4: [(1.0, 41, -10, False)], 5: [(1.0, 41, -10, False)]}, 42: {0: [(1.0, 142, -1, False)], 1: [(1.0, 42, -1, False)], 2: [(1.0, 62, -1, False)], 3: [(1.0, 42, -1, False)], 4: [(1.0, 42, -10, False)], 5: [(1.0, 42, -10, False)]}, 43: {0: [(1.0, 143, -1, False)], 1: [(1.0, 43, -1, False)], 2: [(1.0, 63, -1, False)], 3: [(1.0, 43, -1, False)], 4: [(1.0, 43, -10, False)], 5: [(1.0, 43, -10, False)]}, 44: {0: [(1.0, 144, -1, False)], 1: [(1.0, 44, -1, False)], 2: [(1.0, 64, -1, False)], 3: [(1.0, 44, -1, False)], 4: [(1.0, 44, -10, False)], 5: [(1.0, 44, -10, False)]}, 45: {0: [(1.0, 145, -1, False)], 1: [(1.0, 45, -1, False)], 2: [(1.0, 65, -1, False)], 3: [(1.0, 45, -1, False)], 4: [(1.0, 45, -10, False)], 5: [(1.0, 45, -10, False)]}, 46: {0: [(1.0, 146, -1, False)], 1: [(1.0, 46, -1, False)], 2: [(1.0, 66, -1, False)], 3: [(1.0, 46, -1, False)], 4: [(1.0, 46, -10, False)], 5: [(1.0, 46, -10, False)]}, 47: {0: [(1.0, 147, -1, False)], 1: [(1.0, 47, -1, False)], 2: [(1.0, 67, -1, False)], 3: [(1.0, 47, -1, False)], 4: [(1.0, 47, -10, False)], 5: [(1.0, 47, -10, False)]}, 48: {0: [(1.0, 148, -1, False)], 1: [(1.0, 48, -1, False)], 2: [(1.0, 68, -1, False)], 3: [(1.0, 48, -1, False)], 4: [(1.0, 48, -10, False)], 5: [(1.0, 48, -10, False)]}, 49: {0: [(1.0, 149, -1, False)], 1: [(1.0, 49, -1, False)], 2: [(1.0, 69, -1, False)], 3: [(1.0, 49, -1, False)], 4: [(1.0, 49, -10, False)], 5: [(1.0, 49, -10, False)]}, 50: {0: [(1.0, 150, -1, False)], 1: [(1.0, 50, -1, False)], 2: [(1.0, 70, -1, False)], 3: [(1.0, 50, -1, False)], 4: [(1.0, 50, -10, False)], 5: [(1.0, 50, -10, False)]}, 51: {0: [(1.0, 151, -1, False)], 1: [(1.0, 51, -1, False)], 2: [(1.0, 71, -1, False)], 3: [(1.0, 51, -1, False)], 4: [(1.0, 51, -10, False)], 5: [(1.0, 51, -10, False)]}, 52: {0: [(1.0, 152, -1, False)], 1: [(1.0, 52, -1, False)], 2: [(1.0, 72, -1, False)], 3: [(1.0, 52, -1, False)], 4: [(1.0, 52, -10, False)], 5: [(1.0, 52, -10, False)]}, 53: {0: [(1.0, 153, -1, False)], 1: [(1.0, 53, -1, False)], 2: [(1.0, 73, -1, False)], 3: [(1.0, 53, -1, False)], 4: [(1.0, 53, -10, False)], 5: [(1.0, 53, -10, False)]}, 54: {0: [(1.0, 154, -1, False)], 1: [(1.0, 54, -1, False)], 2: [(1.0, 74, -1, False)], 3: [(1.0, 54, -1, False)], 4: [(1.0, 54, -10, False)], 5: [(1.0, 54, -10, False)]}, 55: {0: [(1.0, 155, -1, False)], 1: [(1.0, 55, -1, False)], 2: [(1.0, 75, -1, False)], 3: [(1.0, 55, -1, False)], 4: [(1.0, 55, -10, False)], 5: [(1.0, 55, -10, False)]}, 56: {0: [(1.0, 156, -1, False)], 1: [(1.0, 56, -1, False)], 2: [(1.0, 76, -1, False)], 3: [(1.0, 56, -1, False)], 4: [(1.0, 56, -10, False)], 5: [(1.0, 56, -10, False)]}, 57: {0: [(1.0, 157, -1, False)], 1: [(1.0, 57, -1, False)], 2: [(1.0, 77, -1, False)], 3: [(1.0, 57, -1, False)], 4: [(1.0, 57, -10, False)], 5: [(1.0, 57, -10, False)]}, 58: {0: [(1.0, 158, -1, False)], 1: [(1.0, 58, -1, False)], 2: [(1.0, 78, -1, False)], 3: [(1.0, 58, -1, False)], 4: [(1.0, 58, -10, False)], 5: [(1.0, 58, -10, False)]}, 59: {0: [(1.0, 159, -1, False)], 1: [(1.0, 59, -1, False)], 2: [(1.0, 79, -1, False)], 3: [(1.0, 59, -1, False)], 4: [(1.0, 59, -10, False)], 5: [(1.0, 59, -10, False)]}, 60: {0: [(1.0, 160, -1, False)], 1: [(1.0, 60, -1, False)], 2: [(1.0, 80, -1, False)], 3: [(1.0, 40, -1, False)], 4: [(1.0, 60, -10, False)], 5: [(1.0, 60, -10, False)]}, 61: {0: [(1.0, 161, -1, False)], 1: [(1.0, 61, -1, False)], 2: [(1.0, 81, -1, False)], 3: [(1.0, 41, -1, False)], 4: [(1.0, 61, -10, False)], 5: [(1.0, 61, -10, False)]}, 62: {0: [(1.0, 162, -1, False)], 1: [(1.0, 62, -1, False)], 2: [(1.0, 82, -1, False)], 3: [(1.0, 42, -1, False)], 4: [(1.0, 62, -10, False)], 5: [(1.0, 62, -10, False)]}, 63: {0: [(1.0, 163, -1, False)], 1: [(1.0, 63, -1, False)], 2: [(1.0, 83, -1, False)], 3: [(1.0, 43, -1, False)], 4: [(1.0, 63, -10, False)], 5: [(1.0, 63, -10, False)]}, 64: {0: [(1.0, 164, -1, False)], 1: [(1.0, 64, -1, False)], 2: [(1.0, 84, -1, False)], 3: [(1.0, 44, -1, False)], 4: [(1.0, 64, -10, False)], 5: [(1.0, 64, -10, False)]}, 65: {0: [(1.0, 165, -1, False)], 1: [(1.0, 65, -1, False)], 2: [(1.0, 85, -1, False)], 3: [(1.0, 45, -1, False)], 4: [(1.0, 65, -10, False)], 5: [(1.0, 65, -10, False)]}, 66: {0: [(1.0, 166, -1, False)], 1: [(1.0, 66, -1, False)], 2: [(1.0, 86, -1, False)], 3: [(1.0, 46, -1, False)], 4: [(1.0, 66, -10, False)], 5: [(1.0, 66, -10, False)]}, 67: {0: [(1.0, 167, -1, False)], 1: [(1.0, 67, -1, False)], 2: [(1.0, 87, -1, False)], 3: [(1.0, 47, -1, False)], 4: [(1.0, 67, -10, False)], 5: [(1.0, 67, -10, False)]}, 68: {0: [(1.0, 168, -1, False)], 1: [(1.0, 68, -1, False)], 2: [(1.0, 88, -1, False)], 3: [(1.0, 48, -1, False)], 4: [(1.0, 68, -10, False)], 5: [(1.0, 68, -10, False)]}, 69: {0: [(1.0, 169, -1, False)], 1: [(1.0, 69, -1, False)], 2: [(1.0, 89, -1, False)], 3: [(1.0, 49, -1, False)], 4: [(1.0, 69, -10, False)], 5: [(1.0, 69, -10, False)]}, 70: {0: [(1.0, 170, -1, False)], 1: [(1.0, 70, -1, False)], 2: [(1.0, 90, -1, False)], 3: [(1.0, 50, -1, False)], 4: [(1.0, 70, -10, False)], 5: [(1.0, 70, -10, False)]}, 71: {0: [(1.0, 171, -1, False)], 1: [(1.0, 71, -1, False)], 2: [(1.0, 91, -1, False)], 3: [(1.0, 51, -1, False)], 4: [(1.0, 71, -10, False)], 5: [(1.0, 71, -10, False)]}, 72: {0: [(1.0, 172, -1, False)], 1: [(1.0, 72, -1, False)], 2: [(1.0, 92, -1, False)], 3: [(1.0, 52, -1, False)], 4: [(1.0, 72, -10, False)], 5: [(1.0, 72, -10, False)]}, 73: {0: [(1.0, 173, -1, False)], 1: [(1.0, 73, -1, False)], 2: [(1.0, 93, -1, False)], 3: [(1.0, 53, -1, False)], 4: [(1.0, 73, -10, False)], 5: [(1.0, 73, -10, False)]}, 74: {0: [(1.0, 174, -1, False)], 1: [(1.0, 74, -1, False)], 2: [(1.0, 94, -1, False)], 3: [(1.0, 54, -1, False)], 4: [(1.0, 74, -10, False)], 5: [(1.0, 74, -10, False)]}, 75: {0: [(1.0, 175, -1, False)], 1: [(1.0, 75, -1, False)], 2: [(1.0, 95, -1, False)], 3: [(1.0, 55, -1, False)], 4: [(1.0, 75, -10, False)], 5: [(1.0, 75, -10, False)]}, 76: {0: [(1.0, 176, -1, False)], 1: [(1.0, 76, -1, False)], 2: [(1.0, 96, -1, False)], 3: [(1.0, 56, -1, False)], 4: [(1.0, 76, -10, False)], 5: [(1.0, 76, -10, False)]}, 77: {0: [(1.0, 177, -1, False)], 1: [(1.0, 77, -1, False)], 2: [(1.0, 97, -1, False)], 3: [(1.0, 57, -1, False)], 4: [(1.0, 77, -10, False)], 5: [(1.0, 77, -10, False)]}, 78: {0: [(1.0, 178, -1, False)], 1: [(1.0, 78, -1, False)], 2: [(1.0, 98, -1, False)], 3: [(1.0, 58, -1, False)], 4: [(1.0, 78, -10, False)], 5: [(1.0, 78, -10, False)]}, 79: {0: [(1.0, 179, -1, False)], 1: [(1.0, 79, -1, False)], 2: [(1.0, 99, -1, False)], 3: [(1.0, 59, -1, False)], 4: [(1.0, 79, -10, False)], 5: [(1.0, 79, -10, False)]}, 80: {0: [(1.0, 180, -1, False)], 1: [(1.0, 80, -1, False)], 2: [(1.0, 80, -1, False)], 3: [(1.0, 60, -1, False)], 4: [(1.0, 80, -10, False)], 5: [(1.0, 80, -10, False)]}, 81: {0: [(1.0, 181, -1, False)], 1: [(1.0, 81, -1, False)], 2: [(1.0, 81, -1, False)], 3: [(1.0, 61, -1, False)], 4: [(1.0, 81, -10, False)], 5: [(1.0, 81, -10, False)]}, 82: {0: [(1.0, 182, -1, False)], 1: [(1.0, 82, -1, False)], 2: [(1.0, 82, -1, False)], 3: [(1.0, 62, -1, False)], 4: [(1.0, 82, -10, False)], 5: [(1.0, 82, -10, False)]}, 83: {0: [(1.0, 183, -1, False)], 1: [(1.0, 83, -1, False)], 2: [(1.0, 83, -1, False)], 3: [(1.0, 63, -1, False)], 4: [(1.0, 83, -10, False)], 5: [(1.0, 83, -10, False)]}, 84: {0: [(1.0, 184, -1, False)], 1: [(1.0, 84, -1, False)], 2: [(1.0, 84, -1, False)], 3: [(1.0, 64, -1, False)], 4: [(1.0, 96, -1, False)], 5: [(1.0, 84, -10, False)]}, 85: {0: [(1.0, 185, -1, False)], 1: [(1.0, 85, -1, False)], 2: [(1.0, 85, -1, False)], 3: [(1.0, 65, -1, False)], 4: [(1.0, 97, -1, False)], 5: [(1.0, 85, -10, False)]}, 86: {0: [(1.0, 186, -1, False)], 1: [(1.0, 86, -1, False)], 2: [(1.0, 86, -1, False)], 3: [(1.0, 66, -1, False)], 4: [(1.0, 98, -1, False)], 5: [(1.0, 86, -10, False)]}, 87: {0: [(1.0, 187, -1, False)], 1: [(1.0, 87, -1, False)], 2: [(1.0, 87, -1, False)], 3: [(1.0, 67, -1, False)], 4: [(1.0, 99, -1, False)], 5: [(1.0, 87, -10, False)]}, 88: {0: [(1.0, 188, -1, False)], 1: [(1.0, 88, -1, False)], 2: [(1.0, 88, -1, False)], 3: [(1.0, 68, -1, False)], 4: [(1.0, 88, -10, False)], 5: [(1.0, 88, -10, False)]}, 89: {0: [(1.0, 189, -1, False)], 1: [(1.0, 89, -1, False)], 2: [(1.0, 89, -1, False)], 3: [(1.0, 69, -1, False)], 4: [(1.0, 89, -10, False)], 5: [(1.0, 89, -10, False)]}, 90: {0: [(1.0, 190, -1, False)], 1: [(1.0, 90, -1, False)], 2: [(1.0, 90, -1, False)], 3: [(1.0, 70, -1, False)], 4: [(1.0, 90, -10, False)], 5: [(1.0, 90, -10, False)]}, 91: {0: [(1.0, 191, -1, False)], 1: [(1.0, 91, -1, False)], 2: [(1.0, 91, -1, False)], 3: [(1.0, 71, -1, False)], 4: [(1.0, 91, -10, False)], 5: [(1.0, 91, -10, False)]}, 92: {0: [(1.0, 192, -1, False)], 1: [(1.0, 92, -1, False)], 2: [(1.0, 92, -1, False)], 3: [(1.0, 72, -1, False)], 4: [(1.0, 92, -10, False)], 5: [(1.0, 92, -10, False)]}, 93: {0: [(1.0, 193, -1, False)], 1: [(1.0, 93, -1, False)], 2: [(1.0, 93, -1, False)], 3: [(1.0, 73, -1, False)], 4: [(1.0, 93, -10, False)], 5: [(1.0, 93, -10, False)]}, 94: {0: [(1.0, 194, -1, False)], 1: [(1.0, 94, -1, False)], 2: [(1.0, 94, -1, False)], 3: [(1.0, 74, -1, False)], 4: [(1.0, 94, -10, False)], 5: [(1.0, 94, -10, False)]}, 95: {0: [(1.0, 195, -1, False)], 1: [(1.0, 95, -1, False)], 2: [(1.0, 95, -1, False)], 3: [(1.0, 75, -1, False)], 4: [(1.0, 95, -10, False)], 5: [(1.0, 95, -10, False)]}, 96: {0: [(1.0, 196, -1, False)], 1: [(1.0, 96, -1, False)], 2: [(1.0, 96, -1, False)], 3: [(1.0, 76, -1, False)], 4: [(1.0, 96, -10, False)], 5: [(1.0, 84, -1, False)]}, 97: {0: [(1.0, 197, -1, False)], 1: [(1.0, 97, -1, False)], 2: [(1.0, 97, -1, False)], 3: [(1.0, 77, -1, False)], 4: [(1.0, 97, -10, False)], 5: [(1.0, 85, 20, True)]}, 98: {0: [(1.0, 198, -1, False)], 1: [(1.0, 98, -1, False)], 2: [(1.0, 98, -1, False)], 3: [(1.0, 78, -1, False)], 4: [(1.0, 98, -10, False)], 5: [(1.0, 86, -1, False)]}, 99: {0: [(1.0, 199, -1, False)], 1: [(1.0, 99, -1, False)], 2: [(1.0, 99, -1, False)], 3: [(1.0, 79, -1, False)], 4: [(1.0, 99, -10, False)], 5: [(1.0, 87, -1, False)]}, 100: {0: [(1.0, 200, -1, False)], 1: [(1.0, 0, -1, False)], 2: [(1.0, 120, -1, False)], 3: [(1.0, 100, -1, False)], 4: [(1.0, 100, -10, False)], 5: [(1.0, 100, -10, False)]}, 101: {0: [(1.0, 201, -1, False)], 1: [(1.0, 1, -1, False)], 2: [(1.0, 121, -1, False)], 3: [(1.0, 101, -1, False)], 4: [(1.0, 101, -10, False)], 5: [(1.0, 101, -10, False)]}, 102: {0: [(1.0, 202, -1, False)], 1: [(1.0, 2, -1, False)], 2: [(1.0, 122, -1, False)], 3: [(1.0, 102, -1, False)], 4: [(1.0, 102, -10, False)], 5: [(1.0, 102, -10, False)]}, 103: {0: [(1.0, 203, -1, False)], 1: [(1.0, 3, -1, False)], 2: [(1.0, 123, -1, False)], 3: [(1.0, 103, -1, False)], 4: [(1.0, 103, -10, False)], 5: [(1.0, 103, -10, False)]}, 104: {0: [(1.0, 204, -1, False)], 1: [(1.0, 4, -1, False)], 2: [(1.0, 124, -1, False)], 3: [(1.0, 104, -1, False)], 4: [(1.0, 104, -10, False)], 5: [(1.0, 104, -10, False)]}, 105: {0: [(1.0, 205, -1, False)], 1: [(1.0, 5, -1, False)], 2: [(1.0, 125, -1, False)], 3: [(1.0, 105, -1, False)], 4: [(1.0, 105, -10, False)], 5: [(1.0, 105, -10, False)]}, 106: {0: [(1.0, 206, -1, False)], 1: [(1.0, 6, -1, False)], 2: [(1.0, 126, -1, False)], 3: [(1.0, 106, -1, False)], 4: [(1.0, 106, -10, False)], 5: [(1.0, 106, -10, False)]}, 107: {0: [(1.0, 207, -1, False)], 1: [(1.0, 7, -1, False)], 2: [(1.0, 127, -1, False)], 3: [(1.0, 107, -1, False)], 4: [(1.0, 107, -10, False)], 5: [(1.0, 107, -10, False)]}, 108: {0: [(1.0, 208, -1, False)], 1: [(1.0, 8, -1, False)], 2: [(1.0, 128, -1, False)], 3: [(1.0, 108, -1, False)], 4: [(1.0, 108, -10, False)], 5: [(1.0, 108, -10, False)]}, 109: {0: [(1.0, 209, -1, False)], 1: [(1.0, 9, -1, False)], 2: [(1.0, 129, -1, False)], 3: [(1.0, 109, -1, False)], 4: [(1.0, 109, -10, False)], 5: [(1.0, 109, -10, False)]}, 110: {0: [(1.0, 210, -1, False)], 1: [(1.0, 10, -1, False)], 2: [(1.0, 130, -1, False)], 3: [(1.0, 110, -1, False)], 4: [(1.0, 110, -10, False)], 5: [(1.0, 110, -10, False)]}, 111: {0: [(1.0, 211, -1, False)], 1: [(1.0, 11, -1, False)], 2: [(1.0, 131, -1, False)], 3: [(1.0, 111, -1, False)], 4: [(1.0, 111, -10, False)], 5: [(1.0, 111, -10, False)]}, 112: {0: [(1.0, 212, -1, False)], 1: [(1.0, 12, -1, False)], 2: [(1.0, 132, -1, False)], 3: [(1.0, 112, -1, False)], 4: [(1.0, 112, -10, False)], 5: [(1.0, 112, -10, False)]}, 113: {0: [(1.0, 213, -1, False)], 1: [(1.0, 13, -1, False)], 2: [(1.0, 133, -1, False)], 3: [(1.0, 113, -1, False)], 4: [(1.0, 113, -10, False)], 5: [(1.0, 113, -10, False)]}, 114: {0: [(1.0, 214, -1, False)], 1: [(1.0, 14, -1, False)], 2: [(1.0, 134, -1, False)], 3: [(1.0, 114, -1, False)], 4: [(1.0, 114, -10, False)], 5: [(1.0, 114, -10, False)]}, 115: {0: [(1.0, 215, -1, False)], 1: [(1.0, 15, -1, False)], 2: [(1.0, 135, -1, False)], 3: [(1.0, 115, -1, False)], 4: [(1.0, 115, -10, False)], 5: [(1.0, 115, -10, False)]}, 116: {0: [(1.0, 216, -1, False)], 1: [(1.0, 16, -1, False)], 2: [(1.0, 136, -1, False)], 3: [(1.0, 116, -1, False)], 4: [(1.0, 116, -10, False)], 5: [(1.0, 116, -10, False)]}, 117: {0: [(1.0, 217, -1, False)], 1: [(1.0, 17, -1, False)], 2: [(1.0, 137, -1, False)], 3: [(1.0, 117, -1, False)], 4: [(1.0, 117, -10, False)], 5: [(1.0, 117, -10, False)]}, 118: {0: [(1.0, 218, -1, False)], 1: [(1.0, 18, -1, False)], 2: [(1.0, 138, -1, False)], 3: [(1.0, 118, -1, False)], 4: [(1.0, 118, -10, False)], 5: [(1.0, 118, -10, False)]}, 119: {0: [(1.0, 219, -1, False)], 1: [(1.0, 19, -1, False)], 2: [(1.0, 139, -1, False)], 3: [(1.0, 119, -1, False)], 4: [(1.0, 119, -10, False)], 5: [(1.0, 119, -10, False)]}, 120: {0: [(1.0, 220, -1, False)], 1: [(1.0, 20, -1, False)], 2: [(1.0, 120, -1, False)], 3: [(1.0, 100, -1, False)], 4: [(1.0, 120, -10, False)], 5: [(1.0, 120, -10, False)]}, 121: {0: [(1.0, 221, -1, False)], 1: [(1.0, 21, -1, False)], 2: [(1.0, 121, -1, False)], 3: [(1.0, 101, -1, False)], 4: [(1.0, 121, -10, False)], 5: [(1.0, 121, -10, False)]}, 122: {0: [(1.0, 222, -1, False)], 1: [(1.0, 22, -1, False)], 2: [(1.0, 122, -1, False)], 3: [(1.0, 102, -1, False)], 4: [(1.0, 122, -10, False)], 5: [(1.0, 122, -10, False)]}, 123: {0: [(1.0, 223, -1, False)], 1: [(1.0, 23, -1, False)], 2: [(1.0, 123, -1, False)], 3: [(1.0, 103, -1, False)], 4: [(1.0, 123, -10, False)], 5: [(1.0, 123, -10, False)]}, 124: {0: [(1.0, 224, -1, False)], 1: [(1.0, 24, -1, False)], 2: [(1.0, 124, -1, False)], 3: [(1.0, 104, -1, False)], 4: [(1.0, 124, -10, False)], 5: [(1.0, 124, -10, False)]}, 125: {0: [(1.0, 225, -1, False)], 1: [(1.0, 25, -1, False)], 2: [(1.0, 125, -1, False)], 3: [(1.0, 105, -1, False)], 4: [(1.0, 125, -10, False)], 5: [(1.0, 125, -10, False)]}, 126: {0: [(1.0, 226, -1, False)], 1: [(1.0, 26, -1, False)], 2: [(1.0, 126, -1, False)], 3: [(1.0, 106, -1, False)], 4: [(1.0, 126, -10, False)], 5: [(1.0, 126, -10, False)]}, 127: {0: [(1.0, 227, -1, False)], 1: [(1.0, 27, -1, False)], 2: [(1.0, 127, -1, False)], 3: [(1.0, 107, -1, False)], 4: [(1.0, 127, -10, False)], 5: [(1.0, 127, -10, False)]}, 128: {0: [(1.0, 228, -1, False)], 1: [(1.0, 28, -1, False)], 2: [(1.0, 128, -1, False)], 3: [(1.0, 108, -1, False)], 4: [(1.0, 128, -10, False)], 5: [(1.0, 128, -10, False)]}, 129: {0: [(1.0, 229, -1, False)], 1: [(1.0, 29, -1, False)], 2: [(1.0, 129, -1, False)], 3: [(1.0, 109, -1, False)], 4: [(1.0, 129, -10, False)], 5: [(1.0, 129, -10, False)]}, 130: {0: [(1.0, 230, -1, False)], 1: [(1.0, 30, -1, False)], 2: [(1.0, 130, -1, False)], 3: [(1.0, 110, -1, False)], 4: [(1.0, 130, -10, False)], 5: [(1.0, 130, -10, False)]}, 131: {0: [(1.0, 231, -1, False)], 1: [(1.0, 31, -1, False)], 2: [(1.0, 131, -1, False)], 3: [(1.0, 111, -1, False)], 4: [(1.0, 131, -10, False)], 5: [(1.0, 131, -10, False)]}, 132: {0: [(1.0, 232, -1, False)], 1: [(1.0, 32, -1, False)], 2: [(1.0, 132, -1, False)], 3: [(1.0, 112, -1, False)], 4: [(1.0, 132, -10, False)], 5: [(1.0, 132, -10, False)]}, 133: {0: [(1.0, 233, -1, False)], 1: [(1.0, 33, -1, False)], 2: [(1.0, 133, -1, False)], 3: [(1.0, 113, -1, False)], 4: [(1.0, 133, -10, False)], 5: [(1.0, 133, -10, False)]}, 134: {0: [(1.0, 234, -1, False)], 1: [(1.0, 34, -1, False)], 2: [(1.0, 134, -1, False)], 3: [(1.0, 114, -1, False)], 4: [(1.0, 134, -10, False)], 5: [(1.0, 134, -10, False)]}, 135: {0: [(1.0, 235, -1, False)], 1: [(1.0, 35, -1, False)], 2: [(1.0, 135, -1, False)], 3: [(1.0, 115, -1, False)], 4: [(1.0, 135, -10, False)], 5: [(1.0, 135, -10, False)]}, 136: {0: [(1.0, 236, -1, False)], 1: [(1.0, 36, -1, False)], 2: [(1.0, 136, -1, False)], 3: [(1.0, 116, -1, False)], 4: [(1.0, 136, -10, False)], 5: [(1.0, 136, -10, False)]}, 137: {0: [(1.0, 237, -1, False)], 1: [(1.0, 37, -1, False)], 2: [(1.0, 137, -1, False)], 3: [(1.0, 117, -1, False)], 4: [(1.0, 137, -10, False)], 5: [(1.0, 137, -10, False)]}, 138: {0: [(1.0, 238, -1, False)], 1: [(1.0, 38, -1, False)], 2: [(1.0, 138, -1, False)], 3: [(1.0, 118, -1, False)], 4: [(1.0, 138, -10, False)], 5: [(1.0, 138, -10, False)]}, 139: {0: [(1.0, 239, -1, False)], 1: [(1.0, 39, -1, False)], 2: [(1.0, 139, -1, False)], 3: [(1.0, 119, -1, False)], 4: [(1.0, 139, -10, False)], 5: [(1.0, 139, -10, False)]}, 140: {0: [(1.0, 240, -1, False)], 1: [(1.0, 40, -1, False)], 2: [(1.0, 160, -1, False)], 3: [(1.0, 140, -1, False)], 4: [(1.0, 140, -10, False)], 5: [(1.0, 140, -10, False)]}, 141: {0: [(1.0, 241, -1, False)], 1: [(1.0, 41, -1, False)], 2: [(1.0, 161, -1, False)], 3: [(1.0, 141, -1, False)], 4: [(1.0, 141, -10, False)], 5: [(1.0, 141, -10, False)]}, 142: {0: [(1.0, 242, -1, False)], 1: [(1.0, 42, -1, False)], 2: [(1.0, 162, -1, False)], 3: [(1.0, 142, -1, False)], 4: [(1.0, 142, -10, False)], 5: [(1.0, 142, -10, False)]}, 143: {0: [(1.0, 243, -1, False)], 1: [(1.0, 43, -1, False)], 2: [(1.0, 163, -1, False)], 3: [(1.0, 143, -1, False)], 4: [(1.0, 143, -10, False)], 5: [(1.0, 143, -10, False)]}, 144: {0: [(1.0, 244, -1, False)], 1: [(1.0, 44, -1, False)], 2: [(1.0, 164, -1, False)], 3: [(1.0, 144, -1, False)], 4: [(1.0, 144, -10, False)], 5: [(1.0, 144, -10, False)]}, 145: {0: [(1.0, 245, -1, False)], 1: [(1.0, 45, -1, False)], 2: [(1.0, 165, -1, False)], 3: [(1.0, 145, -1, False)], 4: [(1.0, 145, -10, False)], 5: [(1.0, 145, -10, False)]}, 146: {0: [(1.0, 246, -1, False)], 1: [(1.0, 46, -1, False)], 2: [(1.0, 166, -1, False)], 3: [(1.0, 146, -1, False)], 4: [(1.0, 146, -10, False)], 5: [(1.0, 146, -10, False)]}, 147: {0: [(1.0, 247, -1, False)], 1: [(1.0, 47, -1, False)], 2: [(1.0, 167, -1, False)], 3: [(1.0, 147, -1, False)], 4: [(1.0, 147, -10, False)], 5: [(1.0, 147, -10, False)]}, 148: {0: [(1.0, 248, -1, False)], 1: [(1.0, 48, -1, False)], 2: [(1.0, 168, -1, False)], 3: [(1.0, 148, -1, False)], 4: [(1.0, 148, -10, False)], 5: [(1.0, 148, -10, False)]}, 149: {0: [(1.0, 249, -1, False)], 1: [(1.0, 49, -1, False)], 2: [(1.0, 169, -1, False)], 3: [(1.0, 149, -1, False)], 4: [(1.0, 149, -10, False)], 5: [(1.0, 149, -10, False)]}, 150: {0: [(1.0, 250, -1, False)], 1: [(1.0, 50, -1, False)], 2: [(1.0, 170, -1, False)], 3: [(1.0, 150, -1, False)], 4: [(1.0, 150, -10, False)], 5: [(1.0, 150, -10, False)]}, 151: {0: [(1.0, 251, -1, False)], 1: [(1.0, 51, -1, False)], 2: [(1.0, 171, -1, False)], 3: [(1.0, 151, -1, False)], 4: [(1.0, 151, -10, False)], 5: [(1.0, 151, -10, False)]}, 152: {0: [(1.0, 252, -1, False)], 1: [(1.0, 52, -1, False)], 2: [(1.0, 172, -1, False)], 3: [(1.0, 152, -1, False)], 4: [(1.0, 152, -10, False)], 5: [(1.0, 152, -10, False)]}, 153: {0: [(1.0, 253, -1, False)], 1: [(1.0, 53, -1, False)], 2: [(1.0, 173, -1, False)], 3: [(1.0, 153, -1, False)], 4: [(1.0, 153, -10, False)], 5: [(1.0, 153, -10, False)]}, 154: {0: [(1.0, 254, -1, False)], 1: [(1.0, 54, -1, False)], 2: [(1.0, 174, -1, False)], 3: [(1.0, 154, -1, False)], 4: [(1.0, 154, -10, False)], 5: [(1.0, 154, -10, False)]}, 155: {0: [(1.0, 255, -1, False)], 1: [(1.0, 55, -1, False)], 2: [(1.0, 175, -1, False)], 3: [(1.0, 155, -1, False)], 4: [(1.0, 155, -10, False)], 5: [(1.0, 155, -10, False)]}, 156: {0: [(1.0, 256, -1, False)], 1: [(1.0, 56, -1, False)], 2: [(1.0, 176, -1, False)], 3: [(1.0, 156, -1, False)], 4: [(1.0, 156, -10, False)], 5: [(1.0, 156, -10, False)]}, 157: {0: [(1.0, 257, -1, False)], 1: [(1.0, 57, -1, False)], 2: [(1.0, 177, -1, False)], 3: [(1.0, 157, -1, False)], 4: [(1.0, 157, -10, False)], 5: [(1.0, 157, -10, False)]}, 158: {0: [(1.0, 258, -1, False)], 1: [(1.0, 58, -1, False)], 2: [(1.0, 178, -1, False)], 3: [(1.0, 158, -1, False)], 4: [(1.0, 158, -10, False)], 5: [(1.0, 158, -10, False)]}, 159: {0: [(1.0, 259, -1, False)], 1: [(1.0, 59, -1, False)], 2: [(1.0, 179, -1, False)], 3: [(1.0, 159, -1, False)], 4: [(1.0, 159, -10, False)], 5: [(1.0, 159, -10, False)]}, 160: {0: [(1.0, 260, -1, False)], 1: [(1.0, 60, -1, False)], 2: [(1.0, 180, -1, False)], 3: [(1.0, 140, -1, False)], 4: [(1.0, 160, -10, False)], 5: [(1.0, 160, -10, False)]}, 161: {0: [(1.0, 261, -1, False)], 1: [(1.0, 61, -1, False)], 2: [(1.0, 181, -1, False)], 3: [(1.0, 141, -1, False)], 4: [(1.0, 161, -10, False)], 5: [(1.0, 161, -10, False)]}, 162: {0: [(1.0, 262, -1, False)], 1: [(1.0, 62, -1, False)], 2: [(1.0, 182, -1, False)], 3: [(1.0, 142, -1, False)], 4: [(1.0, 162, -10, False)], 5: [(1.0, 162, -10, False)]}, 163: {0: [(1.0, 263, -1, False)], 1: [(1.0, 63, -1, False)], 2: [(1.0, 183, -1, False)], 3: [(1.0, 143, -1, False)], 4: [(1.0, 163, -10, False)], 5: [(1.0, 163, -10, False)]}, 164: {0: [(1.0, 264, -1, False)], 1: [(1.0, 64, -1, False)], 2: [(1.0, 184, -1, False)], 3: [(1.0, 144, -1, False)], 4: [(1.0, 164, -10, False)], 5: [(1.0, 164, -10, False)]}, 165: {0: [(1.0, 265, -1, False)], 1: [(1.0, 65, -1, False)], 2: [(1.0, 185, -1, False)], 3: [(1.0, 145, -1, False)], 4: [(1.0, 165, -10, False)], 5: [(1.0, 165, -10, False)]}, 166: {0: [(1.0, 266, -1, False)], 1: [(1.0, 66, -1, False)], 2: [(1.0, 186, -1, False)], 3: [(1.0, 146, -1, False)], 4: [(1.0, 166, -10, False)], 5: [(1.0, 166, -10, False)]}, 167: {0: [(1.0, 267, -1, False)], 1: [(1.0, 67, -1, False)], 2: [(1.0, 187, -1, False)], 3: [(1.0, 147, -1, False)], 4: [(1.0, 167, -10, False)], 5: [(1.0, 167, -10, False)]}, 168: {0: [(1.0, 268, -1, False)], 1: [(1.0, 68, -1, False)], 2: [(1.0, 188, -1, False)], 3: [(1.0, 148, -1, False)], 4: [(1.0, 168, -10, False)], 5: [(1.0, 168, -10, False)]}, 169: {0: [(1.0, 269, -1, False)], 1: [(1.0, 69, -1, False)], 2: [(1.0, 189, -1, False)], 3: [(1.0, 149, -1, False)], 4: [(1.0, 169, -10, False)], 5: [(1.0, 169, -10, False)]}, 170: {0: [(1.0, 270, -1, False)], 1: [(1.0, 70, -1, False)], 2: [(1.0, 190, -1, False)], 3: [(1.0, 150, -1, False)], 4: [(1.0, 170, -10, False)], 5: [(1.0, 170, -10, False)]}, 171: {0: [(1.0, 271, -1, False)], 1: [(1.0, 71, -1, False)], 2: [(1.0, 191, -1, False)], 3: [(1.0, 151, -1, False)], 4: [(1.0, 171, -10, False)], 5: [(1.0, 171, -10, False)]}, 172: {0: [(1.0, 272, -1, False)], 1: [(1.0, 72, -1, False)], 2: [(1.0, 192, -1, False)], 3: [(1.0, 152, -1, False)], 4: [(1.0, 172, -10, False)], 5: [(1.0, 172, -10, False)]}, 173: {0: [(1.0, 273, -1, False)], 1: [(1.0, 73, -1, False)], 2: [(1.0, 193, -1, False)], 3: [(1.0, 153, -1, False)], 4: [(1.0, 173, -10, False)], 5: [(1.0, 173, -10, False)]}, 174: {0: [(1.0, 274, -1, False)], 1: [(1.0, 74, -1, False)], 2: [(1.0, 194, -1, False)], 3: [(1.0, 154, -1, False)], 4: [(1.0, 174, -10, False)], 5: [(1.0, 174, -10, False)]}, 175: {0: [(1.0, 275, -1, False)], 1: [(1.0, 75, -1, False)], 2: [(1.0, 195, -1, False)], 3: [(1.0, 155, -1, False)], 4: [(1.0, 175, -10, False)], 5: [(1.0, 175, -10, False)]}, 176: {0: [(1.0, 276, -1, False)], 1: [(1.0, 76, -1, False)], 2: [(1.0, 196, -1, False)], 3: [(1.0, 156, -1, False)], 4: [(1.0, 176, -10, False)], 5: [(1.0, 176, -10, False)]}, 177: {0: [(1.0, 277, -1, False)], 1: [(1.0, 77, -1, False)], 2: [(1.0, 197, -1, False)], 3: [(1.0, 157, -1, False)], 4: [(1.0, 177, -10, False)], 5: [(1.0, 177, -10, False)]}, 178: {0: [(1.0, 278, -1, False)], 1: [(1.0, 78, -1, False)], 2: [(1.0, 198, -1, False)], 3: [(1.0, 158, -1, False)], 4: [(1.0, 178, -10, False)], 5: [(1.0, 178, -10, False)]}, 179: {0: [(1.0, 279, -1, False)], 1: [(1.0, 79, -1, False)], 2: [(1.0, 199, -1, False)], 3: [(1.0, 159, -1, False)], 4: [(1.0, 179, -10, False)], 5: [(1.0, 179, -10, False)]}, 180: {0: [(1.0, 280, -1, False)], 1: [(1.0, 80, -1, False)], 2: [(1.0, 180, -1, False)], 3: [(1.0, 160, -1, False)], 4: [(1.0, 180, -10, False)], 5: [(1.0, 180, -10, False)]}, 181: {0: [(1.0, 281, -1, False)], 1: [(1.0, 81, -1, False)], 2: [(1.0, 181, -1, False)], 3: [(1.0, 161, -1, False)], 4: [(1.0, 181, -10, False)], 5: [(1.0, 181, -10, False)]}, 182: {0: [(1.0, 282, -1, False)], 1: [(1.0, 82, -1, False)], 2: [(1.0, 182, -1, False)], 3: [(1.0, 162, -1, False)], 4: [(1.0, 182, -10, False)], 5: [(1.0, 182, -10, False)]}, 183: {0: [(1.0, 283, -1, False)], 1: [(1.0, 83, -1, False)], 2: [(1.0, 183, -1, False)], 3: [(1.0, 163, -1, False)], 4: [(1.0, 183, -10, False)], 5: [(1.0, 183, -10, False)]}, 184: {0: [(1.0, 284, -1, False)], 1: [(1.0, 84, -1, False)], 2: [(1.0, 184, -1, False)], 3: [(1.0, 164, -1, False)], 4: [(1.0, 184, -10, False)], 5: [(1.0, 184, -10, False)]}, 185: {0: [(1.0, 285, -1, False)], 1: [(1.0, 85, -1, False)], 2: [(1.0, 185, -1, False)], 3: [(1.0, 165, -1, False)], 4: [(1.0, 185, -10, False)], 5: [(1.0, 185, -10, False)]}, 186: {0: [(1.0, 286, -1, False)], 1: [(1.0, 86, -1, False)], 2: [(1.0, 186, -1, False)], 3: [(1.0, 166, -1, False)], 4: [(1.0, 186, -10, False)], 5: [(1.0, 186, -10, False)]}, 187: {0: [(1.0, 287, -1, False)], 1: [(1.0, 87, -1, False)], 2: [(1.0, 187, -1, False)], 3: [(1.0, 167, -1, False)], 4: [(1.0, 187, -10, False)], 5: [(1.0, 187, -10, False)]}, 188: {0: [(1.0, 288, -1, False)], 1: [(1.0, 88, -1, False)], 2: [(1.0, 188, -1, False)], 3: [(1.0, 168, -1, False)], 4: [(1.0, 188, -10, False)], 5: [(1.0, 188, -10, False)]}, 189: {0: [(1.0, 289, -1, False)], 1: [(1.0, 89, -1, False)], 2: [(1.0, 189, -1, False)], 3: [(1.0, 169, -1, False)], 4: [(1.0, 189, -10, False)], 5: [(1.0, 189, -10, False)]}, 190: {0: [(1.0, 290, -1, False)], 1: [(1.0, 90, -1, False)], 2: [(1.0, 190, -1, False)], 3: [(1.0, 170, -1, False)], 4: [(1.0, 190, -10, False)], 5: [(1.0, 190, -10, False)]}, 191: {0: [(1.0, 291, -1, False)], 1: [(1.0, 91, -1, False)], 2: [(1.0, 191, -1, False)], 3: [(1.0, 171, -1, False)], 4: [(1.0, 191, -10, False)], 5: [(1.0, 191, -10, False)]}, 192: {0: [(1.0, 292, -1, False)], 1: [(1.0, 92, -1, False)], 2: [(1.0, 192, -1, False)], 3: [(1.0, 172, -1, False)], 4: [(1.0, 192, -10, False)], 5: [(1.0, 192, -10, False)]}, 193: {0: [(1.0, 293, -1, False)], 1: [(1.0, 93, -1, False)], 2: [(1.0, 193, -1, False)], 3: [(1.0, 173, -1, False)], 4: [(1.0, 193, -10, False)], 5: [(1.0, 193, -10, False)]}, 194: {0: [(1.0, 294, -1, False)], 1: [(1.0, 94, -1, False)], 2: [(1.0, 194, -1, False)], 3: [(1.0, 174, -1, False)], 4: [(1.0, 194, -10, False)], 5: [(1.0, 194, -10, False)]}, 195: {0: [(1.0, 295, -1, False)], 1: [(1.0, 95, -1, False)], 2: [(1.0, 195, -1, False)], 3: [(1.0, 175, -1, False)], 4: [(1.0, 195, -10, False)], 5: [(1.0, 195, -10, False)]}, 196: {0: [(1.0, 296, -1, False)], 1: [(1.0, 96, -1, False)], 2: [(1.0, 196, -1, False)], 3: [(1.0, 176, -1, False)], 4: [(1.0, 196, -10, False)], 5: [(1.0, 196, -10, False)]}, 197: {0: [(1.0, 297, -1, False)], 1: [(1.0, 97, -1, False)], 2: [(1.0, 197, -1, False)], 3: [(1.0, 177, -1, False)], 4: [(1.0, 197, -10, False)], 5: [(1.0, 197, -10, False)]}, 198: {0: [(1.0, 298, -1, False)], 1: [(1.0, 98, -1, False)], 2: [(1.0, 198, -1, False)], 3: [(1.0, 178, -1, False)], 4: [(1.0, 198, -10, False)], 5: [(1.0, 198, -10, False)]}, 199: {0: [(1.0, 299, -1, False)], 1: [(1.0, 99, -1, False)], 2: [(1.0, 199, -1, False)], 3: [(1.0, 179, -1, False)], 4: [(1.0, 199, -10, False)], 5: [(1.0, 199, -10, False)]}, 200: {0: [(1.0, 300, -1, False)], 1: [(1.0, 100, -1, False)], 2: [(1.0, 220, -1, False)], 3: [(1.0, 200, -1, False)], 4: [(1.0, 200, -10, False)], 5: [(1.0, 200, -10, False)]}, 201: {0: [(1.0, 301, -1, False)], 1: [(1.0, 101, -1, False)], 2: [(1.0, 221, -1, False)], 3: [(1.0, 201, -1, False)], 4: [(1.0, 201, -10, False)], 5: [(1.0, 201, -10, False)]}, 202: {0: [(1.0, 302, -1, False)], 1: [(1.0, 102, -1, False)], 2: [(1.0, 222, -1, False)], 3: [(1.0, 202, -1, False)], 4: [(1.0, 202, -10, False)], 5: [(1.0, 202, -10, False)]}, 203: {0: [(1.0, 303, -1, False)], 1: [(1.0, 103, -1, False)], 2: [(1.0, 223, -1, False)], 3: [(1.0, 203, -1, False)], 4: [(1.0, 203, -10, False)], 5: [(1.0, 203, -10, False)]}, 204: {0: [(1.0, 304, -1, False)], 1: [(1.0, 104, -1, False)], 2: [(1.0, 224, -1, False)], 3: [(1.0, 204, -1, False)], 4: [(1.0, 204, -10, False)], 5: [(1.0, 204, -10, False)]}, 205: {0: [(1.0, 305, -1, False)], 1: [(1.0, 105, -1, False)], 2: [(1.0, 225, -1, False)], 3: [(1.0, 205, -1, False)], 4: [(1.0, 205, -10, False)], 5: [(1.0, 205, -10, False)]}, 206: {0: [(1.0, 306, -1, False)], 1: [(1.0, 106, -1, False)], 2: [(1.0, 226, -1, False)], 3: [(1.0, 206, -1, False)], 4: [(1.0, 206, -10, False)], 5: [(1.0, 206, -10, False)]}, 207: {0: [(1.0, 307, -1, False)], 1: [(1.0, 107, -1, False)], 2: [(1.0, 227, -1, False)], 3: [(1.0, 207, -1, False)], 4: [(1.0, 207, -10, False)], 5: [(1.0, 207, -10, False)]}, 208: {0: [(1.0, 308, -1, False)], 1: [(1.0, 108, -1, False)], 2: [(1.0, 228, -1, False)], 3: [(1.0, 208, -1, False)], 4: [(1.0, 208, -10, False)], 5: [(1.0, 208, -10, False)]}, 209: {0: [(1.0, 309, -1, False)], 1: [(1.0, 109, -1, False)], 2: [(1.0, 229, -1, False)], 3: [(1.0, 209, -1, False)], 4: [(1.0, 209, -10, False)], 5: [(1.0, 209, -10, False)]}, 210: {0: [(1.0, 310, -1, False)], 1: [(1.0, 110, -1, False)], 2: [(1.0, 230, -1, False)], 3: [(1.0, 210, -1, False)], 4: [(1.0, 210, -10, False)], 5: [(1.0, 210, -10, False)]}, 211: {0: [(1.0, 311, -1, False)], 1: [(1.0, 111, -1, False)], 2: [(1.0, 231, -1, False)], 3: [(1.0, 211, -1, False)], 4: [(1.0, 211, -10, False)], 5: [(1.0, 211, -10, False)]}, 212: {0: [(1.0, 312, -1, False)], 1: [(1.0, 112, -1, False)], 2: [(1.0, 232, -1, False)], 3: [(1.0, 212, -1, False)], 4: [(1.0, 212, -10, False)], 5: [(1.0, 212, -10, False)]}, 213: {0: [(1.0, 313, -1, False)], 1: [(1.0, 113, -1, False)], 2: [(1.0, 233, -1, False)], 3: [(1.0, 213, -1, False)], 4: [(1.0, 213, -10, False)], 5: [(1.0, 213, -10, False)]}, 214: {0: [(1.0, 314, -1, False)], 1: [(1.0, 114, -1, False)], 2: [(1.0, 234, -1, False)], 3: [(1.0, 214, -1, False)], 4: [(1.0, 214, -10, False)], 5: [(1.0, 214, -10, False)]}, 215: {0: [(1.0, 315, -1, False)], 1: [(1.0, 115, -1, False)], 2: [(1.0, 235, -1, False)], 3: [(1.0, 215, -1, False)], 4: [(1.0, 215, -10, False)], 5: [(1.0, 215, -10, False)]}, 216: {0: [(1.0, 316, -1, False)], 1: [(1.0, 116, -1, False)], 2: [(1.0, 236, -1, False)], 3: [(1.0, 216, -1, False)], 4: [(1.0, 216, -10, False)], 5: [(1.0, 216, -10, False)]}, 217: {0: [(1.0, 317, -1, False)], 1: [(1.0, 117, -1, False)], 2: [(1.0, 237, -1, False)], 3: [(1.0, 217, -1, False)], 4: [(1.0, 217, -10, False)], 5: [(1.0, 217, -10, False)]}, 218: {0: [(1.0, 318, -1, False)], 1: [(1.0, 118, -1, False)], 2: [(1.0, 238, -1, False)], 3: [(1.0, 218, -1, False)], 4: [(1.0, 218, -10, False)], 5: [(1.0, 218, -10, False)]}, 219: {0: [(1.0, 319, -1, False)], 1: [(1.0, 119, -1, False)], 2: [(1.0, 239, -1, False)], 3: [(1.0, 219, -1, False)], 4: [(1.0, 219, -10, False)], 5: [(1.0, 219, -10, False)]}, 220: {0: [(1.0, 320, -1, False)], 1: [(1.0, 120, -1, False)], 2: [(1.0, 240, -1, False)], 3: [(1.0, 200, -1, False)], 4: [(1.0, 220, -10, False)], 5: [(1.0, 220, -10, False)]}, 221: {0: [(1.0, 321, -1, False)], 1: [(1.0, 121, -1, False)], 2: [(1.0, 241, -1, False)], 3: [(1.0, 201, -1, False)], 4: [(1.0, 221, -10, False)], 5: [(1.0, 221, -10, False)]}, 222: {0: [(1.0, 322, -1, False)], 1: [(1.0, 122, -1, False)], 2: [(1.0, 242, -1, False)], 3: [(1.0, 202, -1, False)], 4: [(1.0, 222, -10, False)], 5: [(1.0, 222, -10, False)]}, 223: {0: [(1.0, 323, -1, False)], 1: [(1.0, 123, -1, False)], 2: [(1.0, 243, -1, False)], 3: [(1.0, 203, -1, False)], 4: [(1.0, 223, -10, False)], 5: [(1.0, 223, -10, False)]}, 224: {0: [(1.0, 324, -1, False)], 1: [(1.0, 124, -1, False)], 2: [(1.0, 244, -1, False)], 3: [(1.0, 204, -1, False)], 4: [(1.0, 224, -10, False)], 5: [(1.0, 224, -10, False)]}, 225: {0: [(1.0, 325, -1, False)], 1: [(1.0, 125, -1, False)], 2: [(1.0, 245, -1, False)], 3: [(1.0, 205, -1, False)], 4: [(1.0, 225, -10, False)], 5: [(1.0, 225, -10, False)]}, 226: {0: [(1.0, 326, -1, False)], 1: [(1.0, 126, -1, False)], 2: [(1.0, 246, -1, False)], 3: [(1.0, 206, -1, False)], 4: [(1.0, 226, -10, False)], 5: [(1.0, 226, -10, False)]}, 227: {0: [(1.0, 327, -1, False)], 1: [(1.0, 127, -1, False)], 2: [(1.0, 247, -1, False)], 3: [(1.0, 207, -1, False)], 4: [(1.0, 227, -10, False)], 5: [(1.0, 227, -10, False)]}, 228: {0: [(1.0, 328, -1, False)], 1: [(1.0, 128, -1, False)], 2: [(1.0, 248, -1, False)], 3: [(1.0, 208, -1, False)], 4: [(1.0, 228, -10, False)], 5: [(1.0, 228, -10, False)]}, 229: {0: [(1.0, 329, -1, False)], 1: [(1.0, 129, -1, False)], 2: [(1.0, 249, -1, False)], 3: [(1.0, 209, -1, False)], 4: [(1.0, 229, -10, False)], 5: [(1.0, 229, -10, False)]}, 230: {0: [(1.0, 330, -1, False)], 1: [(1.0, 130, -1, False)], 2: [(1.0, 250, -1, False)], 3: [(1.0, 210, -1, False)], 4: [(1.0, 230, -10, False)], 5: [(1.0, 230, -10, False)]}, 231: {0: [(1.0, 331, -1, False)], 1: [(1.0, 131, -1, False)], 2: [(1.0, 251, -1, False)], 3: [(1.0, 211, -1, False)], 4: [(1.0, 231, -10, False)], 5: [(1.0, 231, -10, False)]}, 232: {0: [(1.0, 332, -1, False)], 1: [(1.0, 132, -1, False)], 2: [(1.0, 252, -1, False)], 3: [(1.0, 212, -1, False)], 4: [(1.0, 232, -10, False)], 5: [(1.0, 232, -10, False)]}, 233: {0: [(1.0, 333, -1, False)], 1: [(1.0, 133, -1, False)], 2: [(1.0, 253, -1, False)], 3: [(1.0, 213, -1, False)], 4: [(1.0, 233, -10, False)], 5: [(1.0, 233, -10, False)]}, 234: {0: [(1.0, 334, -1, False)], 1: [(1.0, 134, -1, False)], 2: [(1.0, 254, -1, False)], 3: [(1.0, 214, -1, False)], 4: [(1.0, 234, -10, False)], 5: [(1.0, 234, -10, False)]}, 235: {0: [(1.0, 335, -1, False)], 1: [(1.0, 135, -1, False)], 2: [(1.0, 255, -1, False)], 3: [(1.0, 215, -1, False)], 4: [(1.0, 235, -10, False)], 5: [(1.0, 235, -10, False)]}, 236: {0: [(1.0, 336, -1, False)], 1: [(1.0, 136, -1, False)], 2: [(1.0, 256, -1, False)], 3: [(1.0, 216, -1, False)], 4: [(1.0, 236, -10, False)], 5: [(1.0, 236, -10, False)]}, 237: {0: [(1.0, 337, -1, False)], 1: [(1.0, 137, -1, False)], 2: [(1.0, 257, -1, False)], 3: [(1.0, 217, -1, False)], 4: [(1.0, 237, -10, False)], 5: [(1.0, 237, -10, False)]}, 238: {0: [(1.0, 338, -1, False)], 1: [(1.0, 138, -1, False)], 2: [(1.0, 258, -1, False)], 3: [(1.0, 218, -1, False)], 4: [(1.0, 238, -10, False)], 5: [(1.0, 238, -10, False)]}, 239: {0: [(1.0, 339, -1, False)], 1: [(1.0, 139, -1, False)], 2: [(1.0, 259, -1, False)], 3: [(1.0, 219, -1, False)], 4: [(1.0, 239, -10, False)], 5: [(1.0, 239, -10, False)]}, 240: {0: [(1.0, 340, -1, False)], 1: [(1.0, 140, -1, False)], 2: [(1.0, 260, -1, False)], 3: [(1.0, 220, -1, False)], 4: [(1.0, 240, -10, False)], 5: [(1.0, 240, -10, False)]}, 241: {0: [(1.0, 341, -1, False)], 1: [(1.0, 141, -1, False)], 2: [(1.0, 261, -1, False)], 3: [(1.0, 221, -1, False)], 4: [(1.0, 241, -10, False)], 5: [(1.0, 241, -10, False)]}, 242: {0: [(1.0, 342, -1, False)], 1: [(1.0, 142, -1, False)], 2: [(1.0, 262, -1, False)], 3: [(1.0, 222, -1, False)], 4: [(1.0, 242, -10, False)], 5: [(1.0, 242, -10, False)]}, 243: {0: [(1.0, 343, -1, False)], 1: [(1.0, 143, -1, False)], 2: [(1.0, 263, -1, False)], 3: [(1.0, 223, -1, False)], 4: [(1.0, 243, -10, False)], 5: [(1.0, 243, -10, False)]}, 244: {0: [(1.0, 344, -1, False)], 1: [(1.0, 144, -1, False)], 2: [(1.0, 264, -1, False)], 3: [(1.0, 224, -1, False)], 4: [(1.0, 244, -10, False)], 5: [(1.0, 244, -10, False)]}, 245: {0: [(1.0, 345, -1, False)], 1: [(1.0, 145, -1, False)], 2: [(1.0, 265, -1, False)], 3: [(1.0, 225, -1, False)], 4: [(1.0, 245, -10, False)], 5: [(1.0, 245, -10, False)]}, 246: {0: [(1.0, 346, -1, False)], 1: [(1.0, 146, -1, False)], 2: [(1.0, 266, -1, False)], 3: [(1.0, 226, -1, False)], 4: [(1.0, 246, -10, False)], 5: [(1.0, 246, -10, False)]}, 247: {0: [(1.0, 347, -1, False)], 1: [(1.0, 147, -1, False)], 2: [(1.0, 267, -1, False)], 3: [(1.0, 227, -1, False)], 4: [(1.0, 247, -10, False)], 5: [(1.0, 247, -10, False)]}, 248: {0: [(1.0, 348, -1, False)], 1: [(1.0, 148, -1, False)], 2: [(1.0, 268, -1, False)], 3: [(1.0, 228, -1, False)], 4: [(1.0, 248, -10, False)], 5: [(1.0, 248, -10, False)]}, 249: {0: [(1.0, 349, -1, False)], 1: [(1.0, 149, -1, False)], 2: [(1.0, 269, -1, False)], 3: [(1.0, 229, -1, False)], 4: [(1.0, 249, -10, False)], 5: [(1.0, 249, -10, False)]}, 250: {0: [(1.0, 350, -1, False)], 1: [(1.0, 150, -1, False)], 2: [(1.0, 270, -1, False)], 3: [(1.0, 230, -1, False)], 4: [(1.0, 250, -10, False)], 5: [(1.0, 250, -10, False)]}, 251: {0: [(1.0, 351, -1, False)], 1: [(1.0, 151, -1, False)], 2: [(1.0, 271, -1, False)], 3: [(1.0, 231, -1, False)], 4: [(1.0, 251, -10, False)], 5: [(1.0, 251, -10, False)]}, 252: {0: [(1.0, 352, -1, False)], 1: [(1.0, 152, -1, False)], 2: [(1.0, 272, -1, False)], 3: [(1.0, 232, -1, False)], 4: [(1.0, 252, -10, False)], 5: [(1.0, 252, -10, False)]}, 253: {0: [(1.0, 353, -1, False)], 1: [(1.0, 153, -1, False)], 2: [(1.0, 273, -1, False)], 3: [(1.0, 233, -1, False)], 4: [(1.0, 253, -10, False)], 5: [(1.0, 253, -10, False)]}, 254: {0: [(1.0, 354, -1, False)], 1: [(1.0, 154, -1, False)], 2: [(1.0, 274, -1, False)], 3: [(1.0, 234, -1, False)], 4: [(1.0, 254, -10, False)], 5: [(1.0, 254, -10, False)]}, 255: {0: [(1.0, 355, -1, False)], 1: [(1.0, 155, -1, False)], 2: [(1.0, 275, -1, False)], 3: [(1.0, 235, -1, False)], 4: [(1.0, 255, -10, False)], 5: [(1.0, 255, -10, False)]}, 256: {0: [(1.0, 356, -1, False)], 1: [(1.0, 156, -1, False)], 2: [(1.0, 276, -1, False)], 3: [(1.0, 236, -1, False)], 4: [(1.0, 256, -10, False)], 5: [(1.0, 256, -10, False)]}, 257: {0: [(1.0, 357, -1, False)], 1: [(1.0, 157, -1, False)], 2: [(1.0, 277, -1, False)], 3: [(1.0, 237, -1, False)], 4: [(1.0, 257, -10, False)], 5: [(1.0, 257, -10, False)]}, 258: {0: [(1.0, 358, -1, False)], 1: [(1.0, 158, -1, False)], 2: [(1.0, 278, -1, False)], 3: [(1.0, 238, -1, False)], 4: [(1.0, 258, -10, False)], 5: [(1.0, 258, -10, False)]}, 259: {0: [(1.0, 359, -1, False)], 1: [(1.0, 159, -1, False)], 2: [(1.0, 279, -1, False)], 3: [(1.0, 239, -1, False)], 4: [(1.0, 259, -10, False)], 5: [(1.0, 259, -10, False)]}, 260: {0: [(1.0, 360, -1, False)], 1: [(1.0, 160, -1, False)], 2: [(1.0, 280, -1, False)], 3: [(1.0, 240, -1, False)], 4: [(1.0, 260, -10, False)], 5: [(1.0, 260, -10, False)]}, 261: {0: [(1.0, 361, -1, False)], 1: [(1.0, 161, -1, False)], 2: [(1.0, 281, -1, False)], 3: [(1.0, 241, -1, False)], 4: [(1.0, 261, -10, False)], 5: [(1.0, 261, -10, False)]}, 262: {0: [(1.0, 362, -1, False)], 1: [(1.0, 162, -1, False)], 2: [(1.0, 282, -1, False)], 3: [(1.0, 242, -1, False)], 4: [(1.0, 262, -10, False)], 5: [(1.0, 262, -10, False)]}, 263: {0: [(1.0, 363, -1, False)], 1: [(1.0, 163, -1, False)], 2: [(1.0, 283, -1, False)], 3: [(1.0, 243, -1, False)], 4: [(1.0, 263, -10, False)], 5: [(1.0, 263, -10, False)]}, 264: {0: [(1.0, 364, -1, False)], 1: [(1.0, 164, -1, False)], 2: [(1.0, 284, -1, False)], 3: [(1.0, 244, -1, False)], 4: [(1.0, 264, -10, False)], 5: [(1.0, 264, -10, False)]}, 265: {0: [(1.0, 365, -1, False)], 1: [(1.0, 165, -1, False)], 2: [(1.0, 285, -1, False)], 3: [(1.0, 245, -1, False)], 4: [(1.0, 265, -10, False)], 5: [(1.0, 265, -10, False)]}, 266: {0: [(1.0, 366, -1, False)], 1: [(1.0, 166, -1, False)], 2: [(1.0, 286, -1, False)], 3: [(1.0, 246, -1, False)], 4: [(1.0, 266, -10, False)], 5: [(1.0, 266, -10, False)]}, 267: {0: [(1.0, 367, -1, False)], 1: [(1.0, 167, -1, False)], 2: [(1.0, 287, -1, False)], 3: [(1.0, 247, -1, False)], 4: [(1.0, 267, -10, False)], 5: [(1.0, 267, -10, False)]}, 268: {0: [(1.0, 368, -1, False)], 1: [(1.0, 168, -1, False)], 2: [(1.0, 288, -1, False)], 3: [(1.0, 248, -1, False)], 4: [(1.0, 268, -10, False)], 5: [(1.0, 268, -10, False)]}, 269: {0: [(1.0, 369, -1, False)], 1: [(1.0, 169, -1, False)], 2: [(1.0, 289, -1, False)], 3: [(1.0, 249, -1, False)], 4: [(1.0, 269, -10, False)], 5: [(1.0, 269, -10, False)]}, 270: {0: [(1.0, 370, -1, False)], 1: [(1.0, 170, -1, False)], 2: [(1.0, 290, -1, False)], 3: [(1.0, 250, -1, False)], 4: [(1.0, 270, -10, False)], 5: [(1.0, 270, -10, False)]}, 271: {0: [(1.0, 371, -1, False)], 1: [(1.0, 171, -1, False)], 2: [(1.0, 291, -1, False)], 3: [(1.0, 251, -1, False)], 4: [(1.0, 271, -10, False)], 5: [(1.0, 271, -10, False)]}, 272: {0: [(1.0, 372, -1, False)], 1: [(1.0, 172, -1, False)], 2: [(1.0, 292, -1, False)], 3: [(1.0, 252, -1, False)], 4: [(1.0, 272, -10, False)], 5: [(1.0, 272, -10, False)]}, 273: {0: [(1.0, 373, -1, False)], 1: [(1.0, 173, -1, False)], 2: [(1.0, 293, -1, False)], 3: [(1.0, 253, -1, False)], 4: [(1.0, 273, -10, False)], 5: [(1.0, 273, -10, False)]}, 274: {0: [(1.0, 374, -1, False)], 1: [(1.0, 174, -1, False)], 2: [(1.0, 294, -1, False)], 3: [(1.0, 254, -1, False)], 4: [(1.0, 274, -10, False)], 5: [(1.0, 274, -10, False)]}, 275: {0: [(1.0, 375, -1, False)], 1: [(1.0, 175, -1, False)], 2: [(1.0, 295, -1, False)], 3: [(1.0, 255, -1, False)], 4: [(1.0, 275, -10, False)], 5: [(1.0, 275, -10, False)]}, 276: {0: [(1.0, 376, -1, False)], 1: [(1.0, 176, -1, False)], 2: [(1.0, 296, -1, False)], 3: [(1.0, 256, -1, False)], 4: [(1.0, 276, -10, False)], 5: [(1.0, 276, -10, False)]}, 277: {0: [(1.0, 377, -1, False)], 1: [(1.0, 177, -1, False)], 2: [(1.0, 297, -1, False)], 3: [(1.0, 257, -1, False)], 4: [(1.0, 277, -10, False)], 5: [(1.0, 277, -10, False)]}, 278: {0: [(1.0, 378, -1, False)], 1: [(1.0, 178, -1, False)], 2: [(1.0, 298, -1, False)], 3: [(1.0, 258, -1, False)], 4: [(1.0, 278, -10, False)], 5: [(1.0, 278, -10, False)]}, 279: {0: [(1.0, 379, -1, False)], 1: [(1.0, 179, -1, False)], 2: [(1.0, 299, -1, False)], 3: [(1.0, 259, -1, False)], 4: [(1.0, 279, -10, False)], 5: [(1.0, 279, -10, False)]}, 280: {0: [(1.0, 380, -1, False)], 1: [(1.0, 180, -1, False)], 2: [(1.0, 280, -1, False)], 3: [(1.0, 260, -1, False)], 4: [(1.0, 280, -10, False)], 5: [(1.0, 280, -10, False)]}, 281: {0: [(1.0, 381, -1, False)], 1: [(1.0, 181, -1, False)], 2: [(1.0, 281, -1, False)], 3: [(1.0, 261, -1, False)], 4: [(1.0, 281, -10, False)], 5: [(1.0, 281, -10, False)]}, 282: {0: [(1.0, 382, -1, False)], 1: [(1.0, 182, -1, False)], 2: [(1.0, 282, -1, False)], 3: [(1.0, 262, -1, False)], 4: [(1.0, 282, -10, False)], 5: [(1.0, 282, -10, False)]}, 283: {0: [(1.0, 383, -1, False)], 1: [(1.0, 183, -1, False)], 2: [(1.0, 283, -1, False)], 3: [(1.0, 263, -1, False)], 4: [(1.0, 283, -10, False)], 5: [(1.0, 283, -10, False)]}, 284: {0: [(1.0, 384, -1, False)], 1: [(1.0, 184, -1, False)], 2: [(1.0, 284, -1, False)], 3: [(1.0, 264, -1, False)], 4: [(1.0, 284, -10, False)], 5: [(1.0, 284, -10, False)]}, 285: {0: [(1.0, 385, -1, False)], 1: [(1.0, 185, -1, False)], 2: [(1.0, 285, -1, False)], 3: [(1.0, 265, -1, False)], 4: [(1.0, 285, -10, False)], 5: [(1.0, 285, -10, False)]}, 286: {0: [(1.0, 386, -1, False)], 1: [(1.0, 186, -1, False)], 2: [(1.0, 286, -1, False)], 3: [(1.0, 266, -1, False)], 4: [(1.0, 286, -10, False)], 5: [(1.0, 286, -10, False)]}, 287: {0: [(1.0, 387, -1, False)], 1: [(1.0, 187, -1, False)], 2: [(1.0, 287, -1, False)], 3: [(1.0, 267, -1, False)], 4: [(1.0, 287, -10, False)], 5: [(1.0, 287, -10, False)]}, 288: {0: [(1.0, 388, -1, False)], 1: [(1.0, 188, -1, False)], 2: [(1.0, 288, -1, False)], 3: [(1.0, 268, -1, False)], 4: [(1.0, 288, -10, False)], 5: [(1.0, 288, -10, False)]}, 289: {0: [(1.0, 389, -1, False)], 1: [(1.0, 189, -1, False)], 2: [(1.0, 289, -1, False)], 3: [(1.0, 269, -1, False)], 4: [(1.0, 289, -10, False)], 5: [(1.0, 289, -10, False)]}, 290: {0: [(1.0, 390, -1, False)], 1: [(1.0, 190, -1, False)], 2: [(1.0, 290, -1, False)], 3: [(1.0, 270, -1, False)], 4: [(1.0, 290, -10, False)], 5: [(1.0, 290, -10, False)]}, 291: {0: [(1.0, 391, -1, False)], 1: [(1.0, 191, -1, False)], 2: [(1.0, 291, -1, False)], 3: [(1.0, 271, -1, False)], 4: [(1.0, 291, -10, False)], 5: [(1.0, 291, -10, False)]}, 292: {0: [(1.0, 392, -1, False)], 1: [(1.0, 192, -1, False)], 2: [(1.0, 292, -1, False)], 3: [(1.0, 272, -1, False)], 4: [(1.0, 292, -10, False)], 5: [(1.0, 292, -10, False)]}, 293: {0: [(1.0, 393, -1, False)], 1: [(1.0, 193, -1, False)], 2: [(1.0, 293, -1, False)], 3: [(1.0, 273, -1, False)], 4: [(1.0, 293, -10, False)], 5: [(1.0, 293, -10, False)]}, 294: {0: [(1.0, 394, -1, False)], 1: [(1.0, 194, -1, False)], 2: [(1.0, 294, -1, False)], 3: [(1.0, 274, -1, False)], 4: [(1.0, 294, -10, False)], 5: [(1.0, 294, -10, False)]}, 295: {0: [(1.0, 395, -1, False)], 1: [(1.0, 195, -1, False)], 2: [(1.0, 295, -1, False)], 3: [(1.0, 275, -1, False)], 4: [(1.0, 295, -10, False)], 5: [(1.0, 295, -10, False)]}, 296: {0: [(1.0, 396, -1, False)], 1: [(1.0, 196, -1, False)], 2: [(1.0, 296, -1, False)], 3: [(1.0, 276, -1, False)], 4: [(1.0, 296, -10, False)], 5: [(1.0, 296, -10, False)]}, 297: {0: [(1.0, 397, -1, False)], 1: [(1.0, 197, -1, False)], 2: [(1.0, 297, -1, False)], 3: [(1.0, 277, -1, False)], 4: [(1.0, 297, -10, False)], 5: [(1.0, 297, -10, False)]}, 298: {0: [(1.0, 398, -1, False)], 1: [(1.0, 198, -1, False)], 2: [(1.0, 298, -1, False)], 3: [(1.0, 278, -1, False)], 4: [(1.0, 298, -10, False)], 5: [(1.0, 298, -10, False)]}, 299: {0: [(1.0, 399, -1, False)], 1: [(1.0, 199, -1, False)], 2: [(1.0, 299, -1, False)], 3: [(1.0, 279, -1, False)], 4: [(1.0, 299, -10, False)], 5: [(1.0, 299, -10, False)]}, 300: {0: [(1.0, 400, -1, False)], 1: [(1.0, 200, -1, False)], 2: [(1.0, 300, -1, False)], 3: [(1.0, 300, -1, False)], 4: [(1.0, 300, -10, False)], 5: [(1.0, 300, -10, False)]}, 301: {0: [(1.0, 401, -1, False)], 1: [(1.0, 201, -1, False)], 2: [(1.0, 301, -1, False)], 3: [(1.0, 301, -1, False)], 4: [(1.0, 301, -10, False)], 5: [(1.0, 301, -10, False)]}, 302: {0: [(1.0, 402, -1, False)], 1: [(1.0, 202, -1, False)], 2: [(1.0, 302, -1, False)], 3: [(1.0, 302, -1, False)], 4: [(1.0, 302, -10, False)], 5: [(1.0, 302, -10, False)]}, 303: {0: [(1.0, 403, -1, False)], 1: [(1.0, 203, -1, False)], 2: [(1.0, 303, -1, False)], 3: [(1.0, 303, -1, False)], 4: [(1.0, 303, -10, False)], 5: [(1.0, 303, -10, False)]}, 304: {0: [(1.0, 404, -1, False)], 1: [(1.0, 204, -1, False)], 2: [(1.0, 304, -1, False)], 3: [(1.0, 304, -1, False)], 4: [(1.0, 304, -10, False)], 5: [(1.0, 304, -10, False)]}, 305: {0: [(1.0, 405, -1, False)], 1: [(1.0, 205, -1, False)], 2: [(1.0, 305, -1, False)], 3: [(1.0, 305, -1, False)], 4: [(1.0, 305, -10, False)], 5: [(1.0, 305, -10, False)]}, 306: {0: [(1.0, 406, -1, False)], 1: [(1.0, 206, -1, False)], 2: [(1.0, 306, -1, False)], 3: [(1.0, 306, -1, False)], 4: [(1.0, 306, -10, False)], 5: [(1.0, 306, -10, False)]}, 307: {0: [(1.0, 407, -1, False)], 1: [(1.0, 207, -1, False)], 2: [(1.0, 307, -1, False)], 3: [(1.0, 307, -1, False)], 4: [(1.0, 307, -10, False)], 5: [(1.0, 307, -10, False)]}, 308: {0: [(1.0, 408, -1, False)], 1: [(1.0, 208, -1, False)], 2: [(1.0, 308, -1, False)], 3: [(1.0, 308, -1, False)], 4: [(1.0, 308, -10, False)], 5: [(1.0, 308, -10, False)]}, 309: {0: [(1.0, 409, -1, False)], 1: [(1.0, 209, -1, False)], 2: [(1.0, 309, -1, False)], 3: [(1.0, 309, -1, False)], 4: [(1.0, 309, -10, False)], 5: [(1.0, 309, -10, False)]}, 310: {0: [(1.0, 410, -1, False)], 1: [(1.0, 210, -1, False)], 2: [(1.0, 310, -1, False)], 3: [(1.0, 310, -1, False)], 4: [(1.0, 310, -10, False)], 5: [(1.0, 310, -10, False)]}, 311: {0: [(1.0, 411, -1, False)], 1: [(1.0, 211, -1, False)], 2: [(1.0, 311, -1, False)], 3: [(1.0, 311, -1, False)], 4: [(1.0, 311, -10, False)], 5: [(1.0, 311, -10, False)]}, 312: {0: [(1.0, 412, -1, False)], 1: [(1.0, 212, -1, False)], 2: [(1.0, 312, -1, False)], 3: [(1.0, 312, -1, False)], 4: [(1.0, 312, -10, False)], 5: [(1.0, 312, -10, False)]}, 313: {0: [(1.0, 413, -1, False)], 1: [(1.0, 213, -1, False)], 2: [(1.0, 313, -1, False)], 3: [(1.0, 313, -1, False)], 4: [(1.0, 313, -10, False)], 5: [(1.0, 313, -10, False)]}, 314: {0: [(1.0, 414, -1, False)], 1: [(1.0, 214, -1, False)], 2: [(1.0, 314, -1, False)], 3: [(1.0, 314, -1, False)], 4: [(1.0, 314, -10, False)], 5: [(1.0, 314, -10, False)]}, 315: {0: [(1.0, 415, -1, False)], 1: [(1.0, 215, -1, False)], 2: [(1.0, 315, -1, False)], 3: [(1.0, 315, -1, False)], 4: [(1.0, 315, -10, False)], 5: [(1.0, 315, -10, False)]}, 316: {0: [(1.0, 416, -1, False)], 1: [(1.0, 216, -1, False)], 2: [(1.0, 316, -1, False)], 3: [(1.0, 316, -1, False)], 4: [(1.0, 316, -10, False)], 5: [(1.0, 316, -10, False)]}, 317: {0: [(1.0, 417, -1, False)], 1: [(1.0, 217, -1, False)], 2: [(1.0, 317, -1, False)], 3: [(1.0, 317, -1, False)], 4: [(1.0, 317, -10, False)], 5: [(1.0, 317, -10, False)]}, 318: {0: [(1.0, 418, -1, False)], 1: [(1.0, 218, -1, False)], 2: [(1.0, 318, -1, False)], 3: [(1.0, 318, -1, False)], 4: [(1.0, 318, -10, False)], 5: [(1.0, 318, -10, False)]}, 319: {0: [(1.0, 419, -1, False)], 1: [(1.0, 219, -1, False)], 2: [(1.0, 319, -1, False)], 3: [(1.0, 319, -1, False)], 4: [(1.0, 319, -10, False)], 5: [(1.0, 319, -10, False)]}, 320: {0: [(1.0, 420, -1, False)], 1: [(1.0, 220, -1, False)], 2: [(1.0, 340, -1, False)], 3: [(1.0, 320, -1, False)], 4: [(1.0, 320, -10, False)], 5: [(1.0, 320, -10, False)]}, 321: {0: [(1.0, 421, -1, False)], 1: [(1.0, 221, -1, False)], 2: [(1.0, 341, -1, False)], 3: [(1.0, 321, -1, False)], 4: [(1.0, 321, -10, False)], 5: [(1.0, 321, -10, False)]}, 322: {0: [(1.0, 422, -1, False)], 1: [(1.0, 222, -1, False)], 2: [(1.0, 342, -1, False)], 3: [(1.0, 322, -1, False)], 4: [(1.0, 322, -10, False)], 5: [(1.0, 322, -10, False)]}, 323: {0: [(1.0, 423, -1, False)], 1: [(1.0, 223, -1, False)], 2: [(1.0, 343, -1, False)], 3: [(1.0, 323, -1, False)], 4: [(1.0, 323, -10, False)], 5: [(1.0, 323, -10, False)]}, 324: {0: [(1.0, 424, -1, False)], 1: [(1.0, 224, -1, False)], 2: [(1.0, 344, -1, False)], 3: [(1.0, 324, -1, False)], 4: [(1.0, 324, -10, False)], 5: [(1.0, 324, -10, False)]}, 325: {0: [(1.0, 425, -1, False)], 1: [(1.0, 225, -1, False)], 2: [(1.0, 345, -1, False)], 3: [(1.0, 325, -1, False)], 4: [(1.0, 325, -10, False)], 5: [(1.0, 325, -10, False)]}, 326: {0: [(1.0, 426, -1, False)], 1: [(1.0, 226, -1, False)], 2: [(1.0, 346, -1, False)], 3: [(1.0, 326, -1, False)], 4: [(1.0, 326, -10, False)], 5: [(1.0, 326, -10, False)]}, 327: {0: [(1.0, 427, -1, False)], 1: [(1.0, 227, -1, False)], 2: [(1.0, 347, -1, False)], 3: [(1.0, 327, -1, False)], 4: [(1.0, 327, -10, False)], 5: [(1.0, 327, -10, False)]}, 328: {0: [(1.0, 428, -1, False)], 1: [(1.0, 228, -1, False)], 2: [(1.0, 348, -1, False)], 3: [(1.0, 328, -1, False)], 4: [(1.0, 328, -10, False)], 5: [(1.0, 328, -10, False)]}, 329: {0: [(1.0, 429, -1, False)], 1: [(1.0, 229, -1, False)], 2: [(1.0, 349, -1, False)], 3: [(1.0, 329, -1, False)], 4: [(1.0, 329, -10, False)], 5: [(1.0, 329, -10, False)]}, 330: {0: [(1.0, 430, -1, False)], 1: [(1.0, 230, -1, False)], 2: [(1.0, 350, -1, False)], 3: [(1.0, 330, -1, False)], 4: [(1.0, 330, -10, False)], 5: [(1.0, 330, -10, False)]}, 331: {0: [(1.0, 431, -1, False)], 1: [(1.0, 231, -1, False)], 2: [(1.0, 351, -1, False)], 3: [(1.0, 331, -1, False)], 4: [(1.0, 331, -10, False)], 5: [(1.0, 331, -10, False)]}, 332: {0: [(1.0, 432, -1, False)], 1: [(1.0, 232, -1, False)], 2: [(1.0, 352, -1, False)], 3: [(1.0, 332, -1, False)], 4: [(1.0, 332, -10, False)], 5: [(1.0, 332, -10, False)]}, 333: {0: [(1.0, 433, -1, False)], 1: [(1.0, 233, -1, False)], 2: [(1.0, 353, -1, False)], 3: [(1.0, 333, -1, False)], 4: [(1.0, 333, -10, False)], 5: [(1.0, 333, -10, False)]}, 334: {0: [(1.0, 434, -1, False)], 1: [(1.0, 234, -1, False)], 2: [(1.0, 354, -1, False)], 3: [(1.0, 334, -1, False)], 4: [(1.0, 334, -10, False)], 5: [(1.0, 334, -10, False)]}, 335: {0: [(1.0, 435, -1, False)], 1: [(1.0, 235, -1, False)], 2: [(1.0, 355, -1, False)], 3: [(1.0, 335, -1, False)], 4: [(1.0, 335, -10, False)], 5: [(1.0, 335, -10, False)]}, 336: {0: [(1.0, 436, -1, False)], 1: [(1.0, 236, -1, False)], 2: [(1.0, 356, -1, False)], 3: [(1.0, 336, -1, False)], 4: [(1.0, 336, -10, False)], 5: [(1.0, 336, -10, False)]}, 337: {0: [(1.0, 437, -1, False)], 1: [(1.0, 237, -1, False)], 2: [(1.0, 357, -1, False)], 3: [(1.0, 337, -1, False)], 4: [(1.0, 337, -10, False)], 5: [(1.0, 337, -10, False)]}, 338: {0: [(1.0, 438, -1, False)], 1: [(1.0, 238, -1, False)], 2: [(1.0, 358, -1, False)], 3: [(1.0, 338, -1, False)], 4: [(1.0, 338, -10, False)], 5: [(1.0, 338, -10, False)]}, 339: {0: [(1.0, 439, -1, False)], 1: [(1.0, 239, -1, False)], 2: [(1.0, 359, -1, False)], 3: [(1.0, 339, -1, False)], 4: [(1.0, 339, -10, False)], 5: [(1.0, 339, -10, False)]}, 340: {0: [(1.0, 440, -1, False)], 1: [(1.0, 240, -1, False)], 2: [(1.0, 340, -1, False)], 3: [(1.0, 320, -1, False)], 4: [(1.0, 340, -10, False)], 5: [(1.0, 340, -10, False)]}, 341: {0: [(1.0, 441, -1, False)], 1: [(1.0, 241, -1, False)], 2: [(1.0, 341, -1, False)], 3: [(1.0, 321, -1, False)], 4: [(1.0, 341, -10, False)], 5: [(1.0, 341, -10, False)]}, 342: {0: [(1.0, 442, -1, False)], 1: [(1.0, 242, -1, False)], 2: [(1.0, 342, -1, False)], 3: [(1.0, 322, -1, False)], 4: [(1.0, 342, -10, False)], 5: [(1.0, 342, -10, False)]}, 343: {0: [(1.0, 443, -1, False)], 1: [(1.0, 243, -1, False)], 2: [(1.0, 343, -1, False)], 3: [(1.0, 323, -1, False)], 4: [(1.0, 343, -10, False)], 5: [(1.0, 343, -10, False)]}, 344: {0: [(1.0, 444, -1, False)], 1: [(1.0, 244, -1, False)], 2: [(1.0, 344, -1, False)], 3: [(1.0, 324, -1, False)], 4: [(1.0, 344, -10, False)], 5: [(1.0, 344, -10, False)]}, 345: {0: [(1.0, 445, -1, False)], 1: [(1.0, 245, -1, False)], 2: [(1.0, 345, -1, False)], 3: [(1.0, 325, -1, False)], 4: [(1.0, 345, -10, False)], 5: [(1.0, 345, -10, False)]}, 346: {0: [(1.0, 446, -1, False)], 1: [(1.0, 246, -1, False)], 2: [(1.0, 346, -1, False)], 3: [(1.0, 326, -1, False)], 4: [(1.0, 346, -10, False)], 5: [(1.0, 346, -10, False)]}, 347: {0: [(1.0, 447, -1, False)], 1: [(1.0, 247, -1, False)], 2: [(1.0, 347, -1, False)], 3: [(1.0, 327, -1, False)], 4: [(1.0, 347, -10, False)], 5: [(1.0, 347, -10, False)]}, 348: {0: [(1.0, 448, -1, False)], 1: [(1.0, 248, -1, False)], 2: [(1.0, 348, -1, False)], 3: [(1.0, 328, -1, False)], 4: [(1.0, 348, -10, False)], 5: [(1.0, 348, -10, False)]}, 349: {0: [(1.0, 449, -1, False)], 1: [(1.0, 249, -1, False)], 2: [(1.0, 349, -1, False)], 3: [(1.0, 329, -1, False)], 4: [(1.0, 349, -10, False)], 5: [(1.0, 349, -10, False)]}, 350: {0: [(1.0, 450, -1, False)], 1: [(1.0, 250, -1, False)], 2: [(1.0, 350, -1, False)], 3: [(1.0, 330, -1, False)], 4: [(1.0, 350, -10, False)], 5: [(1.0, 350, -10, False)]}, 351: {0: [(1.0, 451, -1, False)], 1: [(1.0, 251, -1, False)], 2: [(1.0, 351, -1, False)], 3: [(1.0, 331, -1, False)], 4: [(1.0, 351, -10, False)], 5: [(1.0, 351, -10, False)]}, 352: {0: [(1.0, 452, -1, False)], 1: [(1.0, 252, -1, False)], 2: [(1.0, 352, -1, False)], 3: [(1.0, 332, -1, False)], 4: [(1.0, 352, -10, False)], 5: [(1.0, 352, -10, False)]}, 353: {0: [(1.0, 453, -1, False)], 1: [(1.0, 253, -1, False)], 2: [(1.0, 353, -1, False)], 3: [(1.0, 333, -1, False)], 4: [(1.0, 353, -10, False)], 5: [(1.0, 353, -10, False)]}, 354: {0: [(1.0, 454, -1, False)], 1: [(1.0, 254, -1, False)], 2: [(1.0, 354, -1, False)], 3: [(1.0, 334, -1, False)], 4: [(1.0, 354, -10, False)], 5: [(1.0, 354, -10, False)]}, 355: {0: [(1.0, 455, -1, False)], 1: [(1.0, 255, -1, False)], 2: [(1.0, 355, -1, False)], 3: [(1.0, 335, -1, False)], 4: [(1.0, 355, -10, False)], 5: [(1.0, 355, -10, False)]}, 356: {0: [(1.0, 456, -1, False)], 1: [(1.0, 256, -1, False)], 2: [(1.0, 356, -1, False)], 3: [(1.0, 336, -1, False)], 4: [(1.0, 356, -10, False)], 5: [(1.0, 356, -10, False)]}, 357: {0: [(1.0, 457, -1, False)], 1: [(1.0, 257, -1, False)], 2: [(1.0, 357, -1, False)], 3: [(1.0, 337, -1, False)], 4: [(1.0, 357, -10, False)], 5: [(1.0, 357, -10, False)]}, 358: {0: [(1.0, 458, -1, False)], 1: [(1.0, 258, -1, False)], 2: [(1.0, 358, -1, False)], 3: [(1.0, 338, -1, False)], 4: [(1.0, 358, -10, False)], 5: [(1.0, 358, -10, False)]}, 359: {0: [(1.0, 459, -1, False)], 1: [(1.0, 259, -1, False)], 2: [(1.0, 359, -1, False)], 3: [(1.0, 339, -1, False)], 4: [(1.0, 359, -10, False)], 5: [(1.0, 359, -10, False)]}, 360: {0: [(1.0, 460, -1, False)], 1: [(1.0, 260, -1, False)], 2: [(1.0, 380, -1, False)], 3: [(1.0, 360, -1, False)], 4: [(1.0, 360, -10, False)], 5: [(1.0, 360, -10, False)]}, 361: {0: [(1.0, 461, -1, False)], 1: [(1.0, 261, -1, False)], 2: [(1.0, 381, -1, False)], 3: [(1.0, 361, -1, False)], 4: [(1.0, 361, -10, False)], 5: [(1.0, 361, -10, False)]}, 362: {0: [(1.0, 462, -1, False)], 1: [(1.0, 262, -1, False)], 2: [(1.0, 382, -1, False)], 3: [(1.0, 362, -1, False)], 4: [(1.0, 362, -10, False)], 5: [(1.0, 362, -10, False)]}, 363: {0: [(1.0, 463, -1, False)], 1: [(1.0, 263, -1, False)], 2: [(1.0, 383, -1, False)], 3: [(1.0, 363, -1, False)], 4: [(1.0, 363, -10, False)], 5: [(1.0, 363, -10, False)]}, 364: {0: [(1.0, 464, -1, False)], 1: [(1.0, 264, -1, False)], 2: [(1.0, 384, -1, False)], 3: [(1.0, 364, -1, False)], 4: [(1.0, 364, -10, False)], 5: [(1.0, 364, -10, False)]}, 365: {0: [(1.0, 465, -1, False)], 1: [(1.0, 265, -1, False)], 2: [(1.0, 385, -1, False)], 3: [(1.0, 365, -1, False)], 4: [(1.0, 365, -10, False)], 5: [(1.0, 365, -10, False)]}, 366: {0: [(1.0, 466, -1, False)], 1: [(1.0, 266, -1, False)], 2: [(1.0, 386, -1, False)], 3: [(1.0, 366, -1, False)], 4: [(1.0, 366, -10, False)], 5: [(1.0, 366, -10, False)]}, 367: {0: [(1.0, 467, -1, False)], 1: [(1.0, 267, -1, False)], 2: [(1.0, 387, -1, False)], 3: [(1.0, 367, -1, False)], 4: [(1.0, 367, -10, False)], 5: [(1.0, 367, -10, False)]}, 368: {0: [(1.0, 468, -1, False)], 1: [(1.0, 268, -1, False)], 2: [(1.0, 388, -1, False)], 3: [(1.0, 368, -1, False)], 4: [(1.0, 368, -10, False)], 5: [(1.0, 368, -10, False)]}, 369: {0: [(1.0, 469, -1, False)], 1: [(1.0, 269, -1, False)], 2: [(1.0, 389, -1, False)], 3: [(1.0, 369, -1, False)], 4: [(1.0, 369, -10, False)], 5: [(1.0, 369, -10, False)]}, 370: {0: [(1.0, 470, -1, False)], 1: [(1.0, 270, -1, False)], 2: [(1.0, 390, -1, False)], 3: [(1.0, 370, -1, False)], 4: [(1.0, 370, -10, False)], 5: [(1.0, 370, -10, False)]}, 371: {0: [(1.0, 471, -1, False)], 1: [(1.0, 271, -1, False)], 2: [(1.0, 391, -1, False)], 3: [(1.0, 371, -1, False)], 4: [(1.0, 371, -10, False)], 5: [(1.0, 371, -10, False)]}, 372: {0: [(1.0, 472, -1, False)], 1: [(1.0, 272, -1, False)], 2: [(1.0, 392, -1, False)], 3: [(1.0, 372, -1, False)], 4: [(1.0, 372, -10, False)], 5: [(1.0, 372, -10, False)]}, 373: {0: [(1.0, 473, -1, False)], 1: [(1.0, 273, -1, False)], 2: [(1.0, 393, -1, False)], 3: [(1.0, 373, -1, False)], 4: [(1.0, 373, -10, False)], 5: [(1.0, 373, -10, False)]}, 374: {0: [(1.0, 474, -1, False)], 1: [(1.0, 274, -1, False)], 2: [(1.0, 394, -1, False)], 3: [(1.0, 374, -1, False)], 4: [(1.0, 374, -10, False)], 5: [(1.0, 374, -10, False)]}, 375: {0: [(1.0, 475, -1, False)], 1: [(1.0, 275, -1, False)], 2: [(1.0, 395, -1, False)], 3: [(1.0, 375, -1, False)], 4: [(1.0, 375, -10, False)], 5: [(1.0, 375, -10, False)]}, 376: {0: [(1.0, 476, -1, False)], 1: [(1.0, 276, -1, False)], 2: [(1.0, 396, -1, False)], 3: [(1.0, 376, -1, False)], 4: [(1.0, 376, -10, False)], 5: [(1.0, 376, -10, False)]}, 377: {0: [(1.0, 477, -1, False)], 1: [(1.0, 277, -1, False)], 2: [(1.0, 397, -1, False)], 3: [(1.0, 377, -1, False)], 4: [(1.0, 377, -10, False)], 5: [(1.0, 377, -10, False)]}, 378: {0: [(1.0, 478, -1, False)], 1: [(1.0, 278, -1, False)], 2: [(1.0, 398, -1, False)], 3: [(1.0, 378, -1, False)], 4: [(1.0, 378, -10, False)], 5: [(1.0, 378, -10, False)]}, 379: {0: [(1.0, 479, -1, False)], 1: [(1.0, 279, -1, False)], 2: [(1.0, 399, -1, False)], 3: [(1.0, 379, -1, False)], 4: [(1.0, 379, -10, False)], 5: [(1.0, 379, -10, False)]}, 380: {0: [(1.0, 480, -1, False)], 1: [(1.0, 280, -1, False)], 2: [(1.0, 380, -1, False)], 3: [(1.0, 360, -1, False)], 4: [(1.0, 380, -10, False)], 5: [(1.0, 380, -10, False)]}, 381: {0: [(1.0, 481, -1, False)], 1: [(1.0, 281, -1, False)], 2: [(1.0, 381, -1, False)], 3: [(1.0, 361, -1, False)], 4: [(1.0, 381, -10, False)], 5: [(1.0, 381, -10, False)]}, 382: {0: [(1.0, 482, -1, False)], 1: [(1.0, 282, -1, False)], 2: [(1.0, 382, -1, False)], 3: [(1.0, 362, -1, False)], 4: [(1.0, 382, -10, False)], 5: [(1.0, 382, -10, False)]}, 383: {0: [(1.0, 483, -1, False)], 1: [(1.0, 283, -1, False)], 2: [(1.0, 383, -1, False)], 3: [(1.0, 363, -1, False)], 4: [(1.0, 383, -10, False)], 5: [(1.0, 383, -10, False)]}, 384: {0: [(1.0, 484, -1, False)], 1: [(1.0, 284, -1, False)], 2: [(1.0, 384, -1, False)], 3: [(1.0, 364, -1, False)], 4: [(1.0, 384, -10, False)], 5: [(1.0, 384, -10, False)]}, 385: {0: [(1.0, 485, -1, False)], 1: [(1.0, 285, -1, False)], 2: [(1.0, 385, -1, False)], 3: [(1.0, 365, -1, False)], 4: [(1.0, 385, -10, False)], 5: [(1.0, 385, -10, False)]}, 386: {0: [(1.0, 486, -1, False)], 1: [(1.0, 286, -1, False)], 2: [(1.0, 386, -1, False)], 3: [(1.0, 366, -1, False)], 4: [(1.0, 386, -10, False)], 5: [(1.0, 386, -10, False)]}, 387: {0: [(1.0, 487, -1, False)], 1: [(1.0, 287, -1, False)], 2: [(1.0, 387, -1, False)], 3: [(1.0, 367, -1, False)], 4: [(1.0, 387, -10, False)], 5: [(1.0, 387, -10, False)]}, 388: {0: [(1.0, 488, -1, False)], 1: [(1.0, 288, -1, False)], 2: [(1.0, 388, -1, False)], 3: [(1.0, 368, -1, False)], 4: [(1.0, 388, -10, False)], 5: [(1.0, 388, -10, False)]}, 389: {0: [(1.0, 489, -1, False)], 1: [(1.0, 289, -1, False)], 2: [(1.0, 389, -1, False)], 3: [(1.0, 369, -1, False)], 4: [(1.0, 389, -10, False)], 5: [(1.0, 389, -10, False)]}, 390: {0: [(1.0, 490, -1, False)], 1: [(1.0, 290, -1, False)], 2: [(1.0, 390, -1, False)], 3: [(1.0, 370, -1, False)], 4: [(1.0, 390, -10, False)], 5: [(1.0, 390, -10, False)]}, 391: {0: [(1.0, 491, -1, False)], 1: [(1.0, 291, -1, False)], 2: [(1.0, 391, -1, False)], 3: [(1.0, 371, -1, False)], 4: [(1.0, 391, -10, False)], 5: [(1.0, 391, -10, False)]}, 392: {0: [(1.0, 492, -1, False)], 1: [(1.0, 292, -1, False)], 2: [(1.0, 392, -1, False)], 3: [(1.0, 372, -1, False)], 4: [(1.0, 392, -10, False)], 5: [(1.0, 392, -10, False)]}, 393: {0: [(1.0, 493, -1, False)], 1: [(1.0, 293, -1, False)], 2: [(1.0, 393, -1, False)], 3: [(1.0, 373, -1, False)], 4: [(1.0, 393, -10, False)], 5: [(1.0, 393, -10, False)]}, 394: {0: [(1.0, 494, -1, False)], 1: [(1.0, 294, -1, False)], 2: [(1.0, 394, -1, False)], 3: [(1.0, 374, -1, False)], 4: [(1.0, 394, -10, False)], 5: [(1.0, 394, -10, False)]}, 395: {0: [(1.0, 495, -1, False)], 1: [(1.0, 295, -1, False)], 2: [(1.0, 395, -1, False)], 3: [(1.0, 375, -1, False)], 4: [(1.0, 395, -10, False)], 5: [(1.0, 395, -10, False)]}, 396: {0: [(1.0, 496, -1, False)], 1: [(1.0, 296, -1, False)], 2: [(1.0, 396, -1, False)], 3: [(1.0, 376, -1, False)], 4: [(1.0, 396, -10, False)], 5: [(1.0, 396, -10, False)]}, 397: {0: [(1.0, 497, -1, False)], 1: [(1.0, 297, -1, False)], 2: [(1.0, 397, -1, False)], 3: [(1.0, 377, -1, False)], 4: [(1.0, 397, -10, False)], 5: [(1.0, 397, -10, False)]}, 398: {0: [(1.0, 498, -1, False)], 1: [(1.0, 298, -1, False)], 2: [(1.0, 398, -1, False)], 3: [(1.0, 378, -1, False)], 4: [(1.0, 398, -10, False)], 5: [(1.0, 398, -10, False)]}, 399: {0: [(1.0, 499, -1, False)], 1: [(1.0, 299, -1, False)], 2: [(1.0, 399, -1, False)], 3: [(1.0, 379, -1, False)], 4: [(1.0, 399, -10, False)], 5: [(1.0, 399, -10, False)]}, 400: {0: [(1.0, 400, -1, False)], 1: [(1.0, 300, -1, False)], 2: [(1.0, 400, -1, False)], 3: [(1.0, 400, -1, False)], 4: [(1.0, 400, -10, False)], 5: [(1.0, 400, -10, False)]}, 401: {0: [(1.0, 401, -1, False)], 1: [(1.0, 301, -1, False)], 2: [(1.0, 401, -1, False)], 3: [(1.0, 401, -1, False)], 4: [(1.0, 401, -10, False)], 5: [(1.0, 401, -10, False)]}, 402: {0: [(1.0, 402, -1, False)], 1: [(1.0, 302, -1, False)], 2: [(1.0, 402, -1, False)], 3: [(1.0, 402, -1, False)], 4: [(1.0, 402, -10, False)], 5: [(1.0, 402, -10, False)]}, 403: {0: [(1.0, 403, -1, False)], 1: [(1.0, 303, -1, False)], 2: [(1.0, 403, -1, False)], 3: [(1.0, 403, -1, False)], 4: [(1.0, 403, -10, False)], 5: [(1.0, 403, -10, False)]}, 404: {0: [(1.0, 404, -1, False)], 1: [(1.0, 304, -1, False)], 2: [(1.0, 404, -1, False)], 3: [(1.0, 404, -1, False)], 4: [(1.0, 404, -10, False)], 5: [(1.0, 404, -10, False)]}, 405: {0: [(1.0, 405, -1, False)], 1: [(1.0, 305, -1, False)], 2: [(1.0, 405, -1, False)], 3: [(1.0, 405, -1, False)], 4: [(1.0, 405, -10, False)], 5: [(1.0, 405, -10, False)]}, 406: {0: [(1.0, 406, -1, False)], 1: [(1.0, 306, -1, False)], 2: [(1.0, 406, -1, False)], 3: [(1.0, 406, -1, False)], 4: [(1.0, 406, -10, False)], 5: [(1.0, 406, -10, False)]}, 407: {0: [(1.0, 407, -1, False)], 1: [(1.0, 307, -1, False)], 2: [(1.0, 407, -1, False)], 3: [(1.0, 407, -1, False)], 4: [(1.0, 407, -10, False)], 5: [(1.0, 407, -10, False)]}, 408: {0: [(1.0, 408, -1, False)], 1: [(1.0, 308, -1, False)], 2: [(1.0, 408, -1, False)], 3: [(1.0, 408, -1, False)], 4: [(1.0, 416, -1, False)], 5: [(1.0, 408, -10, False)]}, 409: {0: [(1.0, 409, -1, False)], 1: [(1.0, 309, -1, False)], 2: [(1.0, 409, -1, False)], 3: [(1.0, 409, -1, False)], 4: [(1.0, 417, -1, False)], 5: [(1.0, 409, -10, False)]}, 410: {0: [(1.0, 410, -1, False)], 1: [(1.0, 310, -1, False)], 2: [(1.0, 410, -1, False)], 3: [(1.0, 410, -1, False)], 4: [(1.0, 418, -1, False)], 5: [(1.0, 410, -10, False)]}, 411: {0: [(1.0, 411, -1, False)], 1: [(1.0, 311, -1, False)], 2: [(1.0, 411, -1, False)], 3: [(1.0, 411, -1, False)], 4: [(1.0, 419, -1, False)], 5: [(1.0, 411, -10, False)]}, 412: {0: [(1.0, 412, -1, False)], 1: [(1.0, 312, -1, False)], 2: [(1.0, 412, -1, False)], 3: [(1.0, 412, -1, False)], 4: [(1.0, 412, -10, False)], 5: [(1.0, 412, -10, False)]}, 413: {0: [(1.0, 413, -1, False)], 1: [(1.0, 313, -1, False)], 2: [(1.0, 413, -1, False)], 3: [(1.0, 413, -1, False)], 4: [(1.0, 413, -10, False)], 5: [(1.0, 413, -10, False)]}, 414: {0: [(1.0, 414, -1, False)], 1: [(1.0, 314, -1, False)], 2: [(1.0, 414, -1, False)], 3: [(1.0, 414, -1, False)], 4: [(1.0, 414, -10, False)], 5: [(1.0, 414, -10, False)]}, 415: {0: [(1.0, 415, -1, False)], 1: [(1.0, 315, -1, False)], 2: [(1.0, 415, -1, False)], 3: [(1.0, 415, -1, False)], 4: [(1.0, 415, -10, False)], 5: [(1.0, 415, -10, False)]}, 416: {0: [(1.0, 416, -1, False)], 1: [(1.0, 316, -1, False)], 2: [(1.0, 416, -1, False)], 3: [(1.0, 416, -1, False)], 4: [(1.0, 416, -10, False)], 5: [(1.0, 408, -1, False)]}, 417: {0: [(1.0, 417, -1, False)], 1: [(1.0, 317, -1, False)], 2: [(1.0, 417, -1, False)], 3: [(1.0, 417, -1, False)], 4: [(1.0, 417, -10, False)], 5: [(1.0, 409, -1, False)]}, 418: {0: [(1.0, 418, -1, False)], 1: [(1.0, 318, -1, False)], 2: [(1.0, 418, -1, False)], 3: [(1.0, 418, -1, False)], 4: [(1.0, 418, -10, False)], 5: [(1.0, 410, 20, True)]}, 419: {0: [(1.0, 419, -1, False)], 1: [(1.0, 319, -1, False)], 2: [(1.0, 419, -1, False)], 3: [(1.0, 419, -1, False)], 4: [(1.0, 419, -10, False)], 5: [(1.0, 411, -1, False)]}, 420: {0: [(1.0, 420, -1, False)], 1: [(1.0, 320, -1, False)], 2: [(1.0, 440, -1, False)], 3: [(1.0, 420, -1, False)], 4: [(1.0, 420, -10, False)], 5: [(1.0, 420, -10, False)]}, 421: {0: [(1.0, 421, -1, False)], 1: [(1.0, 321, -1, False)], 2: [(1.0, 441, -1, False)], 3: [(1.0, 421, -1, False)], 4: [(1.0, 421, -10, False)], 5: [(1.0, 421, -10, False)]}, 422: {0: [(1.0, 422, -1, False)], 1: [(1.0, 322, -1, False)], 2: [(1.0, 442, -1, False)], 3: [(1.0, 422, -1, False)], 4: [(1.0, 422, -10, False)], 5: [(1.0, 422, -10, False)]}, 423: {0: [(1.0, 423, -1, False)], 1: [(1.0, 323, -1, False)], 2: [(1.0, 443, -1, False)], 3: [(1.0, 423, -1, False)], 4: [(1.0, 423, -10, False)], 5: [(1.0, 423, -10, False)]}, 424: {0: [(1.0, 424, -1, False)], 1: [(1.0, 324, -1, False)], 2: [(1.0, 444, -1, False)], 3: [(1.0, 424, -1, False)], 4: [(1.0, 424, -10, False)], 5: [(1.0, 424, -10, False)]}, 425: {0: [(1.0, 425, -1, False)], 1: [(1.0, 325, -1, False)], 2: [(1.0, 445, -1, False)], 3: [(1.0, 425, -1, False)], 4: [(1.0, 425, -10, False)], 5: [(1.0, 425, -10, False)]}, 426: {0: [(1.0, 426, -1, False)], 1: [(1.0, 326, -1, False)], 2: [(1.0, 446, -1, False)], 3: [(1.0, 426, -1, False)], 4: [(1.0, 426, -10, False)], 5: [(1.0, 426, -10, False)]}, 427: {0: [(1.0, 427, -1, False)], 1: [(1.0, 327, -1, False)], 2: [(1.0, 447, -1, False)], 3: [(1.0, 427, -1, False)], 4: [(1.0, 427, -10, False)], 5: [(1.0, 427, -10, False)]}, 428: {0: [(1.0, 428, -1, False)], 1: [(1.0, 328, -1, False)], 2: [(1.0, 448, -1, False)], 3: [(1.0, 428, -1, False)], 4: [(1.0, 428, -10, False)], 5: [(1.0, 428, -10, False)]}, 429: {0: [(1.0, 429, -1, False)], 1: [(1.0, 329, -1, False)], 2: [(1.0, 449, -1, False)], 3: [(1.0, 429, -1, False)], 4: [(1.0, 429, -10, False)], 5: [(1.0, 429, -10, False)]}, 430: {0: [(1.0, 430, -1, False)], 1: [(1.0, 330, -1, False)], 2: [(1.0, 450, -1, False)], 3: [(1.0, 430, -1, False)], 4: [(1.0, 430, -10, False)], 5: [(1.0, 430, -10, False)]}, 431: {0: [(1.0, 431, -1, False)], 1: [(1.0, 331, -1, False)], 2: [(1.0, 451, -1, False)], 3: [(1.0, 431, -1, False)], 4: [(1.0, 431, -10, False)], 5: [(1.0, 431, -10, False)]}, 432: {0: [(1.0, 432, -1, False)], 1: [(1.0, 332, -1, False)], 2: [(1.0, 452, -1, False)], 3: [(1.0, 432, -1, False)], 4: [(1.0, 432, -10, False)], 5: [(1.0, 432, -10, False)]}, 433: {0: [(1.0, 433, -1, False)], 1: [(1.0, 333, -1, False)], 2: [(1.0, 453, -1, False)], 3: [(1.0, 433, -1, False)], 4: [(1.0, 433, -10, False)], 5: [(1.0, 433, -10, False)]}, 434: {0: [(1.0, 434, -1, False)], 1: [(1.0, 334, -1, False)], 2: [(1.0, 454, -1, False)], 3: [(1.0, 434, -1, False)], 4: [(1.0, 434, -10, False)], 5: [(1.0, 434, -10, False)]}, 435: {0: [(1.0, 435, -1, False)], 1: [(1.0, 335, -1, False)], 2: [(1.0, 455, -1, False)], 3: [(1.0, 435, -1, False)], 4: [(1.0, 435, -10, False)], 5: [(1.0, 435, -10, False)]}, 436: {0: [(1.0, 436, -1, False)], 1: [(1.0, 336, -1, False)], 2: [(1.0, 456, -1, False)], 3: [(1.0, 436, -1, False)], 4: [(1.0, 436, -10, False)], 5: [(1.0, 436, -10, False)]}, 437: {0: [(1.0, 437, -1, False)], 1: [(1.0, 337, -1, False)], 2: [(1.0, 457, -1, False)], 3: [(1.0, 437, -1, False)], 4: [(1.0, 437, -10, False)], 5: [(1.0, 437, -10, False)]}, 438: {0: [(1.0, 438, -1, False)], 1: [(1.0, 338, -1, False)], 2: [(1.0, 458, -1, False)], 3: [(1.0, 438, -1, False)], 4: [(1.0, 438, -10, False)], 5: [(1.0, 438, -10, False)]}, 439: {0: [(1.0, 439, -1, False)], 1: [(1.0, 339, -1, False)], 2: [(1.0, 459, -1, False)], 3: [(1.0, 439, -1, False)], 4: [(1.0, 439, -10, False)], 5: [(1.0, 439, -10, False)]}, 440: {0: [(1.0, 440, -1, False)], 1: [(1.0, 340, -1, False)], 2: [(1.0, 440, -1, False)], 3: [(1.0, 420, -1, False)], 4: [(1.0, 440, -10, False)], 5: [(1.0, 440, -10, False)]}, 441: {0: [(1.0, 441, -1, False)], 1: [(1.0, 341, -1, False)], 2: [(1.0, 441, -1, False)], 3: [(1.0, 421, -1, False)], 4: [(1.0, 441, -10, False)], 5: [(1.0, 441, -10, False)]}, 442: {0: [(1.0, 442, -1, False)], 1: [(1.0, 342, -1, False)], 2: [(1.0, 442, -1, False)], 3: [(1.0, 422, -1, False)], 4: [(1.0, 442, -10, False)], 5: [(1.0, 442, -10, False)]}, 443: {0: [(1.0, 443, -1, False)], 1: [(1.0, 343, -1, False)], 2: [(1.0, 443, -1, False)], 3: [(1.0, 423, -1, False)], 4: [(1.0, 443, -10, False)], 5: [(1.0, 443, -10, False)]}, 444: {0: [(1.0, 444, -1, False)], 1: [(1.0, 344, -1, False)], 2: [(1.0, 444, -1, False)], 3: [(1.0, 424, -1, False)], 4: [(1.0, 444, -10, False)], 5: [(1.0, 444, -10, False)]}, 445: {0: [(1.0, 445, -1, False)], 1: [(1.0, 345, -1, False)], 2: [(1.0, 445, -1, False)], 3: [(1.0, 425, -1, False)], 4: [(1.0, 445, -10, False)], 5: [(1.0, 445, -10, False)]}, 446: {0: [(1.0, 446, -1, False)], 1: [(1.0, 346, -1, False)], 2: [(1.0, 446, -1, False)], 3: [(1.0, 426, -1, False)], 4: [(1.0, 446, -10, False)], 5: [(1.0, 446, -10, False)]}, 447: {0: [(1.0, 447, -1, False)], 1: [(1.0, 347, -1, False)], 2: [(1.0, 447, -1, False)], 3: [(1.0, 427, -1, False)], 4: [(1.0, 447, -10, False)], 5: [(1.0, 447, -10, False)]}, 448: {0: [(1.0, 448, -1, False)], 1: [(1.0, 348, -1, False)], 2: [(1.0, 448, -1, False)], 3: [(1.0, 428, -1, False)], 4: [(1.0, 448, -10, False)], 5: [(1.0, 448, -10, False)]}, 449: {0: [(1.0, 449, -1, False)], 1: [(1.0, 349, -1, False)], 2: [(1.0, 449, -1, False)], 3: [(1.0, 429, -1, False)], 4: [(1.0, 449, -10, False)], 5: [(1.0, 449, -10, False)]}, 450: {0: [(1.0, 450, -1, False)], 1: [(1.0, 350, -1, False)], 2: [(1.0, 450, -1, False)], 3: [(1.0, 430, -1, False)], 4: [(1.0, 450, -10, False)], 5: [(1.0, 450, -10, False)]}, 451: {0: [(1.0, 451, -1, False)], 1: [(1.0, 351, -1, False)], 2: [(1.0, 451, -1, False)], 3: [(1.0, 431, -1, False)], 4: [(1.0, 451, -10, False)], 5: [(1.0, 451, -10, False)]}, 452: {0: [(1.0, 452, -1, False)], 1: [(1.0, 352, -1, False)], 2: [(1.0, 452, -1, False)], 3: [(1.0, 432, -1, False)], 4: [(1.0, 452, -10, False)], 5: [(1.0, 452, -10, False)]}, 453: {0: [(1.0, 453, -1, False)], 1: [(1.0, 353, -1, False)], 2: [(1.0, 453, -1, False)], 3: [(1.0, 433, -1, False)], 4: [(1.0, 453, -10, False)], 5: [(1.0, 453, -10, False)]}, 454: {0: [(1.0, 454, -1, False)], 1: [(1.0, 354, -1, False)], 2: [(1.0, 454, -1, False)], 3: [(1.0, 434, -1, False)], 4: [(1.0, 454, -10, False)], 5: [(1.0, 454, -10, False)]}, 455: {0: [(1.0, 455, -1, False)], 1: [(1.0, 355, -1, False)], 2: [(1.0, 455, -1, False)], 3: [(1.0, 435, -1, False)], 4: [(1.0, 455, -10, False)], 5: [(1.0, 455, -10, False)]}, 456: {0: [(1.0, 456, -1, False)], 1: [(1.0, 356, -1, False)], 2: [(1.0, 456, -1, False)], 3: [(1.0, 436, -1, False)], 4: [(1.0, 456, -10, False)], 5: [(1.0, 456, -10, False)]}, 457: {0: [(1.0, 457, -1, False)], 1: [(1.0, 357, -1, False)], 2: [(1.0, 457, -1, False)], 3: [(1.0, 437, -1, False)], 4: [(1.0, 457, -10, False)], 5: [(1.0, 457, -10, False)]}, 458: {0: [(1.0, 458, -1, False)], 1: [(1.0, 358, -1, False)], 2: [(1.0, 458, -1, False)], 3: [(1.0, 438, -1, False)], 4: [(1.0, 458, -10, False)], 5: [(1.0, 458, -10, False)]}, 459: {0: [(1.0, 459, -1, False)], 1: [(1.0, 359, -1, False)], 2: [(1.0, 459, -1, False)], 3: [(1.0, 439, -1, False)], 4: [(1.0, 459, -10, False)], 5: [(1.0, 459, -10, False)]}, 460: {0: [(1.0, 460, -1, False)], 1: [(1.0, 360, -1, False)], 2: [(1.0, 480, -1, False)], 3: [(1.0, 460, -1, False)], 4: [(1.0, 460, -10, False)], 5: [(1.0, 460, -10, False)]}, 461: {0: [(1.0, 461, -1, False)], 1: [(1.0, 361, -1, False)], 2: [(1.0, 481, -1, False)], 3: [(1.0, 461, -1, False)], 4: [(1.0, 461, -10, False)], 5: [(1.0, 461, -10, False)]}, 462: {0: [(1.0, 462, -1, False)], 1: [(1.0, 362, -1, False)], 2: [(1.0, 482, -1, False)], 3: [(1.0, 462, -1, False)], 4: [(1.0, 462, -10, False)], 5: [(1.0, 462, -10, False)]}, 463: {0: [(1.0, 463, -1, False)], 1: [(1.0, 363, -1, False)], 2: [(1.0, 483, -1, False)], 3: [(1.0, 463, -1, False)], 4: [(1.0, 463, -10, False)], 5: [(1.0, 463, -10, False)]}, 464: {0: [(1.0, 464, -1, False)], 1: [(1.0, 364, -1, False)], 2: [(1.0, 484, -1, False)], 3: [(1.0, 464, -1, False)], 4: [(1.0, 464, -10, False)], 5: [(1.0, 464, -10, False)]}, 465: {0: [(1.0, 465, -1, False)], 1: [(1.0, 365, -1, False)], 2: [(1.0, 485, -1, False)], 3: [(1.0, 465, -1, False)], 4: [(1.0, 465, -10, False)], 5: [(1.0, 465, -10, False)]}, 466: {0: [(1.0, 466, -1, False)], 1: [(1.0, 366, -1, False)], 2: [(1.0, 486, -1, False)], 3: [(1.0, 466, -1, False)], 4: [(1.0, 466, -10, False)], 5: [(1.0, 466, -10, False)]}, 467: {0: [(1.0, 467, -1, False)], 1: [(1.0, 367, -1, False)], 2: [(1.0, 487, -1, False)], 3: [(1.0, 467, -1, False)], 4: [(1.0, 467, -10, False)], 5: [(1.0, 467, -10, False)]}, 468: {0: [(1.0, 468, -1, False)], 1: [(1.0, 368, -1, False)], 2: [(1.0, 488, -1, False)], 3: [(1.0, 468, -1, False)], 4: [(1.0, 468, -10, False)], 5: [(1.0, 468, -10, False)]}, 469: {0: [(1.0, 469, -1, False)], 1: [(1.0, 369, -1, False)], 2: [(1.0, 489, -1, False)], 3: [(1.0, 469, -1, False)], 4: [(1.0, 469, -10, False)], 5: [(1.0, 469, -10, False)]}, 470: {0: [(1.0, 470, -1, False)], 1: [(1.0, 370, -1, False)], 2: [(1.0, 490, -1, False)], 3: [(1.0, 470, -1, False)], 4: [(1.0, 470, -10, False)], 5: [(1.0, 470, -10, False)]}, 471: {0: [(1.0, 471, -1, False)], 1: [(1.0, 371, -1, False)], 2: [(1.0, 491, -1, False)], 3: [(1.0, 471, -1, False)], 4: [(1.0, 471, -10, False)], 5: [(1.0, 471, -10, False)]}, 472: {0: [(1.0, 472, -1, False)], 1: [(1.0, 372, -1, False)], 2: [(1.0, 492, -1, False)], 3: [(1.0, 472, -1, False)], 4: [(1.0, 476, -1, False)], 5: [(1.0, 472, -10, False)]}, 473: {0: [(1.0, 473, -1, False)], 1: [(1.0, 373, -1, False)], 2: [(1.0, 493, -1, False)], 3: [(1.0, 473, -1, False)], 4: [(1.0, 477, -1, False)], 5: [(1.0, 473, -10, False)]}, 474: {0: [(1.0, 474, -1, False)], 1: [(1.0, 374, -1, False)], 2: [(1.0, 494, -1, False)], 3: [(1.0, 474, -1, False)], 4: [(1.0, 478, -1, False)], 5: [(1.0, 474, -10, False)]}, 475: {0: [(1.0, 475, -1, False)], 1: [(1.0, 375, -1, False)], 2: [(1.0, 495, -1, False)], 3: [(1.0, 475, -1, False)], 4: [(1.0, 479, -1, False)], 5: [(1.0, 475, -10, False)]}, 476: {0: [(1.0, 476, -1, False)], 1: [(1.0, 376, -1, False)], 2: [(1.0, 496, -1, False)], 3: [(1.0, 476, -1, False)], 4: [(1.0, 476, -10, False)], 5: [(1.0, 472, -1, False)]}, 477: {0: [(1.0, 477, -1, False)], 1: [(1.0, 377, -1, False)], 2: [(1.0, 497, -1, False)], 3: [(1.0, 477, -1, False)], 4: [(1.0, 477, -10, False)], 5: [(1.0, 473, -1, False)]}, 478: {0: [(1.0, 478, -1, False)], 1: [(1.0, 378, -1, False)], 2: [(1.0, 498, -1, False)], 3: [(1.0, 478, -1, False)], 4: [(1.0, 478, -10, False)], 5: [(1.0, 474, -1, False)]}, 479: {0: [(1.0, 479, -1, False)], 1: [(1.0, 379, -1, False)], 2: [(1.0, 499, -1, False)], 3: [(1.0, 479, -1, False)], 4: [(1.0, 479, -10, False)], 5: [(1.0, 475, 20, True)]}, 480: {0: [(1.0, 480, -1, False)], 1: [(1.0, 380, -1, False)], 2: [(1.0, 480, -1, False)], 3: [(1.0, 460, -1, False)], 4: [(1.0, 480, -10, False)], 5: [(1.0, 480, -10, False)]}, 481: {0: [(1.0, 481, -1, False)], 1: [(1.0, 381, -1, False)], 2: [(1.0, 481, -1, False)], 3: [(1.0, 461, -1, False)], 4: [(1.0, 481, -10, False)], 5: [(1.0, 481, -10, False)]}, 482: {0: [(1.0, 482, -1, False)], 1: [(1.0, 382, -1, False)], 2: [(1.0, 482, -1, False)], 3: [(1.0, 462, -1, False)], 4: [(1.0, 482, -10, False)], 5: [(1.0, 482, -10, False)]}, 483: {0: [(1.0, 483, -1, False)], 1: [(1.0, 383, -1, False)], 2: [(1.0, 483, -1, False)], 3: [(1.0, 463, -1, False)], 4: [(1.0, 483, -10, False)], 5: [(1.0, 483, -10, False)]}, 484: {0: [(1.0, 484, -1, False)], 1: [(1.0, 384, -1, False)], 2: [(1.0, 484, -1, False)], 3: [(1.0, 464, -1, False)], 4: [(1.0, 484, -10, False)], 5: [(1.0, 484, -10, False)]}, 485: {0: [(1.0, 485, -1, False)], 1: [(1.0, 385, -1, False)], 2: [(1.0, 485, -1, False)], 3: [(1.0, 465, -1, False)], 4: [(1.0, 485, -10, False)], 5: [(1.0, 485, -10, False)]}, 486: {0: [(1.0, 486, -1, False)], 1: [(1.0, 386, -1, False)], 2: [(1.0, 486, -1, False)], 3: [(1.0, 466, -1, False)], 4: [(1.0, 486, -10, False)], 5: [(1.0, 486, -10, False)]}, 487: {0: [(1.0, 487, -1, False)], 1: [(1.0, 387, -1, False)], 2: [(1.0, 487, -1, False)], 3: [(1.0, 467, -1, False)], 4: [(1.0, 487, -10, False)], 5: [(1.0, 487, -10, False)]}, 488: {0: [(1.0, 488, -1, False)], 1: [(1.0, 388, -1, False)], 2: [(1.0, 488, -1, False)], 3: [(1.0, 468, -1, False)], 4: [(1.0, 488, -10, False)], 5: [(1.0, 488, -10, False)]}, 489: {0: [(1.0, 489, -1, False)], 1: [(1.0, 389, -1, False)], 2: [(1.0, 489, -1, False)], 3: [(1.0, 469, -1, False)], 4: [(1.0, 489, -10, False)], 5: [(1.0, 489, -10, False)]}, 490: {0: [(1.0, 490, -1, False)], 1: [(1.0, 390, -1, False)], 2: [(1.0, 490, -1, False)], 3: [(1.0, 470, -1, False)], 4: [(1.0, 490, -10, False)], 5: [(1.0, 490, -10, False)]}, 491: {0: [(1.0, 491, -1, False)], 1: [(1.0, 391, -1, False)], 2: [(1.0, 491, -1, False)], 3: [(1.0, 471, -1, False)], 4: [(1.0, 491, -10, False)], 5: [(1.0, 491, -10, False)]}, 492: {0: [(1.0, 492, -1, False)], 1: [(1.0, 392, -1, False)], 2: [(1.0, 492, -1, False)], 3: [(1.0, 472, -1, False)], 4: [(1.0, 492, -10, False)], 5: [(1.0, 492, -10, False)]}, 493: {0: [(1.0, 493, -1, False)], 1: [(1.0, 393, -1, False)], 2: [(1.0, 493, -1, False)], 3: [(1.0, 473, -1, False)], 4: [(1.0, 493, -10, False)], 5: [(1.0, 493, -10, False)]}, 494: {0: [(1.0, 494, -1, False)], 1: [(1.0, 394, -1, False)], 2: [(1.0, 494, -1, False)], 3: [(1.0, 474, -1, False)], 4: [(1.0, 494, -10, False)], 5: [(1.0, 494, -10, False)]}, 495: {0: [(1.0, 495, -1, False)], 1: [(1.0, 395, -1, False)], 2: [(1.0, 495, -1, False)], 3: [(1.0, 475, -1, False)], 4: [(1.0, 495, -10, False)], 5: [(1.0, 495, -10, False)]}, 496: {0: [(1.0, 496, -1, False)], 1: [(1.0, 396, -1, False)], 2: [(1.0, 496, -1, False)], 3: [(1.0, 476, -1, False)], 4: [(1.0, 496, -10, False)], 5: [(1.0, 496, -10, False)]}, 497: {0: [(1.0, 497, -1, False)], 1: [(1.0, 397, -1, False)], 2: [(1.0, 497, -1, False)], 3: [(1.0, 477, -1, False)], 4: [(1.0, 497, -10, False)], 5: [(1.0, 497, -10, False)]}, 498: {0: [(1.0, 498, -1, False)], 1: [(1.0, 398, -1, False)], 2: [(1.0, 498, -1, False)], 3: [(1.0, 478, -1, False)], 4: [(1.0, 498, -10, False)], 5: [(1.0, 498, -10, False)]}, 499: {0: [(1.0, 499, -1, False)], 1: [(1.0, 399, -1, False)], 2: [(1.0, 499, -1, False)], 3: [(1.0, 479, -1, False)], 4: [(1.0, 499, -10, False)], 5: [(1.0, 499, -10, False)]}}\n"
          ],
          "name": "stdout"
        }
      ]
    },
    {
      "cell_type": "markdown",
      "metadata": {
        "id": "_zaH1rmJnY9X"
      },
      "source": [
        "**DiscreteEnv** Class"
      ]
    },
    {
      "cell_type": "markdown",
      "metadata": {
        "id": "YMAINW_3qfwd"
      },
      "source": [
        "TaxiEnv class derives from the DiscreteEnv baseclass. DiscreteEnv, implements the **reset** and **step** methods to reset and increment the Taxi Environment by one step (based on input action) respectively."
      ]
    },
    {
      "cell_type": "code",
      "metadata": {
        "colab": {
          "base_uri": "https://localhost:8080/"
        },
        "id": "qCO5u0N7q1cb",
        "outputId": "66390b17-9379-454e-9531-30a8a9ea8b31"
      },
      "source": [
        "print (taxi)"
      ],
      "execution_count": 19,
      "outputs": [
        {
          "output_type": "stream",
          "text": [
            "<TimeLimit<TaxiEnv<Taxi-v3>>>\n"
          ],
          "name": "stdout"
        }
      ]
    },
    {
      "cell_type": "markdown",
      "metadata": {
        "id": "FAcjbAqmM7tt"
      },
      "source": [
        "### Interact with the environment."
      ]
    },
    {
      "cell_type": "code",
      "metadata": {
        "id": "zfINBI6gPyjo"
      },
      "source": [
        "inputKeyActionMap = {'s':0,'n':1,'e':2,'w':3,'p':4,'d':5}"
      ],
      "execution_count": 20,
      "outputs": []
    },
    {
      "cell_type": "code",
      "metadata": {
        "colab": {
          "base_uri": "https://localhost:8080/"
        },
        "id": "WhFNRxWRFlLx",
        "outputId": "6196c889-8355-4913-ad12-a2d3f9b5d4dd"
      },
      "source": [
        "taxi.reset()\n",
        "taxi.render()\n",
        "while True:\n",
        "    try:\n",
        "        ip = \"x\" #input('>>') # Disabled for now\n",
        "        if ip in inputKeyActionMap.keys():\n",
        "          act = inputKeyActionMap[ip]\n",
        "          if act in taxi.action_space:\n",
        "            print(taxi.step(act))\n",
        "            print()\n",
        "            taxi.render()\n",
        "          else:\n",
        "            print(f'Invalid action:{act}')\n",
        "        else:\n",
        "          if ip == 'r':\n",
        "              print(taxi.reset())\n",
        "              print()\n",
        "              taxi.render()\n",
        "          elif ip == 'x':\n",
        "              break\n",
        "          else:\n",
        "              print(f'Invalid input:{ip}')\n",
        "    except Exception as e:\n",
        "        print(e)"
      ],
      "execution_count": 21,
      "outputs": [
        {
          "output_type": "stream",
          "text": [
            "+---------+\n",
            "|R: | : :\u001b[34;1mG\u001b[0m|\n",
            "| : | : : |\n",
            "| : : :\u001b[43m \u001b[0m: |\n",
            "| | : | : |\n",
            "|\u001b[35mY\u001b[0m| : |B: |\n",
            "+---------+\n",
            "\n"
          ],
          "name": "stdout"
        }
      ]
    },
    {
      "cell_type": "code",
      "metadata": {
        "colab": {
          "base_uri": "https://localhost:8080/"
        },
        "id": "g7gcuuP9HS7l",
        "outputId": "9305fd90-b6f0-4587-d9bc-8fb7edfd3a4e"
      },
      "source": [
        "taxi.env.s = 0 #possible to set the environment to particular state manually\n",
        "taxi.render()"
      ],
      "execution_count": 22,
      "outputs": [
        {
          "output_type": "stream",
          "text": [
            "+---------+\n",
            "|\u001b[35m\u001b[34;1m\u001b[43mR\u001b[0m\u001b[0m\u001b[0m: | : :G|\n",
            "| : | : : |\n",
            "| : : : : |\n",
            "| | : | : |\n",
            "|Y| : |B: |\n",
            "+---------+\n",
            "\n"
          ],
          "name": "stdout"
        }
      ]
    },
    {
      "cell_type": "code",
      "metadata": {
        "colab": {
          "base_uri": "https://localhost:8080/"
        },
        "id": "fAxQog8SHWjx",
        "outputId": "4beb9157-63ae-4ab2-fbeb-b1d3246e4997"
      },
      "source": [
        "taxi.env.s = 100\n",
        "taxi.render()"
      ],
      "execution_count": 23,
      "outputs": [
        {
          "output_type": "stream",
          "text": [
            "+---------+\n",
            "|\u001b[35m\u001b[34;1mR\u001b[0m\u001b[0m: | : :G|\n",
            "|\u001b[43m \u001b[0m: | : : |\n",
            "| : : : : |\n",
            "| | : | : |\n",
            "|Y| : |B: |\n",
            "+---------+\n",
            "\n"
          ],
          "name": "stdout"
        }
      ]
    },
    {
      "cell_type": "markdown",
      "metadata": {
        "id": "SemyR0nQIY1e"
      },
      "source": [
        "### Take random actions to solve Taxi-V3 problem."
      ]
    },
    {
      "cell_type": "code",
      "metadata": {
        "id": "16PvEwjJGB-_"
      },
      "source": [
        "actionsMap = {0:\"south\",1:\"north\",2:\"east\",3:\"west\",4:\"pick-up\",5:\"drop-off\"}"
      ],
      "execution_count": 24,
      "outputs": []
    },
    {
      "cell_type": "code",
      "metadata": {
        "colab": {
          "base_uri": "https://localhost:8080/"
        },
        "id": "HmvMahTRIj2e",
        "outputId": "2180ac2e-5e19-4a20-8801-c8bfe4597965"
      },
      "source": [
        "import time\n",
        "taxi.reset()\n",
        "#taxi.env.s = 7\n",
        "taxi.render()\n",
        "done = False\n",
        "cumReward = 0\n",
        "episodeLen = 0\n",
        "penalties = 0\n",
        "maxEpisodeLen = 50#300\n",
        "while not done and episodeLen < maxEpisodeLen:\n",
        "  act = taxi.env.action_space.sample()\n",
        "  print(\"Random action : \",actionsMap[act])\n",
        "  state, reward, done, p = taxi.step(int(act))\n",
        "  cumReward += reward\n",
        "  if reward == -10:\n",
        "    penalties += 1\n",
        "  episodeLen += 1\n",
        "  print()\n",
        "  print (\"episode Length:\",episodeLen, \"state:\",state,\" reward:\",reward,\" cumulative reward:\",cumReward, \"penalties:\",penalties ,\"Done:\",done)\n",
        "  print()\n",
        "  taxi.render()\n",
        "  #time.sleep(0.1)"
      ],
      "execution_count": 25,
      "outputs": [
        {
          "output_type": "stream",
          "text": [
            "+---------+\n",
            "|\u001b[34;1mR\u001b[0m: | : :\u001b[35mG\u001b[0m|\n",
            "|\u001b[43m \u001b[0m: | : : |\n",
            "| : : : : |\n",
            "| | : | : |\n",
            "|Y| : |B: |\n",
            "+---------+\n",
            "\n",
            "Random action :  south\n",
            "\n",
            "episode Length: 1 state: 201  reward: -1  cumulative reward: -1 penalties: 0 Done: False\n",
            "\n",
            "+---------+\n",
            "|\u001b[34;1mR\u001b[0m: | : :\u001b[35mG\u001b[0m|\n",
            "| : | : : |\n",
            "|\u001b[43m \u001b[0m: : : : |\n",
            "| | : | : |\n",
            "|Y| : |B: |\n",
            "+---------+\n",
            "  (South)\n",
            "Random action :  pick-up\n",
            "\n",
            "episode Length: 2 state: 201  reward: -10  cumulative reward: -11 penalties: 1 Done: False\n",
            "\n",
            "+---------+\n",
            "|\u001b[34;1mR\u001b[0m: | : :\u001b[35mG\u001b[0m|\n",
            "| : | : : |\n",
            "|\u001b[43m \u001b[0m: : : : |\n",
            "| | : | : |\n",
            "|Y| : |B: |\n",
            "+---------+\n",
            "  (Pickup)\n",
            "Random action :  pick-up\n",
            "\n",
            "episode Length: 3 state: 201  reward: -10  cumulative reward: -21 penalties: 2 Done: False\n",
            "\n",
            "+---------+\n",
            "|\u001b[34;1mR\u001b[0m: | : :\u001b[35mG\u001b[0m|\n",
            "| : | : : |\n",
            "|\u001b[43m \u001b[0m: : : : |\n",
            "| | : | : |\n",
            "|Y| : |B: |\n",
            "+---------+\n",
            "  (Pickup)\n",
            "Random action :  west\n",
            "\n",
            "episode Length: 4 state: 201  reward: -1  cumulative reward: -22 penalties: 2 Done: False\n",
            "\n",
            "+---------+\n",
            "|\u001b[34;1mR\u001b[0m: | : :\u001b[35mG\u001b[0m|\n",
            "| : | : : |\n",
            "|\u001b[43m \u001b[0m: : : : |\n",
            "| | : | : |\n",
            "|Y| : |B: |\n",
            "+---------+\n",
            "  (West)\n",
            "Random action :  pick-up\n",
            "\n",
            "episode Length: 5 state: 201  reward: -10  cumulative reward: -32 penalties: 3 Done: False\n",
            "\n",
            "+---------+\n",
            "|\u001b[34;1mR\u001b[0m: | : :\u001b[35mG\u001b[0m|\n",
            "| : | : : |\n",
            "|\u001b[43m \u001b[0m: : : : |\n",
            "| | : | : |\n",
            "|Y| : |B: |\n",
            "+---------+\n",
            "  (Pickup)\n",
            "Random action :  west\n",
            "\n",
            "episode Length: 6 state: 201  reward: -1  cumulative reward: -33 penalties: 3 Done: False\n",
            "\n",
            "+---------+\n",
            "|\u001b[34;1mR\u001b[0m: | : :\u001b[35mG\u001b[0m|\n",
            "| : | : : |\n",
            "|\u001b[43m \u001b[0m: : : : |\n",
            "| | : | : |\n",
            "|Y| : |B: |\n",
            "+---------+\n",
            "  (West)\n",
            "Random action :  pick-up\n",
            "\n",
            "episode Length: 7 state: 201  reward: -10  cumulative reward: -43 penalties: 4 Done: False\n",
            "\n",
            "+---------+\n",
            "|\u001b[34;1mR\u001b[0m: | : :\u001b[35mG\u001b[0m|\n",
            "| : | : : |\n",
            "|\u001b[43m \u001b[0m: : : : |\n",
            "| | : | : |\n",
            "|Y| : |B: |\n",
            "+---------+\n",
            "  (Pickup)\n",
            "Random action :  south\n",
            "\n",
            "episode Length: 8 state: 301  reward: -1  cumulative reward: -44 penalties: 4 Done: False\n",
            "\n",
            "+---------+\n",
            "|\u001b[34;1mR\u001b[0m: | : :\u001b[35mG\u001b[0m|\n",
            "| : | : : |\n",
            "| : : : : |\n",
            "|\u001b[43m \u001b[0m| : | : |\n",
            "|Y| : |B: |\n",
            "+---------+\n",
            "  (South)\n",
            "Random action :  east\n",
            "\n",
            "episode Length: 9 state: 301  reward: -1  cumulative reward: -45 penalties: 4 Done: False\n",
            "\n",
            "+---------+\n",
            "|\u001b[34;1mR\u001b[0m: | : :\u001b[35mG\u001b[0m|\n",
            "| : | : : |\n",
            "| : : : : |\n",
            "|\u001b[43m \u001b[0m| : | : |\n",
            "|Y| : |B: |\n",
            "+---------+\n",
            "  (East)\n",
            "Random action :  pick-up\n",
            "\n",
            "episode Length: 10 state: 301  reward: -10  cumulative reward: -55 penalties: 5 Done: False\n",
            "\n",
            "+---------+\n",
            "|\u001b[34;1mR\u001b[0m: | : :\u001b[35mG\u001b[0m|\n",
            "| : | : : |\n",
            "| : : : : |\n",
            "|\u001b[43m \u001b[0m| : | : |\n",
            "|Y| : |B: |\n",
            "+---------+\n",
            "  (Pickup)\n",
            "Random action :  pick-up\n",
            "\n",
            "episode Length: 11 state: 301  reward: -10  cumulative reward: -65 penalties: 6 Done: False\n",
            "\n",
            "+---------+\n",
            "|\u001b[34;1mR\u001b[0m: | : :\u001b[35mG\u001b[0m|\n",
            "| : | : : |\n",
            "| : : : : |\n",
            "|\u001b[43m \u001b[0m| : | : |\n",
            "|Y| : |B: |\n",
            "+---------+\n",
            "  (Pickup)\n",
            "Random action :  east\n",
            "\n",
            "episode Length: 12 state: 301  reward: -1  cumulative reward: -66 penalties: 6 Done: False\n",
            "\n",
            "+---------+\n",
            "|\u001b[34;1mR\u001b[0m: | : :\u001b[35mG\u001b[0m|\n",
            "| : | : : |\n",
            "| : : : : |\n",
            "|\u001b[43m \u001b[0m| : | : |\n",
            "|Y| : |B: |\n",
            "+---------+\n",
            "  (East)\n",
            "Random action :  pick-up\n",
            "\n",
            "episode Length: 13 state: 301  reward: -10  cumulative reward: -76 penalties: 7 Done: False\n",
            "\n",
            "+---------+\n",
            "|\u001b[34;1mR\u001b[0m: | : :\u001b[35mG\u001b[0m|\n",
            "| : | : : |\n",
            "| : : : : |\n",
            "|\u001b[43m \u001b[0m| : | : |\n",
            "|Y| : |B: |\n",
            "+---------+\n",
            "  (Pickup)\n",
            "Random action :  pick-up\n",
            "\n",
            "episode Length: 14 state: 301  reward: -10  cumulative reward: -86 penalties: 8 Done: False\n",
            "\n",
            "+---------+\n",
            "|\u001b[34;1mR\u001b[0m: | : :\u001b[35mG\u001b[0m|\n",
            "| : | : : |\n",
            "| : : : : |\n",
            "|\u001b[43m \u001b[0m| : | : |\n",
            "|Y| : |B: |\n",
            "+---------+\n",
            "  (Pickup)\n",
            "Random action :  drop-off\n",
            "\n",
            "episode Length: 15 state: 301  reward: -10  cumulative reward: -96 penalties: 9 Done: False\n",
            "\n",
            "+---------+\n",
            "|\u001b[34;1mR\u001b[0m: | : :\u001b[35mG\u001b[0m|\n",
            "| : | : : |\n",
            "| : : : : |\n",
            "|\u001b[43m \u001b[0m| : | : |\n",
            "|Y| : |B: |\n",
            "+---------+\n",
            "  (Dropoff)\n",
            "Random action :  east\n",
            "\n",
            "episode Length: 16 state: 301  reward: -1  cumulative reward: -97 penalties: 9 Done: False\n",
            "\n",
            "+---------+\n",
            "|\u001b[34;1mR\u001b[0m: | : :\u001b[35mG\u001b[0m|\n",
            "| : | : : |\n",
            "| : : : : |\n",
            "|\u001b[43m \u001b[0m| : | : |\n",
            "|Y| : |B: |\n",
            "+---------+\n",
            "  (East)\n",
            "Random action :  north\n",
            "\n",
            "episode Length: 17 state: 201  reward: -1  cumulative reward: -98 penalties: 9 Done: False\n",
            "\n",
            "+---------+\n",
            "|\u001b[34;1mR\u001b[0m: | : :\u001b[35mG\u001b[0m|\n",
            "| : | : : |\n",
            "|\u001b[43m \u001b[0m: : : : |\n",
            "| | : | : |\n",
            "|Y| : |B: |\n",
            "+---------+\n",
            "  (North)\n",
            "Random action :  west\n",
            "\n",
            "episode Length: 18 state: 201  reward: -1  cumulative reward: -99 penalties: 9 Done: False\n",
            "\n",
            "+---------+\n",
            "|\u001b[34;1mR\u001b[0m: | : :\u001b[35mG\u001b[0m|\n",
            "| : | : : |\n",
            "|\u001b[43m \u001b[0m: : : : |\n",
            "| | : | : |\n",
            "|Y| : |B: |\n",
            "+---------+\n",
            "  (West)\n",
            "Random action :  drop-off\n",
            "\n",
            "episode Length: 19 state: 201  reward: -10  cumulative reward: -109 penalties: 10 Done: False\n",
            "\n",
            "+---------+\n",
            "|\u001b[34;1mR\u001b[0m: | : :\u001b[35mG\u001b[0m|\n",
            "| : | : : |\n",
            "|\u001b[43m \u001b[0m: : : : |\n",
            "| | : | : |\n",
            "|Y| : |B: |\n",
            "+---------+\n",
            "  (Dropoff)\n",
            "Random action :  south\n",
            "\n",
            "episode Length: 20 state: 301  reward: -1  cumulative reward: -110 penalties: 10 Done: False\n",
            "\n",
            "+---------+\n",
            "|\u001b[34;1mR\u001b[0m: | : :\u001b[35mG\u001b[0m|\n",
            "| : | : : |\n",
            "| : : : : |\n",
            "|\u001b[43m \u001b[0m| : | : |\n",
            "|Y| : |B: |\n",
            "+---------+\n",
            "  (South)\n",
            "Random action :  west\n",
            "\n",
            "episode Length: 21 state: 301  reward: -1  cumulative reward: -111 penalties: 10 Done: False\n",
            "\n",
            "+---------+\n",
            "|\u001b[34;1mR\u001b[0m: | : :\u001b[35mG\u001b[0m|\n",
            "| : | : : |\n",
            "| : : : : |\n",
            "|\u001b[43m \u001b[0m| : | : |\n",
            "|Y| : |B: |\n",
            "+---------+\n",
            "  (West)\n",
            "Random action :  drop-off\n",
            "\n",
            "episode Length: 22 state: 301  reward: -10  cumulative reward: -121 penalties: 11 Done: False\n",
            "\n",
            "+---------+\n",
            "|\u001b[34;1mR\u001b[0m: | : :\u001b[35mG\u001b[0m|\n",
            "| : | : : |\n",
            "| : : : : |\n",
            "|\u001b[43m \u001b[0m| : | : |\n",
            "|Y| : |B: |\n",
            "+---------+\n",
            "  (Dropoff)\n",
            "Random action :  drop-off\n",
            "\n",
            "episode Length: 23 state: 301  reward: -10  cumulative reward: -131 penalties: 12 Done: False\n",
            "\n",
            "+---------+\n",
            "|\u001b[34;1mR\u001b[0m: | : :\u001b[35mG\u001b[0m|\n",
            "| : | : : |\n",
            "| : : : : |\n",
            "|\u001b[43m \u001b[0m| : | : |\n",
            "|Y| : |B: |\n",
            "+---------+\n",
            "  (Dropoff)\n",
            "Random action :  south\n",
            "\n",
            "episode Length: 24 state: 401  reward: -1  cumulative reward: -132 penalties: 12 Done: False\n",
            "\n",
            "+---------+\n",
            "|\u001b[34;1mR\u001b[0m: | : :\u001b[35mG\u001b[0m|\n",
            "| : | : : |\n",
            "| : : : : |\n",
            "| | : | : |\n",
            "|\u001b[43mY\u001b[0m| : |B: |\n",
            "+---------+\n",
            "  (South)\n",
            "Random action :  south\n",
            "\n",
            "episode Length: 25 state: 401  reward: -1  cumulative reward: -133 penalties: 12 Done: False\n",
            "\n",
            "+---------+\n",
            "|\u001b[34;1mR\u001b[0m: | : :\u001b[35mG\u001b[0m|\n",
            "| : | : : |\n",
            "| : : : : |\n",
            "| | : | : |\n",
            "|\u001b[43mY\u001b[0m| : |B: |\n",
            "+---------+\n",
            "  (South)\n",
            "Random action :  east\n",
            "\n",
            "episode Length: 26 state: 401  reward: -1  cumulative reward: -134 penalties: 12 Done: False\n",
            "\n",
            "+---------+\n",
            "|\u001b[34;1mR\u001b[0m: | : :\u001b[35mG\u001b[0m|\n",
            "| : | : : |\n",
            "| : : : : |\n",
            "| | : | : |\n",
            "|\u001b[43mY\u001b[0m| : |B: |\n",
            "+---------+\n",
            "  (East)\n",
            "Random action :  south\n",
            "\n",
            "episode Length: 27 state: 401  reward: -1  cumulative reward: -135 penalties: 12 Done: False\n",
            "\n",
            "+---------+\n",
            "|\u001b[34;1mR\u001b[0m: | : :\u001b[35mG\u001b[0m|\n",
            "| : | : : |\n",
            "| : : : : |\n",
            "| | : | : |\n",
            "|\u001b[43mY\u001b[0m| : |B: |\n",
            "+---------+\n",
            "  (South)\n",
            "Random action :  north\n",
            "\n",
            "episode Length: 28 state: 301  reward: -1  cumulative reward: -136 penalties: 12 Done: False\n",
            "\n",
            "+---------+\n",
            "|\u001b[34;1mR\u001b[0m: | : :\u001b[35mG\u001b[0m|\n",
            "| : | : : |\n",
            "| : : : : |\n",
            "|\u001b[43m \u001b[0m| : | : |\n",
            "|Y| : |B: |\n",
            "+---------+\n",
            "  (North)\n",
            "Random action :  drop-off\n",
            "\n",
            "episode Length: 29 state: 301  reward: -10  cumulative reward: -146 penalties: 13 Done: False\n",
            "\n",
            "+---------+\n",
            "|\u001b[34;1mR\u001b[0m: | : :\u001b[35mG\u001b[0m|\n",
            "| : | : : |\n",
            "| : : : : |\n",
            "|\u001b[43m \u001b[0m| : | : |\n",
            "|Y| : |B: |\n",
            "+---------+\n",
            "  (Dropoff)\n",
            "Random action :  west\n",
            "\n",
            "episode Length: 30 state: 301  reward: -1  cumulative reward: -147 penalties: 13 Done: False\n",
            "\n",
            "+---------+\n",
            "|\u001b[34;1mR\u001b[0m: | : :\u001b[35mG\u001b[0m|\n",
            "| : | : : |\n",
            "| : : : : |\n",
            "|\u001b[43m \u001b[0m| : | : |\n",
            "|Y| : |B: |\n",
            "+---------+\n",
            "  (West)\n",
            "Random action :  east\n",
            "\n",
            "episode Length: 31 state: 301  reward: -1  cumulative reward: -148 penalties: 13 Done: False\n",
            "\n",
            "+---------+\n",
            "|\u001b[34;1mR\u001b[0m: | : :\u001b[35mG\u001b[0m|\n",
            "| : | : : |\n",
            "| : : : : |\n",
            "|\u001b[43m \u001b[0m| : | : |\n",
            "|Y| : |B: |\n",
            "+---------+\n",
            "  (East)\n",
            "Random action :  west\n",
            "\n",
            "episode Length: 32 state: 301  reward: -1  cumulative reward: -149 penalties: 13 Done: False\n",
            "\n",
            "+---------+\n",
            "|\u001b[34;1mR\u001b[0m: | : :\u001b[35mG\u001b[0m|\n",
            "| : | : : |\n",
            "| : : : : |\n",
            "|\u001b[43m \u001b[0m| : | : |\n",
            "|Y| : |B: |\n",
            "+---------+\n",
            "  (West)\n",
            "Random action :  east\n",
            "\n",
            "episode Length: 33 state: 301  reward: -1  cumulative reward: -150 penalties: 13 Done: False\n",
            "\n",
            "+---------+\n",
            "|\u001b[34;1mR\u001b[0m: | : :\u001b[35mG\u001b[0m|\n",
            "| : | : : |\n",
            "| : : : : |\n",
            "|\u001b[43m \u001b[0m| : | : |\n",
            "|Y| : |B: |\n",
            "+---------+\n",
            "  (East)\n",
            "Random action :  south\n",
            "\n",
            "episode Length: 34 state: 401  reward: -1  cumulative reward: -151 penalties: 13 Done: False\n",
            "\n",
            "+---------+\n",
            "|\u001b[34;1mR\u001b[0m: | : :\u001b[35mG\u001b[0m|\n",
            "| : | : : |\n",
            "| : : : : |\n",
            "| | : | : |\n",
            "|\u001b[43mY\u001b[0m| : |B: |\n",
            "+---------+\n",
            "  (South)\n",
            "Random action :  north\n",
            "\n",
            "episode Length: 35 state: 301  reward: -1  cumulative reward: -152 penalties: 13 Done: False\n",
            "\n",
            "+---------+\n",
            "|\u001b[34;1mR\u001b[0m: | : :\u001b[35mG\u001b[0m|\n",
            "| : | : : |\n",
            "| : : : : |\n",
            "|\u001b[43m \u001b[0m| : | : |\n",
            "|Y| : |B: |\n",
            "+---------+\n",
            "  (North)\n",
            "Random action :  west\n",
            "\n",
            "episode Length: 36 state: 301  reward: -1  cumulative reward: -153 penalties: 13 Done: False\n",
            "\n",
            "+---------+\n",
            "|\u001b[34;1mR\u001b[0m: | : :\u001b[35mG\u001b[0m|\n",
            "| : | : : |\n",
            "| : : : : |\n",
            "|\u001b[43m \u001b[0m| : | : |\n",
            "|Y| : |B: |\n",
            "+---------+\n",
            "  (West)\n",
            "Random action :  south\n",
            "\n",
            "episode Length: 37 state: 401  reward: -1  cumulative reward: -154 penalties: 13 Done: False\n",
            "\n",
            "+---------+\n",
            "|\u001b[34;1mR\u001b[0m: | : :\u001b[35mG\u001b[0m|\n",
            "| : | : : |\n",
            "| : : : : |\n",
            "| | : | : |\n",
            "|\u001b[43mY\u001b[0m| : |B: |\n",
            "+---------+\n",
            "  (South)\n",
            "Random action :  south\n",
            "\n",
            "episode Length: 38 state: 401  reward: -1  cumulative reward: -155 penalties: 13 Done: False\n",
            "\n",
            "+---------+\n",
            "|\u001b[34;1mR\u001b[0m: | : :\u001b[35mG\u001b[0m|\n",
            "| : | : : |\n",
            "| : : : : |\n",
            "| | : | : |\n",
            "|\u001b[43mY\u001b[0m| : |B: |\n",
            "+---------+\n",
            "  (South)\n",
            "Random action :  east\n",
            "\n",
            "episode Length: 39 state: 401  reward: -1  cumulative reward: -156 penalties: 13 Done: False\n",
            "\n",
            "+---------+\n",
            "|\u001b[34;1mR\u001b[0m: | : :\u001b[35mG\u001b[0m|\n",
            "| : | : : |\n",
            "| : : : : |\n",
            "| | : | : |\n",
            "|\u001b[43mY\u001b[0m| : |B: |\n",
            "+---------+\n",
            "  (East)\n",
            "Random action :  west\n",
            "\n",
            "episode Length: 40 state: 401  reward: -1  cumulative reward: -157 penalties: 13 Done: False\n",
            "\n",
            "+---------+\n",
            "|\u001b[34;1mR\u001b[0m: | : :\u001b[35mG\u001b[0m|\n",
            "| : | : : |\n",
            "| : : : : |\n",
            "| | : | : |\n",
            "|\u001b[43mY\u001b[0m| : |B: |\n",
            "+---------+\n",
            "  (West)\n",
            "Random action :  drop-off\n",
            "\n",
            "episode Length: 41 state: 401  reward: -10  cumulative reward: -167 penalties: 14 Done: False\n",
            "\n",
            "+---------+\n",
            "|\u001b[34;1mR\u001b[0m: | : :\u001b[35mG\u001b[0m|\n",
            "| : | : : |\n",
            "| : : : : |\n",
            "| | : | : |\n",
            "|\u001b[43mY\u001b[0m| : |B: |\n",
            "+---------+\n",
            "  (Dropoff)\n",
            "Random action :  pick-up\n",
            "\n",
            "episode Length: 42 state: 401  reward: -10  cumulative reward: -177 penalties: 15 Done: False\n",
            "\n",
            "+---------+\n",
            "|\u001b[34;1mR\u001b[0m: | : :\u001b[35mG\u001b[0m|\n",
            "| : | : : |\n",
            "| : : : : |\n",
            "| | : | : |\n",
            "|\u001b[43mY\u001b[0m| : |B: |\n",
            "+---------+\n",
            "  (Pickup)\n",
            "Random action :  east\n",
            "\n",
            "episode Length: 43 state: 401  reward: -1  cumulative reward: -178 penalties: 15 Done: False\n",
            "\n",
            "+---------+\n",
            "|\u001b[34;1mR\u001b[0m: | : :\u001b[35mG\u001b[0m|\n",
            "| : | : : |\n",
            "| : : : : |\n",
            "| | : | : |\n",
            "|\u001b[43mY\u001b[0m| : |B: |\n",
            "+---------+\n",
            "  (East)\n",
            "Random action :  drop-off\n",
            "\n",
            "episode Length: 44 state: 401  reward: -10  cumulative reward: -188 penalties: 16 Done: False\n",
            "\n",
            "+---------+\n",
            "|\u001b[34;1mR\u001b[0m: | : :\u001b[35mG\u001b[0m|\n",
            "| : | : : |\n",
            "| : : : : |\n",
            "| | : | : |\n",
            "|\u001b[43mY\u001b[0m| : |B: |\n",
            "+---------+\n",
            "  (Dropoff)\n",
            "Random action :  west\n",
            "\n",
            "episode Length: 45 state: 401  reward: -1  cumulative reward: -189 penalties: 16 Done: False\n",
            "\n",
            "+---------+\n",
            "|\u001b[34;1mR\u001b[0m: | : :\u001b[35mG\u001b[0m|\n",
            "| : | : : |\n",
            "| : : : : |\n",
            "| | : | : |\n",
            "|\u001b[43mY\u001b[0m| : |B: |\n",
            "+---------+\n",
            "  (West)\n",
            "Random action :  east\n",
            "\n",
            "episode Length: 46 state: 401  reward: -1  cumulative reward: -190 penalties: 16 Done: False\n",
            "\n",
            "+---------+\n",
            "|\u001b[34;1mR\u001b[0m: | : :\u001b[35mG\u001b[0m|\n",
            "| : | : : |\n",
            "| : : : : |\n",
            "| | : | : |\n",
            "|\u001b[43mY\u001b[0m| : |B: |\n",
            "+---------+\n",
            "  (East)\n",
            "Random action :  south\n",
            "\n",
            "episode Length: 47 state: 401  reward: -1  cumulative reward: -191 penalties: 16 Done: False\n",
            "\n",
            "+---------+\n",
            "|\u001b[34;1mR\u001b[0m: | : :\u001b[35mG\u001b[0m|\n",
            "| : | : : |\n",
            "| : : : : |\n",
            "| | : | : |\n",
            "|\u001b[43mY\u001b[0m| : |B: |\n",
            "+---------+\n",
            "  (South)\n",
            "Random action :  south\n",
            "\n",
            "episode Length: 48 state: 401  reward: -1  cumulative reward: -192 penalties: 16 Done: False\n",
            "\n",
            "+---------+\n",
            "|\u001b[34;1mR\u001b[0m: | : :\u001b[35mG\u001b[0m|\n",
            "| : | : : |\n",
            "| : : : : |\n",
            "| | : | : |\n",
            "|\u001b[43mY\u001b[0m| : |B: |\n",
            "+---------+\n",
            "  (South)\n",
            "Random action :  south\n",
            "\n",
            "episode Length: 49 state: 401  reward: -1  cumulative reward: -193 penalties: 16 Done: False\n",
            "\n",
            "+---------+\n",
            "|\u001b[34;1mR\u001b[0m: | : :\u001b[35mG\u001b[0m|\n",
            "| : | : : |\n",
            "| : : : : |\n",
            "| | : | : |\n",
            "|\u001b[43mY\u001b[0m| : |B: |\n",
            "+---------+\n",
            "  (South)\n",
            "Random action :  south\n",
            "\n",
            "episode Length: 50 state: 401  reward: -1  cumulative reward: -194 penalties: 16 Done: False\n",
            "\n",
            "+---------+\n",
            "|\u001b[34;1mR\u001b[0m: | : :\u001b[35mG\u001b[0m|\n",
            "| : | : : |\n",
            "| : : : : |\n",
            "| | : | : |\n",
            "|\u001b[43mY\u001b[0m| : |B: |\n",
            "+---------+\n",
            "  (South)\n"
          ],
          "name": "stdout"
        }
      ]
    },
    {
      "cell_type": "markdown",
      "metadata": {
        "id": "itv7t4AeBlzY"
      },
      "source": [
        "Note: After episode length of 200 steps, the Done flag is automatically made True to terminate the game."
      ]
    },
    {
      "cell_type": "markdown",
      "metadata": {
        "id": "8PV91m4941FQ"
      },
      "source": [
        "### Evaluation, visualization and supporting functions"
      ]
    },
    {
      "cell_type": "markdown",
      "metadata": {
        "id": "FwwyBPLv10os"
      },
      "source": [
        "A function to drive taxi based on input policy"
      ]
    },
    {
      "cell_type": "code",
      "metadata": {
        "id": "hFsCxueWyo1p"
      },
      "source": [
        "def drive_taxi_by_policy(policy, maxEpisodeLen=200, iterationsToRun=10, debug=True):\n",
        "  cumRewardPerEpisode = 0\n",
        "  episodeLen = 0\n",
        "  penaltiesPerEpisode = 0\n",
        "\n",
        "  finalCumReward = 0\n",
        "  finalPenalties = 0\n",
        "\n",
        "  rewardsList = []\n",
        "\n",
        "  for i in range(iterationsToRun):\n",
        "    taxi.reset()\n",
        "    #taxi.env.s = 499\n",
        "    if debug:\n",
        "      taxi.render()\n",
        "    done = False\n",
        "    if debug:\n",
        "      print(\"Starting iteration:\",i, \" begins with state: \", taxi.env.s)\n",
        "      print (\"--------------------------------------------------------------------\")\n",
        "\n",
        "    wLoop = 0\n",
        "    while not done:\n",
        "      act = policy[taxi.env.s] #taxi.env.action_space.sample()\n",
        "      if debug:\n",
        "        print(\"action according to policy: \",actionsMap[act])\n",
        "      episodeLen += 1\n",
        "      #if (episodeLen > maxEpisodeLen):\n",
        "        #print (\"Max episode length reached. Try again!\")\n",
        "      #  break\n",
        "      state, reward, done, p = taxi.step(act)\n",
        "      cumRewardPerEpisode += reward\n",
        "      if reward == -10:\n",
        "        penaltiesPerEpisode += 1\n",
        "      \n",
        "      if debug:\n",
        "        print()\n",
        "        print (\"episode Length:\",episodeLen, \"state:\",state,\" reward:\",reward,\" cumulative reward:\",cumRewardPerEpisode, \"penalties:\",penaltiesPerEpisode ,\"Done:\",done)\n",
        "        print()\n",
        "        taxi.render()\n",
        "\n",
        "    rewardsList.append(cumRewardPerEpisode)\n",
        "    finalCumReward += cumRewardPerEpisode\n",
        "    finalPenalties += penaltiesPerEpisode\n",
        "    \n",
        "    if debug:\n",
        "      print(\"Finished iteration:\",i)\n",
        "      print (\"Running cumulative reward:\", finalCumReward, \" Running penalties:\", finalPenalties)\n",
        "      print (\"--------------------------------------------------------------------\")    \n",
        "\n",
        "    cumRewardPerEpisode = 0\n",
        "    episodeLen = 0\n",
        "    penaltiesPerEpisode = 0\n",
        "\n",
        "  print(\"DONE\")\n",
        "  print (\"********************************************************************\")\n",
        "  print(\"Average Reward per iteration:\", finalCumReward/iterationsToRun)\n",
        "  print(\"Total penalties incurred:\", finalPenalties)\n",
        "  print (\"********************************************************************\")\n",
        "\n",
        "  return rewardsList"
      ],
      "execution_count": 26,
      "outputs": []
    },
    {
      "cell_type": "markdown",
      "metadata": {
        "id": "jOluIAmh2--c"
      },
      "source": [
        "Visualizing the Policy (Courtesy: Dian)"
      ]
    },
    {
      "cell_type": "code",
      "metadata": {
        "id": "ORS9IpO4GbaD"
      },
      "source": [
        "def pretty_print_policy(polcy, taxi, drop_off=False, render=True):\n",
        "    if render:\n",
        "      taxi.render()\n",
        "    taxi_row, taxi_col, pass_idx, dest_idx = taxi.decode(taxi.s)\n",
        "    if drop_off: pass_idx = 4\n",
        "    direction_repr = {1:' 🡑 ', 2:' 🡒 ', 3:' 🡐 ', 0:' 🡓 ', None:' ⬤ ', 4:' O ', 5:' X '}\n",
        "    for row in range(5):\n",
        "        for col in range(5):\n",
        "            state = taxi.encode(row, col, pass_idx, dest_idx)\n",
        "            print(direction_repr[polcy[state]],end='')\n",
        "        print()"
      ],
      "execution_count": 27,
      "outputs": []
    },
    {
      "cell_type": "markdown",
      "metadata": {
        "id": "By_eMdklMSZ-"
      },
      "source": [
        "A function to evaluate Rubrik criteria"
      ]
    },
    {
      "cell_type": "code",
      "metadata": {
        "id": "v6W8TzhffUz4"
      },
      "source": [
        "def rubrik_criteria(rewards_list,windowSize=100,fifthPercentile=7.2, nintyFifthPercentile=8.2):\n",
        "  assert len(rewards_list) == 1000, f\"The length of the input rewards list does not meet the rubirk's criteria of 1000!\"\n",
        "  #calculate average over window of size = windowSize\n",
        "  avgRewardsList = []\n",
        "\n",
        "  for i in range(901):\n",
        "    avgRewardsList.append(sum(rewards_list[0+i:windowSize-1+i])/len(rewards_list[0+i:windowSize-1+i]))\n",
        "  \n",
        "  #calculate the 5th and 95th percentile across the average rewards list\n",
        "  fP = np.percentile(avgRewardsList,5)\n",
        "  nfP = np.percentile(avgRewardsList,95)\n",
        "  print (\"5th Percentile: \",fP)\n",
        "  print (\"95th Percentile: \",nfP)\n",
        "\n",
        "  #check against the Rubrik's threshold criteria\n",
        "  if (fP >= fifthPercentile and nfP >= nintyFifthPercentile):\n",
        "    print ()\n",
        "    print (\"Result: Pass!\")\n",
        "    print ()\n",
        "  else:\n",
        "    print ()\n",
        "    print (\"Result: Fail\")\n",
        "    print ()\n",
        "  return avgRewardsList"
      ],
      "execution_count": 28,
      "outputs": []
    },
    {
      "cell_type": "markdown",
      "metadata": {
        "id": "CT7k_H5xDnMO"
      },
      "source": [
        "Supporting functions and parameters"
      ]
    },
    {
      "cell_type": "code",
      "metadata": {
        "id": "Xron1M2PDBvB"
      },
      "source": [
        "import numpy as np\n",
        "import pandas as pd\n",
        "from tqdm import tqdm "
      ],
      "execution_count": 29,
      "outputs": []
    },
    {
      "cell_type": "code",
      "metadata": {
        "id": "wknwFAnJDBvP"
      },
      "source": [
        "HYPER_PARAMS = {'gamma':0.9} # gamma is the discounting factor for future rewards"
      ],
      "execution_count": 30,
      "outputs": []
    },
    {
      "cell_type": "code",
      "metadata": {
        "id": "zckZW1YVDBvP"
      },
      "source": [
        "def greedy_policy_from_returns_tbl(table):\n",
        "    \"\"\"\n",
        "    Given a returns table return the greedy/optimum policy\n",
        "    \"\"\"\n",
        "    plc = {s:None for s in table.index }\n",
        "    for state in table.index:\n",
        "        greedy_action = table.loc[state].idxmax()\n",
        "        plc[state] = greedy_action\n",
        "            \n",
        "    return plc"
      ],
      "execution_count": 31,
      "outputs": []
    },
    {
      "cell_type": "code",
      "metadata": {
        "id": "12qHpM-l-Aae"
      },
      "source": [
        "def epsilon_greedy_action_from_Q(Q, state, epsilon):\n",
        "    \"\"\"\n",
        "    Given a returns table (Q), current state and the\n",
        "    epsilon factor indicating the probability of taking\n",
        "    random/non-optimum action, return the next action to take\n",
        "    \"\"\"\n",
        "    actions = Q.columns\n",
        "    action_probs = np.asarray([epsilon/len(actions)]*len(actions),dtype=np.float)\n",
        "    \n",
        "    greedy_action_index = np.argmax(Q.loc[state].values)\n",
        "    action_probs[greedy_action_index] += 1-epsilon\n",
        "\n",
        "    epsilon_greedy_action = np.random.choice(Q.columns,p=action_probs)\n",
        "    \n",
        "    return epsilon_greedy_action"
      ],
      "execution_count": 32,
      "outputs": []
    },
    {
      "cell_type": "markdown",
      "metadata": {
        "id": "GlhLny5599rJ"
      },
      "source": [
        "### Try SARSA"
      ]
    },
    {
      "cell_type": "markdown",
      "metadata": {
        "id": "EsqNf0cDyll_"
      },
      "source": [
        "Experiments:\n",
        "1. \n",
        "  - n_episodes = 5000, epsilon = 1, min_epsilon = 0.1, epsilon_decay = 0.9995, alpha = 0.001. \n",
        "  - Result: Not enough number of episodes to learn.\n",
        "\n",
        "2. \n",
        "  - n_episodes = 10000, epsilon = 1, min_epsilon = 0.1, epsilon_decay = 0.9995, alpha = 0.001. \n",
        "  - Result: Not enough number of episodes to learn. Actions still quite random.\n",
        "\n",
        "3. \n",
        "  - n_episodes = 100000, epsilon = 1, min_epsilon = 0.1, epsilon_decay = 0.995, alpha = 0.01 (higher learning rate). \n",
        "  - Result: Many deadlocks still present.\n",
        "\n",
        "4. \n",
        "  - n_episodes = 100000, epsilon = 1, min_epsilon = 0.1, epsilon_decay = 0.9 (decay faster to encourage more exploitation), alpha = 0.01 (higher learning rate). \n",
        "  - Result: Best possible policy.\n",
        "\n",
        "5. \n",
        "  - n_episodes = 100000, epsilon = 1, min_epsilon = 0.1, epsilon_decay = 0.9 (decay faster to encourage more exploitation), alpha = 0.1 (higher learning rate). \n",
        "  - Result: average rewards mostly negative.  "
      ]
    },
    {
      "cell_type": "code",
      "metadata": {
        "colab": {
          "base_uri": "https://localhost:8080/"
        },
        "id": "m6nokftp9Ce0",
        "outputId": "cc38bdb9-3cab-4c7e-8edc-a5b2d1232c29"
      },
      "source": [
        "from tqdm import tqdm \n",
        "Q = pd.DataFrame.from_dict({s:{a:0 for a in range(taxi.env.nA)} for s in range(taxi.env.nS)}, orient='index')\n",
        "\n",
        "n_episodes = 100000\n",
        "epsilon = 1\n",
        "min_epsilon = 0.1\n",
        "epsilon_decay = 0.9\n",
        "HYPER_PARAMS['gamma'] = 0.9\n",
        "alpha = 0.01\n",
        "\n",
        "rewards_sarsa_plot = np.zeros(n_episodes)\n",
        "\n",
        "for i in tqdm(range(n_episodes)):\n",
        "    taxi.reset()\n",
        "    s0 = taxi.env.s\n",
        "    a0 = epsilon_greedy_action_from_Q(Q,s0,epsilon)\n",
        "    \n",
        "    done = False\n",
        "    \n",
        "    episode_reward = 0\n",
        "    while not done:\n",
        "      s1, reward, done, _  = taxi.step(a0)\n",
        "      a1 = epsilon_greedy_action_from_Q(Q,s1,epsilon)\n",
        "      \n",
        "      Q.loc[s0,a0] += alpha*(reward + HYPER_PARAMS['gamma']*Q.loc[s1,a1] - Q.loc[s0,a0])\n",
        "      \n",
        "      s0, a0 = s1, a1\n",
        "      episode_reward += reward\n",
        "  \n",
        "    epsilon *= epsilon_decay\n",
        "    epsilon = max(epsilon,min_epsilon)\n",
        "\n",
        "    rewards_sarsa_plot[i] = episode_reward\n",
        "\n",
        "policy_SARSA = greedy_policy_from_returns_tbl(Q)\n",
        "print(policy_SARSA)"
      ],
      "execution_count": 33,
      "outputs": [
        {
          "output_type": "stream",
          "text": [
            "100%|██████████| 100000/100000 [24:40<00:00, 67.55it/s]\n"
          ],
          "name": "stderr"
        },
        {
          "output_type": "stream",
          "text": [
            "{0: 0, 1: 4, 2: 4, 3: 4, 4: 2, 5: 0, 6: 2, 7: 2, 8: 0, 9: 0, 10: 0, 11: 0, 12: 0, 13: 0, 14: 0, 15: 0, 16: 5, 17: 0, 18: 0, 19: 0, 20: 0, 21: 3, 22: 3, 23: 3, 24: 0, 25: 0, 26: 0, 27: 0, 28: 0, 29: 0, 30: 0, 31: 3, 32: 0, 33: 0, 34: 0, 35: 0, 36: 3, 37: 0, 38: 0, 39: 0, 40: 0, 41: 0, 42: 0, 43: 0, 44: 2, 45: 0, 46: 2, 47: 2, 48: 0, 49: 0, 50: 0, 51: 0, 52: 0, 53: 0, 54: 2, 55: 0, 56: 0, 57: 2, 58: 0, 59: 2, 60: 0, 61: 2, 62: 0, 63: 3, 64: 2, 65: 0, 66: 2, 67: 2, 68: 0, 69: 3, 70: 0, 71: 3, 72: 0, 73: 0, 74: 0, 75: 0, 76: 0, 77: 2, 78: 0, 79: 0, 80: 0, 81: 1, 82: 3, 83: 0, 84: 4, 85: 0, 86: 4, 87: 4, 88: 3, 89: 3, 90: 0, 91: 0, 92: 0, 93: 0, 94: 0, 95: 0, 96: 3, 97: 5, 98: 3, 99: 0, 100: 0, 101: 1, 102: 1, 103: 1, 104: 0, 105: 0, 106: 0, 107: 2, 108: 0, 109: 0, 110: 0, 111: 0, 112: 2, 113: 0, 114: 0, 115: 0, 116: 1, 117: 0, 118: 0, 119: 0, 120: 0, 121: 3, 122: 3, 123: 3, 124: 0, 125: 0, 126: 0, 127: 0, 128: 0, 129: 3, 130: 0, 131: 0, 132: 0, 133: 0, 134: 0, 135: 0, 136: 3, 137: 0, 138: 0, 139: 0, 140: 0, 141: 0, 142: 0, 143: 0, 144: 1, 145: 0, 146: 1, 147: 2, 148: 0, 149: 0, 150: 0, 151: 0, 152: 0, 153: 0, 154: 0, 155: 0, 156: 0, 157: 2, 158: 0, 159: 2, 160: 0, 161: 3, 162: 0, 163: 0, 164: 2, 165: 0, 166: 2, 167: 2, 168: 0, 169: 0, 170: 0, 171: 3, 172: 0, 173: 0, 174: 0, 175: 0, 176: 0, 177: 2, 178: 0, 179: 0, 180: 0, 181: 3, 182: 0, 183: 0, 184: 1, 185: 0, 186: 1, 187: 1, 188: 3, 189: 3, 190: 0, 191: 3, 192: 3, 193: 3, 194: 3, 195: 0, 196: 3, 197: 1, 198: 3, 199: 3, 200: 0, 201: 1, 202: 1, 203: 1, 204: 3, 205: 0, 206: 2, 207: 2, 208: 0, 209: 0, 210: 0, 211: 0, 212: 2, 213: 2, 214: 2, 215: 0, 216: 1, 217: 2, 218: 0, 219: 2, 220: 0, 221: 1, 222: 1, 223: 1, 224: 2, 225: 0, 226: 2, 227: 2, 228: 3, 229: 3, 230: 0, 231: 3, 232: 2, 233: 2, 234: 2, 235: 0, 236: 3, 237: 2, 238: 3, 239: 2, 240: 0, 241: 3, 242: 3, 243: 3, 244: 2, 245: 0, 246: 1, 247: 2, 248: 3, 249: 3, 250: 0, 251: 3, 252: 2, 253: 2, 254: 2, 255: 0, 256: 3, 257: 2, 258: 3, 259: 2, 260: 0, 261: 3, 262: 3, 263: 3, 264: 1, 265: 0, 266: 1, 267: 1, 268: 3, 269: 3, 270: 0, 271: 3, 272: 0, 273: 0, 274: 0, 275: 0, 276: 3, 277: 2, 278: 3, 279: 0, 280: 0, 281: 3, 282: 3, 283: 3, 284: 1, 285: 0, 286: 1, 287: 1, 288: 3, 289: 3, 290: 0, 291: 3, 292: 3, 293: 0, 294: 0, 295: 0, 296: 3, 297: 1, 298: 3, 299: 3, 300: 0, 301: 1, 302: 1, 303: 1, 304: 0, 305: 0, 306: 1, 307: 1, 308: 0, 309: 0, 310: 0, 311: 0, 312: 1, 313: 1, 314: 1, 315: 0, 316: 1, 317: 1, 318: 0, 319: 1, 320: 0, 321: 1, 322: 1, 323: 1, 324: 1, 325: 0, 326: 2, 327: 2, 328: 1, 329: 1, 330: 0, 331: 1, 332: 2, 333: 1, 334: 1, 335: 0, 336: 1, 337: 1, 338: 1, 339: 1, 340: 0, 341: 3, 342: 1, 343: 3, 344: 1, 345: 0, 346: 1, 347: 1, 348: 1, 349: 1, 350: 0, 351: 3, 352: 1, 353: 1, 354: 1, 355: 0, 356: 1, 357: 1, 358: 1, 359: 1, 360: 0, 361: 1, 362: 1, 363: 1, 364: 2, 365: 0, 366: 2, 367: 1, 368: 1, 369: 1, 370: 0, 371: 1, 372: 0, 373: 0, 374: 0, 375: 0, 376: 1, 377: 1, 378: 1, 379: 0, 380: 0, 381: 3, 382: 3, 383: 3, 384: 1, 385: 0, 386: 1, 387: 1, 388: 3, 389: 0, 390: 0, 391: 3, 392: 3, 393: 3, 394: 3, 395: 0, 396: 3, 397: 1, 398: 3, 399: 3, 400: 0, 401: 1, 402: 1, 403: 1, 404: 1, 405: 0, 406: 1, 407: 1, 408: 4, 409: 4, 410: 0, 411: 4, 412: 2, 413: 1, 414: 1, 415: 0, 416: 1, 417: 1, 418: 5, 419: 1, 420: 0, 421: 1, 422: 1, 423: 1, 424: 0, 425: 0, 426: 1, 427: 1, 428: 1, 429: 1, 430: 0, 431: 1, 432: 0, 433: 1, 434: 2, 435: 0, 436: 1, 437: 1, 438: 1, 439: 1, 440: 0, 441: 0, 442: 1, 443: 1, 444: 1, 445: 0, 446: 1, 447: 1, 448: 1, 449: 3, 450: 0, 451: 1, 452: 1, 453: 1, 454: 1, 455: 0, 456: 1, 457: 1, 458: 1, 459: 1, 460: 0, 461: 1, 462: 1, 463: 1, 464: 1, 465: 0, 466: 2, 467: 1, 468: 1, 469: 1, 470: 0, 471: 1, 472: 4, 473: 4, 474: 4, 475: 0, 476: 1, 477: 1, 478: 1, 479: 5, 480: 0, 481: 3, 482: 3, 483: 1, 484: 1, 485: 0, 486: 1, 487: 1, 488: 1, 489: 1, 490: 0, 491: 1, 492: 3, 493: 3, 494: 3, 495: 0, 496: 3, 497: 1, 498: 3, 499: 3}\n"
          ],
          "name": "stdout"
        }
      ]
    },
    {
      "cell_type": "code",
      "metadata": {
        "colab": {
          "base_uri": "https://localhost:8080/"
        },
        "id": "lExFbiNRGdoH",
        "outputId": "b0c0eba9-5798-4128-98c5-e1a241fd3470"
      },
      "source": [
        "taxi.reset()\n",
        "pretty_print_policy(policy_SARSA, taxi)"
      ],
      "execution_count": 49,
      "outputs": [
        {
          "output_type": "stream",
          "text": [
            "+---------+\n",
            "|R: | : :\u001b[43mG\u001b[0m|\n",
            "| : | : : |\n",
            "| : : : : |\n",
            "| | : | : |\n",
            "|\u001b[35mY\u001b[0m| : |\u001b[34;1mB\u001b[0m: |\n",
            "+---------+\n",
            "\n",
            " 🡓  🡓  🡒  🡓  🡓 \n",
            " 🡓  🡓  🡓  🡓  🡐 \n",
            " 🡒  🡒  🡒  🡓  🡓 \n",
            " 🡑  🡑  🡑  🡓  🡐 \n",
            " 🡑  🡒  🡑  O  🡐 \n"
          ],
          "name": "stdout"
        }
      ]
    },
    {
      "cell_type": "code",
      "metadata": {
        "colab": {
          "base_uri": "https://localhost:8080/"
        },
        "id": "QXrUpdy1zz_C",
        "outputId": "c00d311c-e11f-48be-f40a-f9f9f42e9a38"
      },
      "source": [
        "pretty_print_policy(policy_SARSA, taxi, drop_off=True)"
      ],
      "execution_count": 50,
      "outputs": [
        {
          "output_type": "stream",
          "text": [
            "+---------+\n",
            "|R: | : :\u001b[43mG\u001b[0m|\n",
            "| : | : : |\n",
            "| : : : : |\n",
            "| | : | : |\n",
            "|\u001b[35mY\u001b[0m| : |\u001b[34;1mB\u001b[0m: |\n",
            "+---------+\n",
            "\n",
            " 🡓  🡓  🡓  🡓  🡐 \n",
            " 🡓  🡓  🡓  🡓  🡐 \n",
            " 🡓  🡐  🡐  🡐  🡐 \n",
            " 🡓  🡑  🡑  🡑  🡐 \n",
            " X  🡑  🡑  🡑  🡐 \n"
          ],
          "name": "stdout"
        }
      ]
    },
    {
      "cell_type": "code",
      "metadata": {
        "colab": {
          "base_uri": "https://localhost:8080/"
        },
        "id": "zMCBWvvt9rUp",
        "outputId": "fd2fbae2-c203-4b9f-bbcd-1d361eb15eb2"
      },
      "source": [
        "rewards_sarsa = drive_taxi_by_policy(policy_SARSA,iterationsToRun=1000,debug=False)"
      ],
      "execution_count": 52,
      "outputs": [
        {
          "output_type": "stream",
          "text": [
            "DONE\n",
            "********************************************************************\n",
            "Average Reward per iteration: 1.739\n",
            "Total penalties incurred: 0\n",
            "********************************************************************\n"
          ],
          "name": "stdout"
        }
      ]
    },
    {
      "cell_type": "code",
      "metadata": {
        "colab": {
          "base_uri": "https://localhost:8080/"
        },
        "id": "vqf_wTiQqJVr",
        "outputId": "c0f624e4-9b4b-41a4-8d44-95183f2ba3c2"
      },
      "source": [
        "min (rewards_sarsa)"
      ],
      "execution_count": 54,
      "outputs": [
        {
          "output_type": "execute_result",
          "data": {
            "text/plain": [
              "-200"
            ]
          },
          "metadata": {
            "tags": []
          },
          "execution_count": 54
        }
      ]
    },
    {
      "cell_type": "code",
      "metadata": {
        "colab": {
          "base_uri": "https://localhost:8080/"
        },
        "id": "TIAhJr7aqNpo",
        "outputId": "c79a470e-a45b-496b-c2d3-a758a47fe593"
      },
      "source": [
        "max (rewards_sarsa)"
      ],
      "execution_count": 55,
      "outputs": [
        {
          "output_type": "execute_result",
          "data": {
            "text/plain": [
              "15"
            ]
          },
          "metadata": {
            "tags": []
          },
          "execution_count": 55
        }
      ]
    },
    {
      "cell_type": "code",
      "metadata": {
        "colab": {
          "base_uri": "https://localhost:8080/"
        },
        "id": "iAKkM3JCq4Rv",
        "outputId": "563577f7-6bcf-48e2-808b-b4066915fc01"
      },
      "source": [
        "print (rubrik_criteria(rewards_sarsa))"
      ],
      "execution_count": 56,
      "outputs": [
        {
          "output_type": "stream",
          "text": [
            "5th Percentile:  -2.595959595959596\n",
            "95th Percentile:  8.282828282828282\n",
            "\n",
            "Result: Fail\n",
            "\n",
            "[-2.313131313131313, -2.323232323232323, -2.3636363636363638, -2.313131313131313, -2.323232323232323, -2.3434343434343434, -2.3636363636363638, -4.474747474747475, -4.454545454545454, -4.444444444444445, -2.3737373737373737, -2.4242424242424243, -2.494949494949495, -2.515151515151515, -4.606060606060606, -4.565656565656566, -4.555555555555555, -4.595959595959596, -4.575757575757576, -4.575757575757576, -2.474747474747475, -2.494949494949495, -2.484848484848485, -2.484848484848485, -2.484848484848485, -2.484848484848485, -2.484848484848485, -2.5454545454545454, -2.5757575757575757, -2.606060606060606, -2.595959595959596, -2.585858585858586, -2.6363636363636362, -2.6262626262626263, -0.5454545454545454, -0.5555555555555556, -0.5757575757575758, -0.5555555555555556, -0.5959595959595959, -0.5959595959595959, -0.5555555555555556, -0.5757575757575758, -0.5858585858585859, -0.5454545454545454, -0.5959595959595959, -0.6262626262626263, -0.6161616161616161, -0.6060606060606061, -0.5656565656565656, -0.5151515151515151, -0.47474747474747475, -0.43434343434343436, -0.45454545454545453, -0.41414141414141414, -0.40404040404040403, -0.42424242424242425, 1.6666666666666667, 1.7171717171717171, 1.8080808080808082, 1.7373737373737375, 1.7272727272727273, 1.696969696969697, -0.37373737373737376, -0.3939393939393939, -0.42424242424242425, -0.4444444444444444, -0.43434343434343436, -0.40404040404040403, -0.4444444444444444, -0.45454545454545453, -0.45454545454545453, -0.47474747474747475, -0.42424242424242425, -2.525252525252525, -2.494949494949495, -2.4646464646464645, -2.4646464646464645, -0.35353535353535354, -0.3939393939393939, -0.3838383838383838, -0.3939393939393939, -0.3838383838383838, -0.37373737373737376, -0.36363636363636365, -0.40404040404040403, -0.43434343434343436, -0.43434343434343436, -0.48484848484848486, -0.494949494949495, -0.5353535353535354, -0.5454545454545454, -0.5353535353535354, -0.47474747474747475, -0.45454545454545453, -0.48484848484848486, -0.47474747474747475, -0.494949494949495, -0.47474747474747475, -0.45454545454545453, -0.45454545454545453, -0.46464646464646464, -0.45454545454545453, -0.4444444444444444, -0.37373737373737376, -0.37373737373737376, -0.35353535353535354, 1.7777777777777777, 1.797979797979798, 1.8484848484848484, 1.8686868686868687, 1.898989898989899, 1.898989898989899, 1.878787878787879, 3.9494949494949494, 1.8484848484848484, 1.8686868686868687, 1.9090909090909092, 1.9191919191919191, 1.9292929292929293, 1.8888888888888888, 1.9191919191919191, 1.9191919191919191, 1.9191919191919191, 1.898989898989899, 1.9191919191919191, 1.9090909090909092, 1.8888888888888888, 1.9191919191919191, 1.9494949494949494, 1.9595959595959596, 1.898989898989899, 1.9595959595959596, 1.9191919191919191, -0.16161616161616163, -0.23232323232323232, -0.20202020202020202, -0.2222222222222222, -0.2222222222222222, -0.1919191919191919, -0.24242424242424243, -0.21212121212121213, -0.18181818181818182, -0.1717171717171717, -0.12121212121212122, -0.10101010101010101, -0.13131313131313133, -0.1111111111111111, -0.1717171717171717, -0.24242424242424243, -0.29292929292929293, -0.30303030303030304, -0.32323232323232326, -0.3434343434343434, -0.35353535353535354, -0.3333333333333333, -0.3434343434343434, -0.36363636363636365, -0.43434343434343436, -0.36363636363636365, -0.35353535353535354, -0.3434343434343434, 1.7373737373737375, 1.7373737373737375, 1.8080808080808082, 1.8181818181818181, 1.8686868686868687, 1.9191919191919191, 1.9595959595959596, 1.9393939393939394, 1.898989898989899, 1.8686868686868687, 1.8282828282828283, 3.9393939393939394, 3.909090909090909, 3.919191919191919, 3.878787878787879, 3.9393939393939394, 3.9393939393939394, 3.888888888888889, 3.8585858585858586, 3.878787878787879, 3.8484848484848486, 3.8585858585858586, 3.898989898989899, 3.919191919191919, 3.9292929292929295, 4.01010101010101, 4.01010101010101, 4.0, 4.02020202020202, 4.02020202020202, 4.070707070707071, 4.090909090909091, 4.070707070707071, 4.08080808080808, 4.101010101010101, 4.111111111111111, 4.111111111111111, 4.090909090909091, 4.08080808080808, 4.101010101010101, 4.070707070707071, 4.01010101010101, 4.0, 3.95959595959596, 3.919191919191919, 1.8282828282828283, -0.3434343434343434, -0.32323232323232326, -0.32323232323232326, -0.30303030303030304, -0.30303030303030304, -0.29292929292929293, 1.7878787878787878, 1.7777777777777777, 1.7878787878787878, 1.7878787878787878, 1.8080808080808082, 1.8282828282828283, 1.8181818181818181, 1.8484848484848484, 1.878787878787879, 1.9494949494949494, 1.9696969696969697, 2.04040404040404, 2.080808080808081, 2.0505050505050506, 2.04040404040404, 2.01010101010101, 2.0707070707070705, 2.04040404040404, 2.1313131313131315, 4.232323232323233, 4.282828282828283, 4.232323232323233, 4.252525252525253, 4.2727272727272725, 4.2727272727272725, 4.333333333333333, 4.303030303030303, 4.363636363636363, 4.363636363636363, 4.292929292929293, 4.2727272727272725, 2.191919191919192, 2.1414141414141414, 2.1515151515151514, 2.202020202020202, 2.2222222222222223, 2.212121212121212, 0.1414141414141414, 0.15151515151515152, 0.18181818181818182, 0.2222222222222222, 0.21212121212121213, 0.20202020202020202, 0.1717171717171717, 0.1111111111111111, 0.16161616161616163, 0.21212121212121213, 0.24242424242424243, 0.23232323232323232, 0.15151515151515152, 0.16161616161616163, 0.18181818181818182, 0.12121212121212122, 0.13131313131313133, 0.10101010101010101, 0.1111111111111111, 0.13131313131313133, 0.1919191919191919, 0.20202020202020202, 0.25252525252525254, -1.878787878787879, -1.8686868686868687, -1.9595959595959596, -1.9696969696969697, -1.9393939393939394, -1.9292929292929293, -1.9595959595959596, -1.898989898989899, -1.878787878787879, -1.8585858585858586, -1.8585858585858586, -1.898989898989899, -1.898989898989899, -1.8383838383838385, -1.8080808080808082, -1.8585858585858586, -1.878787878787879, -1.9595959595959596, -1.9696969696969697, -1.9494949494949494, -1.9595959595959596, -1.9898989898989898, -1.9494949494949494, -1.9393939393939394, -1.9595959595959596, -1.9595959595959596, -2.0303030303030303, -2.04040404040404, -1.9898989898989898, -1.9393939393939394, -1.898989898989899, -1.9090909090909092, 0.1717171717171717, 2.282828282828283, 2.292929292929293, 2.323232323232323, 2.3535353535353534, 2.3535353535353534, 2.3434343434343434, 2.3737373737373737, 2.3636363636363638, 2.3535353535353534, 2.282828282828283, 2.272727272727273, 2.282828282828283, 2.303030303030303, 2.313131313131313, 2.313131313131313, 2.272727272727273, 2.2323232323232323, 2.191919191919192, 2.1616161616161618, 2.1616161616161618, 2.1818181818181817, 2.2222222222222223, 2.212121212121212, 2.212121212121212, 2.1414141414141414, 2.121212121212121, 2.1414141414141414, 2.1717171717171717, 2.2323232323232323, 2.2323232323232323, 2.1818181818181817, 2.1414141414141414, 2.121212121212121, 2.080808080808081, 2.04040404040404, 2.080808080808081, 2.080808080808081, 4.171717171717172, 4.212121212121212, 4.262626262626263, 4.212121212121212, 4.202020202020202, 4.222222222222222, 6.313131313131313, 6.353535353535354, 6.353535353535354, 6.282828282828283, 6.343434343434343, 6.373737373737374, 6.424242424242424, 6.444444444444445, 6.383838383838384, 6.393939393939394, 6.353535353535354, 6.353535353535354, 6.404040404040404, 6.414141414141414, 6.353535353535354, 6.414141414141414, 6.414141414141414, 6.414141414141414, 6.414141414141414, 6.383838383838384, 6.313131313131313, 6.343434343434343, 6.313131313131313, 8.434343434343434, 8.474747474747474, 8.454545454545455, 8.454545454545455, 8.444444444444445, 8.434343434343434, 8.444444444444445, 8.444444444444445, 8.363636363636363, 8.343434343434344, 8.353535353535353, 8.333333333333334, 8.262626262626263, 8.202020202020202, 8.202020202020202, 8.313131313131313, 8.292929292929292, 8.333333333333334, 8.343434343434344, 8.333333333333334, 8.343434343434344, 8.343434343434344, 8.292929292929292, 8.282828282828282, 8.303030303030303, 8.343434343434344, 8.393939393939394, 8.444444444444445, 8.414141414141413, 8.333333333333334, 8.333333333333334, 8.383838383838384, 8.383838383838384, 8.333333333333334, 8.303030303030303, 8.272727272727273, 8.262626262626263, 8.272727272727273, 8.303030303030303, 8.292929292929292, 8.303030303030303, 8.292929292929292, 8.333333333333334, 8.343434343434344, 8.383838383838384, 8.383838383838384, 8.373737373737374, 8.333333333333334, 8.343434343434344, 8.383838383838384, 8.353535353535353, 8.383838383838384, 6.292929292929293, 6.262626262626263, 6.222222222222222, 6.252525252525253, 6.232323232323233, 6.212121212121212, 6.212121212121212, 6.161616161616162, 6.181818181818182, 6.141414141414141, 6.101010101010101, 6.101010101010101, 6.111111111111111, 6.151515151515151, 6.141414141414141, 6.151515151515151, 6.141414141414141, 6.171717171717172, 6.161616161616162, 6.101010101010101, 6.08080808080808, 6.1313131313131315, 6.111111111111111, 6.070707070707071, 6.08080808080808, 6.040404040404041, 6.05050505050505, 6.08080808080808, 6.040404040404041, 6.0, 5.97979797979798, 5.96969696969697, 5.94949494949495, 5.929292929292929, 5.91919191919192, 5.9393939393939394, 5.94949494949495, 5.898989898989899, 5.9393939393939394, 5.909090909090909, 5.858585858585859, 5.909090909090909, 5.97979797979798, 6.02020202020202, 6.070707070707071, 6.03030303030303, 6.040404040404041, 5.98989898989899, 5.929292929292929, 5.9393939393939394, 5.96969696969697, 6.0, 6.02020202020202, 5.96969696969697, 5.888888888888889, 5.97979797979798, 5.929292929292929, 5.94949494949495, 6.0, 6.03030303030303, 6.090909090909091, 6.08080808080808, 6.070707070707071, 6.070707070707071, 6.05050505050505, 6.0, 6.05050505050505, 6.02020202020202, 6.02020202020202, 6.01010101010101, 6.0, 6.01010101010101, 5.96969696969697, 5.96969696969697, 5.909090909090909, 5.898989898989899, 5.898989898989899, 5.828282828282828, 5.797979797979798, 5.838383838383838, 3.7777777777777777, 3.757575757575758, 3.7777777777777777, 3.7474747474747474, 3.7676767676767677, 3.727272727272727, 3.717171717171717, 3.707070707070707, 3.7373737373737375, 3.757575757575758, 3.727272727272727, 3.7676767676767677, 3.727272727272727, 3.686868686868687, 3.707070707070707, 3.696969696969697, 3.6464646464646466, 3.6565656565656566, 3.717171717171717, 5.797979797979798, 5.808080808080808, 5.848484848484849, 5.777777777777778, 5.828282828282828, 5.858585858585859, 5.8686868686868685, 5.8686868686868685, 5.878787878787879, 5.828282828282828, 5.8686868686868685, 5.909090909090909, 5.858585858585859, 5.898989898989899, 5.8686868686868685, 5.848484848484849, 5.797979797979798, 5.797979797979798, 5.777777777777778, 5.808080808080808, 5.818181818181818, 5.848484848484849, 5.848484848484849, 5.878787878787879, 5.888888888888889, 5.91919191919192, 5.929292929292929, 5.97979797979798, 3.888888888888889, 3.8686868686868685, 3.9292929292929295, 3.9393939393939394, 4.040404040404041, 4.05050505050505, 4.070707070707071, 4.05050505050505, 4.0606060606060606, 4.040404040404041, 4.0606060606060606, 4.01010101010101, 4.05050505050505, 4.05050505050505, 4.0, 4.040404040404041, 3.98989898989899, 3.9292929292929295, 3.919191919191919, 3.9292929292929295, 3.95959595959596, 4.0, 1.8686868686868687, 1.8181818181818181, 1.8686868686868687, 1.898989898989899, 1.9494949494949494, -0.20202020202020202, -0.18181818181818182, -0.1919191919191919, -0.24242424242424243, -0.25252525252525254, -0.2727272727272727, -0.2828282828282828, -2.4343434343434343, -2.4444444444444446, -2.404040404040404, -2.393939393939394, -2.414141414141414, -2.393939393939394, -2.3535353535353534, -2.3636363636363638, -2.3333333333333335, -2.3737373737373737, -2.3333333333333335, -2.3737373737373737, -2.313131313131313, -2.3333333333333335, -2.313131313131313, -2.272727272727273, -2.242424242424242, -2.2525252525252526, -0.1717171717171717, -0.1414141414141414, -0.15151515151515152, -0.16161616161616163, -0.13131313131313133, -0.12121212121212122, -0.15151515151515152, -0.12121212121212122, -0.15151515151515152, -0.1717171717171717, -0.18181818181818182, -0.26262626262626265, -0.23232323232323232, -0.26262626262626265, -0.2727272727272727, -0.2727272727272727, -0.23232323232323232, -0.25252525252525254, -0.32323232323232326, -0.31313131313131315, -0.2828282828282828, -0.29292929292929293, -0.29292929292929293, -0.29292929292929293, -0.30303030303030304, -0.3434343434343434, -0.31313131313131315, -0.35353535353535354, -0.37373737373737376, -0.41414141414141414, -0.47474747474747475, -2.525252525252525, -2.595959595959596, -2.585858585858586, -2.595959595959596, -2.5454545454545454, -2.6161616161616164, -2.585858585858586, -2.595959595959596, -2.6666666666666665, -2.7373737373737375, -2.7373737373737375, -2.757575757575758, -2.7474747474747474, -2.727272727272727, -2.797979797979798, -2.8181818181818183, -0.7171717171717171, -0.7070707070707071, -0.7474747474747475, -0.7272727272727273, -0.7676767676767676, -0.8181818181818182, -0.8080808080808081, -0.8282828282828283, -0.8383838383838383, -0.797979797979798, -0.8181818181818182, -0.7474747474747475, -0.7575757575757576, -0.7474747474747475, -0.7373737373737373, -0.7777777777777778, -0.8080808080808081, -0.7070707070707071, -0.6666666666666666, -0.6565656565656566, -0.6161616161616161, -2.727272727272727, -0.6363636363636364, -0.6161616161616161, -0.6565656565656566, -0.5959595959595959, -0.6262626262626263, 1.494949494949495, 1.494949494949495, 1.4646464646464648, 1.4747474747474747, 1.494949494949495, 1.5353535353535352, -0.5555555555555556, 1.5757575757575757, 1.595959595959596, 1.606060606060606, 1.5656565656565657, 1.5757575757575757, 1.5353535353535352, 1.4747474747474747, 1.5151515151515151, 1.505050505050505, 1.5656565656565657, 1.5353535353535352, 1.595959595959596, 1.5656565656565657, 1.6262626262626263, 1.6363636363636365, 1.5858585858585859, 1.5555555555555556, 1.5252525252525253, 1.5353535353535352, 1.5252525252525253, 1.5252525252525253, -0.5757575757575758, -0.6565656565656566, -0.6464646464646465, -0.5959595959595959, -0.6161616161616161, -2.707070707070707, -2.717171717171717, -2.676767676767677, -2.6565656565656566, -2.676767676767677, -2.6262626262626263, -2.6161616161616164, -2.585858585858586, -2.585858585858586, -4.6767676767676765, -4.656565656565657, -4.595959595959596, -4.636363636363637, -4.656565656565657, -4.626262626262626, -4.585858585858586, -4.545454545454546, -4.494949494949495, -4.505050505050505, -4.505050505050505, -4.454545454545454, -4.393939393939394, -4.363636363636363, -2.272727272727273, -2.2525252525252526, -2.303030303030303, -2.242424242424242, -2.292929292929293, -2.2626262626262625, -2.2525252525252526, -2.2525252525252526, -2.1717171717171717, -2.1515151515151514, -2.090909090909091, -2.04040404040404, -2.0303030303030303, -2.0202020202020203, -1.9898989898989898, -2.0202020202020203, -2.04040404040404, -2.0202020202020203, -2.01010101010101, -2.0505050505050506, -2.080808080808081, -2.0505050505050506, -2.01010101010101, -1.9393939393939394, -1.9292929292929293, -1.9393939393939394, -1.9898989898989898, -2.01010101010101, -2.01010101010101, -2.01010101010101, -1.97979797979798, -1.9494949494949494, -1.8888888888888888, -1.9696969696969697, -1.9696969696969697, -1.9292929292929293, -1.9191919191919191, 0.1717171717171717, 0.20202020202020202, 0.21212121212121213, 0.20202020202020202, 0.16161616161616163, 0.1717171717171717, 0.1717171717171717, 0.16161616161616163, 0.1717171717171717, 0.1717171717171717, 0.16161616161616163, 0.16161616161616163, 2.2626262626262625, 2.2222222222222223, 2.2323232323232323, 2.202020202020202, 2.2323232323232323, 2.202020202020202, 2.2525252525252526, 0.1919191919191919, 0.18181818181818182, 0.1717171717171717, 0.12121212121212122, 0.06060606060606061, 0.050505050505050504, 0.050505050505050504, -0.010101010101010102, 0.0, -2.0505050505050506, -2.080808080808081, -2.01010101010101, -2.0202020202020203, -1.9898989898989898, -2.0, 0.12121212121212122, 0.15151515151515152, 0.16161616161616163, 0.1414141414141414, 0.1717171717171717, 2.2525252525252526, 2.2222222222222223, 2.212121212121212, 2.1818181818181817, 2.2323232323232323, 2.2525252525252526, 2.272727272727273, 2.2222222222222223, 2.212121212121212, 4.313131313131313, 4.303030303030303, 4.303030303030303, 4.343434343434343, 4.343434343434343, 4.353535353535354, 4.313131313131313, 4.282828282828283, 4.282828282828283, 4.303030303030303, 4.262626262626263, 4.282828282828283, 4.222222222222222, 4.191919191919192, 4.212121212121212, 4.222222222222222, 4.262626262626263, 4.222222222222222, 4.232323232323233, 4.222222222222222, 4.242424242424242, 4.212121212121212, 4.171717171717172, 4.181818181818182, 4.141414141414141, 4.111111111111111, 4.090909090909091, 4.01010101010101, 4.01010101010101, 3.98989898989899, 4.040404040404041, 4.08080808080808, 4.0606060606060606, 4.090909090909091, 4.08080808080808, 4.070707070707071, 4.03030303030303, 3.9696969696969697, 3.9393939393939394, 3.98989898989899, 3.98989898989899, 3.9494949494949494, 3.9292929292929295, 3.9494949494949494, 3.898989898989899, 3.909090909090909, 3.8484848484848486, 3.8484848484848486, 3.8383838383838382, 3.787878787878788, 3.7474747474747474, 3.7474747474747474, 3.717171717171717, 3.696969696969697, 3.696969696969697, 3.696969696969697, 3.696969696969697, 3.676767676767677, 3.707070707070707, 3.7373737373737375, 3.7777777777777777, 3.7676767676767677, 3.676767676767677, 3.707070707070707, 3.707070707070707, 3.696969696969697, 3.6565656565656566, 3.686868686868687, 3.717171717171717, 3.6565656565656566, 5.797979797979798, 5.787878787878788, 5.737373737373737, 5.838383838383838, 5.929292929292929, 5.898989898989899, 5.878787878787879, 3.808080808080808, 3.797979797979798, 5.909090909090909, 5.959595959595959, 5.898989898989899, 5.9393939393939394]\n"
          ],
          "name": "stdout"
        }
      ]
    },
    {
      "cell_type": "code",
      "metadata": {
        "colab": {
          "base_uri": "https://localhost:8080/",
          "height": 265
        },
        "id": "Scb63CgF_5GA",
        "outputId": "3a3dc08d-1a82-4288-fc1c-cfee29fc1b3d"
      },
      "source": [
        "import matplotlib.pyplot as plt\n",
        "windowed_rewards = np.convolve(rewards_sarsa_plot, np.ones(100), 'valid')\n",
        "plt.plot(windowed_rewards/100)\n",
        "plt.show()"
      ],
      "execution_count": 57,
      "outputs": [
        {
          "output_type": "display_data",
          "data": {
            "image/png": "[encoded data removed]",
            "text/plain": [
              "<Figure size 432x288 with 1 Axes>"
            ]
          },
          "metadata": {
            "tags": [],
            "needs_background": "light"
          }
        }
      ]
    },
    {
      "cell_type": "markdown",
      "metadata": {
        "id": "WdkVsE3eVZHN"
      },
      "source": [
        "### Try Q-Learning"
      ]
    },
    {
      "cell_type": "markdown",
      "metadata": {
        "id": "uNTO-67n02Un"
      },
      "source": [
        "Experiments: (Reuse hyperparameters from Sarsa)\n",
        "1. \n",
        "  - n_episodes = 100000, epsilon = 1, min_epsilon = 0.1, epsilon_decay = 0.99 (decay faster to encourage more exploitation), alpha = 0.1 (higher learning rate), gamma = 0.9\n",
        "  - Result: Rubrik Pass.\n",
        "\n",
        "2.   \n",
        "  - n_episodes = 100000, epsilon = 1, min_epsilon = 0.1, epsilon_decay = 0.9 (decay faster to encourage more exploitation), alpha = 0.1 (higher learning rate), gamma = 0.8 (give lesser weightage for future returns)\n",
        "  - Result: Rubrik pass. Better average rewards."
      ]
    },
    {
      "cell_type": "code",
      "metadata": {
        "colab": {
          "base_uri": "https://localhost:8080/"
        },
        "id": "wJzBGQ2BVcyS",
        "outputId": "63fb545f-1b4f-4f54-e4a6-a9ab8f1262f9"
      },
      "source": [
        "from tqdm import tqdm \n",
        "Q = pd.DataFrame.from_dict({s:{a:0 for a in range(taxi.env.nA)} for s in range(taxi.env.nS)}, orient='index')\n",
        "\n",
        "n_episodes = 100000\n",
        "epsilon = 1\n",
        "min_epsilon = 0.1\n",
        "epsilon_decay = 0.9\n",
        "\n",
        "alpha = 0.1\n",
        "HYPER_PARAMS['gamma'] = 0.8\n",
        "\n",
        "rewards_q_learning_plot = np.zeros(n_episodes)\n",
        "for i in tqdm(range(n_episodes)):\n",
        "    taxi.reset()\n",
        "    s0 = taxi.s\n",
        "    done = False\n",
        "    \n",
        "    episode_reward = 0\n",
        "    while not done:\n",
        "        a0 = epsilon_greedy_action_from_Q(Q,s0,epsilon)\n",
        "        s1, reward, done, _  = taxi.step(a0)\n",
        "        \n",
        "        Q.loc[s0,a0] += alpha*(reward + HYPER_PARAMS['gamma']*Q.loc[s1].max() - Q.loc[s0,a0])\n",
        "        episode_reward += reward\n",
        "        \n",
        "        s0 = s1\n",
        "  \n",
        "    epsilon *= epsilon_decay\n",
        "    epsilon = max(epsilon,min_epsilon)\n",
        "\n",
        "    rewards_q_learning_plot[i] = episode_reward\n",
        "\n",
        "policy_Q_Learning = greedy_policy_from_returns_tbl(Q)\n",
        "print(policy_Q_Learning)"
      ],
      "execution_count": 39,
      "outputs": [
        {
          "output_type": "stream",
          "text": [
            "100%|██████████| 100000/100000 [21:24<00:00, 77.83it/s]\n"
          ],
          "name": "stderr"
        },
        {
          "output_type": "stream",
          "text": [
            "{0: 0, 1: 4, 2: 4, 3: 4, 4: 2, 5: 0, 6: 0, 7: 2, 8: 0, 9: 0, 10: 0, 11: 0, 12: 0, 13: 2, 14: 0, 15: 0, 16: 5, 17: 0, 18: 0, 19: 0, 20: 0, 21: 3, 22: 3, 23: 3, 24: 0, 25: 0, 26: 0, 27: 0, 28: 0, 29: 0, 30: 0, 31: 0, 32: 0, 33: 0, 34: 0, 35: 0, 36: 3, 37: 0, 38: 0, 39: 0, 40: 0, 41: 0, 42: 0, 43: 0, 44: 2, 45: 0, 46: 2, 47: 2, 48: 0, 49: 0, 50: 0, 51: 0, 52: 2, 53: 0, 54: 0, 55: 0, 56: 0, 57: 2, 58: 0, 59: 2, 60: 0, 61: 0, 62: 0, 63: 0, 64: 2, 65: 0, 66: 2, 67: 2, 68: 0, 69: 0, 70: 0, 71: 0, 72: 0, 73: 0, 74: 0, 75: 0, 76: 0, 77: 2, 78: 0, 79: 0, 80: 0, 81: 3, 82: 0, 83: 0, 84: 4, 85: 0, 86: 4, 87: 4, 88: 0, 89: 3, 90: 0, 91: 3, 92: 3, 93: 0, 94: 3, 95: 0, 96: 3, 97: 5, 98: 3, 99: 0, 100: 0, 101: 1, 102: 1, 103: 1, 104: 2, 105: 0, 106: 0, 107: 2, 108: 0, 109: 0, 110: 0, 111: 0, 112: 0, 113: 2, 114: 0, 115: 0, 116: 1, 117: 0, 118: 0, 119: 2, 120: 0, 121: 3, 122: 3, 123: 3, 124: 0, 125: 0, 126: 0, 127: 0, 128: 0, 129: 0, 130: 0, 131: 0, 132: 0, 133: 0, 134: 0, 135: 0, 136: 3, 137: 0, 138: 3, 139: 0, 140: 0, 141: 0, 142: 0, 143: 0, 144: 2, 145: 0, 146: 2, 147: 2, 148: 0, 149: 0, 150: 0, 151: 0, 152: 0, 153: 0, 154: 0, 155: 0, 156: 0, 157: 2, 158: 0, 159: 2, 160: 0, 161: 0, 162: 3, 163: 0, 164: 2, 165: 0, 166: 2, 167: 2, 168: 0, 169: 0, 170: 0, 171: 0, 172: 0, 173: 0, 174: 0, 175: 0, 176: 0, 177: 1, 178: 0, 179: 0, 180: 0, 181: 0, 182: 3, 183: 3, 184: 1, 185: 0, 186: 1, 187: 1, 188: 3, 189: 3, 190: 0, 191: 3, 192: 3, 193: 3, 194: 3, 195: 0, 196: 3, 197: 1, 198: 3, 199: 3, 200: 0, 201: 1, 202: 1, 203: 1, 204: 2, 205: 0, 206: 2, 207: 2, 208: 0, 209: 0, 210: 0, 211: 0, 212: 2, 213: 2, 214: 2, 215: 0, 216: 1, 217: 2, 218: 0, 219: 2, 220: 0, 221: 1, 222: 1, 223: 1, 224: 2, 225: 0, 226: 2, 227: 2, 228: 3, 229: 3, 230: 0, 231: 3, 232: 2, 233: 2, 234: 2, 235: 0, 236: 3, 237: 2, 238: 3, 239: 2, 240: 0, 241: 3, 242: 3, 243: 3, 244: 2, 245: 0, 246: 1, 247: 2, 248: 3, 249: 3, 250: 0, 251: 3, 252: 2, 253: 2, 254: 2, 255: 0, 256: 3, 257: 2, 258: 3, 259: 2, 260: 0, 261: 3, 262: 3, 263: 3, 264: 1, 265: 0, 266: 1, 267: 2, 268: 3, 269: 3, 270: 0, 271: 3, 272: 0, 273: 0, 274: 0, 275: 0, 276: 3, 277: 1, 278: 3, 279: 0, 280: 0, 281: 3, 282: 3, 283: 3, 284: 1, 285: 0, 286: 1, 287: 1, 288: 3, 289: 3, 290: 0, 291: 3, 292: 3, 293: 3, 294: 3, 295: 0, 296: 3, 297: 1, 298: 3, 299: 3, 300: 0, 301: 1, 302: 1, 303: 1, 304: 1, 305: 0, 306: 1, 307: 1, 308: 0, 309: 0, 310: 0, 311: 0, 312: 1, 313: 1, 314: 1, 315: 0, 316: 1, 317: 1, 318: 0, 319: 1, 320: 0, 321: 1, 322: 1, 323: 1, 324: 2, 325: 0, 326: 1, 327: 1, 328: 1, 329: 1, 330: 0, 331: 1, 332: 1, 333: 2, 334: 1, 335: 0, 336: 1, 337: 1, 338: 1, 339: 1, 340: 0, 341: 1, 342: 1, 343: 1, 344: 1, 345: 0, 346: 1, 347: 1, 348: 3, 349: 1, 350: 0, 351: 1, 352: 1, 353: 1, 354: 1, 355: 0, 356: 3, 357: 1, 358: 1, 359: 1, 360: 0, 361: 1, 362: 1, 363: 1, 364: 1, 365: 0, 366: 1, 367: 1, 368: 1, 369: 1, 370: 0, 371: 1, 372: 0, 373: 0, 374: 0, 375: 0, 376: 1, 377: 1, 378: 1, 379: 0, 380: 0, 381: 1, 382: 3, 383: 3, 384: 1, 385: 0, 386: 1, 387: 1, 388: 3, 389: 3, 390: 0, 391: 1, 392: 3, 393: 3, 394: 3, 395: 0, 396: 3, 397: 1, 398: 3, 399: 3, 400: 0, 401: 1, 402: 1, 403: 1, 404: 1, 405: 0, 406: 1, 407: 1, 408: 4, 409: 4, 410: 0, 411: 4, 412: 1, 413: 1, 414: 1, 415: 0, 416: 1, 417: 1, 418: 5, 419: 1, 420: 0, 421: 1, 422: 1, 423: 1, 424: 2, 425: 0, 426: 2, 427: 1, 428: 1, 429: 1, 430: 0, 431: 1, 432: 1, 433: 1, 434: 1, 435: 0, 436: 1, 437: 1, 438: 1, 439: 1, 440: 0, 441: 1, 442: 1, 443: 1, 444: 1, 445: 0, 446: 1, 447: 1, 448: 1, 449: 1, 450: 0, 451: 1, 452: 1, 453: 1, 454: 1, 455: 0, 456: 3, 457: 1, 458: 1, 459: 1, 460: 0, 461: 1, 462: 1, 463: 1, 464: 2, 465: 0, 466: 1, 467: 1, 468: 1, 469: 1, 470: 0, 471: 1, 472: 4, 473: 4, 474: 4, 475: 0, 476: 1, 477: 1, 478: 1, 479: 5, 480: 0, 481: 3, 482: 1, 483: 3, 484: 1, 485: 0, 486: 1, 487: 1, 488: 3, 489: 3, 490: 0, 491: 1, 492: 3, 493: 3, 494: 3, 495: 0, 496: 3, 497: 1, 498: 3, 499: 3}\n"
          ],
          "name": "stdout"
        }
      ]
    },
    {
      "cell_type": "code",
      "metadata": {
        "colab": {
          "base_uri": "https://localhost:8080/"
        },
        "id": "AYyDuQqL3nad",
        "outputId": "afc68d95-f9f8-42ee-98dd-8ad4fb74abe4"
      },
      "source": [
        "taxi.reset()\n",
        "pretty_print_policy(policy_Q_Learning, taxi)"
      ],
      "execution_count": 40,
      "outputs": [
        {
          "output_type": "stream",
          "text": [
            "+---------+\n",
            "|R: | : :\u001b[35mG\u001b[0m|\n",
            "| : | : : |\n",
            "|\u001b[43m \u001b[0m: : : : |\n",
            "| | : | : |\n",
            "|\u001b[34;1mY\u001b[0m| : |B: |\n",
            "+---------+\n",
            "\n",
            " 🡓  🡓  🡓  🡓  🡐 \n",
            " 🡓  🡓  🡓  🡓  🡐 \n",
            " 🡓  🡐  🡐  🡐  🡐 \n",
            " 🡓  🡑  🡑  🡑  🡐 \n",
            " O  🡑  🡑  🡑  🡐 \n"
          ],
          "name": "stdout"
        }
      ]
    },
    {
      "cell_type": "code",
      "metadata": {
        "colab": {
          "base_uri": "https://localhost:8080/"
        },
        "id": "IFtKWJFL3sY4",
        "outputId": "4c01d1db-4183-4a77-c85b-1c5c270aeb2e"
      },
      "source": [
        "pretty_print_policy(policy_Q_Learning, taxi, drop_off=True)"
      ],
      "execution_count": 41,
      "outputs": [
        {
          "output_type": "stream",
          "text": [
            "+---------+\n",
            "|R: | : :\u001b[35mG\u001b[0m|\n",
            "| : | : : |\n",
            "|\u001b[43m \u001b[0m: : : : |\n",
            "| | : | : |\n",
            "|\u001b[34;1mY\u001b[0m| : |B: |\n",
            "+---------+\n",
            "\n",
            " 🡓  🡓  🡒  🡒  X \n",
            " 🡓  🡓  🡒  🡑  🡑 \n",
            " 🡒  🡒  🡒  🡑  🡑 \n",
            " 🡑  🡑  🡑  🡑  🡑 \n",
            " 🡑  🡑  🡑  🡑  🡑 \n"
          ],
          "name": "stdout"
        }
      ]
    },
    {
      "cell_type": "code",
      "metadata": {
        "colab": {
          "base_uri": "https://localhost:8080/"
        },
        "id": "-5hhAs1YvELm",
        "outputId": "c6a4bec8-aceb-4c05-c3d8-013bf033f25e"
      },
      "source": [
        "drive_taxi_by_policy(policy_Q_Learning,iterationsToRun=1,debug=True) #vizualizing for a single run"
      ],
      "execution_count": 42,
      "outputs": [
        {
          "output_type": "stream",
          "text": [
            "+---------+\n",
            "|\u001b[34;1mR\u001b[0m: | : :G|\n",
            "| : | : : |\n",
            "| : : : : |\n",
            "| | : | : |\n",
            "|\u001b[35mY\u001b[0m| : |B:\u001b[43m \u001b[0m|\n",
            "+---------+\n",
            "\n",
            "Starting iteration: 0  begins with state:  482\n",
            "--------------------------------------------------------------------\n",
            "action according to policy:  north\n",
            "\n",
            "episode Length: 1 state: 382  reward: -1  cumulative reward: -1 penalties: 0 Done: False\n",
            "\n",
            "+---------+\n",
            "|\u001b[34;1mR\u001b[0m: | : :G|\n",
            "| : | : : |\n",
            "| : : : : |\n",
            "| | : | :\u001b[43m \u001b[0m|\n",
            "|\u001b[35mY\u001b[0m| : |B: |\n",
            "+---------+\n",
            "  (North)\n",
            "action according to policy:  west\n",
            "\n",
            "episode Length: 2 state: 362  reward: -1  cumulative reward: -2 penalties: 0 Done: False\n",
            "\n",
            "+---------+\n",
            "|\u001b[34;1mR\u001b[0m: | : :G|\n",
            "| : | : : |\n",
            "| : : : : |\n",
            "| | : |\u001b[43m \u001b[0m: |\n",
            "|\u001b[35mY\u001b[0m| : |B: |\n",
            "+---------+\n",
            "  (West)\n",
            "action according to policy:  north\n",
            "\n",
            "episode Length: 3 state: 262  reward: -1  cumulative reward: -3 penalties: 0 Done: False\n",
            "\n",
            "+---------+\n",
            "|\u001b[34;1mR\u001b[0m: | : :G|\n",
            "| : | : : |\n",
            "| : : :\u001b[43m \u001b[0m: |\n",
            "| | : | : |\n",
            "|\u001b[35mY\u001b[0m| : |B: |\n",
            "+---------+\n",
            "  (North)\n",
            "action according to policy:  west\n",
            "\n",
            "episode Length: 4 state: 242  reward: -1  cumulative reward: -4 penalties: 0 Done: False\n",
            "\n",
            "+---------+\n",
            "|\u001b[34;1mR\u001b[0m: | : :G|\n",
            "| : | : : |\n",
            "| : :\u001b[43m \u001b[0m: : |\n",
            "| | : | : |\n",
            "|\u001b[35mY\u001b[0m| : |B: |\n",
            "+---------+\n",
            "  (West)\n",
            "action according to policy:  west\n",
            "\n",
            "episode Length: 5 state: 222  reward: -1  cumulative reward: -5 penalties: 0 Done: False\n",
            "\n",
            "+---------+\n",
            "|\u001b[34;1mR\u001b[0m: | : :G|\n",
            "| : | : : |\n",
            "| :\u001b[43m \u001b[0m: : : |\n",
            "| | : | : |\n",
            "|\u001b[35mY\u001b[0m| : |B: |\n",
            "+---------+\n",
            "  (West)\n",
            "action according to policy:  north\n",
            "\n",
            "episode Length: 6 state: 122  reward: -1  cumulative reward: -6 penalties: 0 Done: False\n",
            "\n",
            "+---------+\n",
            "|\u001b[34;1mR\u001b[0m: | : :G|\n",
            "| :\u001b[43m \u001b[0m| : : |\n",
            "| : : : : |\n",
            "| | : | : |\n",
            "|\u001b[35mY\u001b[0m| : |B: |\n",
            "+---------+\n",
            "  (North)\n",
            "action according to policy:  west\n",
            "\n",
            "episode Length: 7 state: 102  reward: -1  cumulative reward: -7 penalties: 0 Done: False\n",
            "\n",
            "+---------+\n",
            "|\u001b[34;1mR\u001b[0m: | : :G|\n",
            "|\u001b[43m \u001b[0m: | : : |\n",
            "| : : : : |\n",
            "| | : | : |\n",
            "|\u001b[35mY\u001b[0m| : |B: |\n",
            "+---------+\n",
            "  (West)\n",
            "action according to policy:  north\n",
            "\n",
            "episode Length: 8 state: 2  reward: -1  cumulative reward: -8 penalties: 0 Done: False\n",
            "\n",
            "+---------+\n",
            "|\u001b[34;1m\u001b[43mR\u001b[0m\u001b[0m: | : :G|\n",
            "| : | : : |\n",
            "| : : : : |\n",
            "| | : | : |\n",
            "|\u001b[35mY\u001b[0m| : |B: |\n",
            "+---------+\n",
            "  (North)\n",
            "action according to policy:  pick-up\n",
            "\n",
            "episode Length: 9 state: 18  reward: -1  cumulative reward: -9 penalties: 0 Done: False\n",
            "\n",
            "+---------+\n",
            "|\u001b[42mR\u001b[0m: | : :G|\n",
            "| : | : : |\n",
            "| : : : : |\n",
            "| | : | : |\n",
            "|\u001b[35mY\u001b[0m| : |B: |\n",
            "+---------+\n",
            "  (Pickup)\n",
            "action according to policy:  south\n",
            "\n",
            "episode Length: 10 state: 118  reward: -1  cumulative reward: -10 penalties: 0 Done: False\n",
            "\n",
            "+---------+\n",
            "|R: | : :G|\n",
            "|\u001b[42m_\u001b[0m: | : : |\n",
            "| : : : : |\n",
            "| | : | : |\n",
            "|\u001b[35mY\u001b[0m| : |B: |\n",
            "+---------+\n",
            "  (South)\n",
            "action according to policy:  south\n",
            "\n",
            "episode Length: 11 state: 218  reward: -1  cumulative reward: -11 penalties: 0 Done: False\n",
            "\n",
            "+---------+\n",
            "|R: | : :G|\n",
            "| : | : : |\n",
            "|\u001b[42m_\u001b[0m: : : : |\n",
            "| | : | : |\n",
            "|\u001b[35mY\u001b[0m| : |B: |\n",
            "+---------+\n",
            "  (South)\n",
            "action according to policy:  south\n",
            "\n",
            "episode Length: 12 state: 318  reward: -1  cumulative reward: -12 penalties: 0 Done: False\n",
            "\n",
            "+---------+\n",
            "|R: | : :G|\n",
            "| : | : : |\n",
            "| : : : : |\n",
            "|\u001b[42m_\u001b[0m| : | : |\n",
            "|\u001b[35mY\u001b[0m| : |B: |\n",
            "+---------+\n",
            "  (South)\n",
            "action according to policy:  south\n",
            "\n",
            "episode Length: 13 state: 418  reward: -1  cumulative reward: -13 penalties: 0 Done: False\n",
            "\n",
            "+---------+\n",
            "|R: | : :G|\n",
            "| : | : : |\n",
            "| : : : : |\n",
            "| | : | : |\n",
            "|\u001b[35m\u001b[42mY\u001b[0m\u001b[0m| : |B: |\n",
            "+---------+\n",
            "  (South)\n",
            "action according to policy:  drop-off\n",
            "\n",
            "episode Length: 14 state: 410  reward: 20  cumulative reward: 7 penalties: 0 Done: True\n",
            "\n",
            "+---------+\n",
            "|R: | : :G|\n",
            "| : | : : |\n",
            "| : : : : |\n",
            "| | : | : |\n",
            "|\u001b[35m\u001b[34;1m\u001b[43mY\u001b[0m\u001b[0m\u001b[0m| : |B: |\n",
            "+---------+\n",
            "  (Dropoff)\n",
            "Finished iteration: 0\n",
            "Running cumulative reward: 7  Running penalties: 0\n",
            "--------------------------------------------------------------------\n",
            "DONE\n",
            "********************************************************************\n",
            "Average Reward per iteration: 7.0\n",
            "Total penalties incurred: 0\n",
            "********************************************************************\n"
          ],
          "name": "stdout"
        },
        {
          "output_type": "execute_result",
          "data": {
            "text/plain": [
              "[7]"
            ]
          },
          "metadata": {
            "tags": []
          },
          "execution_count": 42
        }
      ]
    },
    {
      "cell_type": "code",
      "metadata": {
        "colab": {
          "base_uri": "https://localhost:8080/"
        },
        "id": "3QBJLcRjWYCe",
        "outputId": "5d4352fc-2205-46ec-891a-3aa6be3620a1"
      },
      "source": [
        "rewards_q_learning = drive_taxi_by_policy(policy_Q_Learning,iterationsToRun=10000,debug=False)"
      ],
      "execution_count": 68,
      "outputs": [
        {
          "output_type": "stream",
          "text": [
            "DONE\n",
            "********************************************************************\n",
            "Average Reward per iteration: 7.9229\n",
            "Total penalties incurred: 0\n",
            "********************************************************************\n"
          ],
          "name": "stdout"
        }
      ]
    },
    {
      "cell_type": "code",
      "metadata": {
        "colab": {
          "base_uri": "https://localhost:8080/"
        },
        "id": "UHoPD-PiPHSH",
        "outputId": "df05c027-89fc-43b5-e7f3-d32c6fb7946f"
      },
      "source": [
        "print (rewards_q_learning)"
      ],
      "execution_count": 69,
      "outputs": [
        {
          "output_type": "stream",
          "text": [
            "[4, 8, 7, 5, 8, 9, 7, 9, 6, 14, 10, 9, 5, 7, 5, 6, 3, 8, 10, 4, 8, 6, 9, 10, 8, 11, 9, 5, 10, 9, 13, 7, 5, 14, 7, 6, 10, 6, 5, 11, 5, 8, 9, 7, 6, 11, 9, 4, 6, 9, 10, 11, 6, 7, 9, 7, 6, 11, 8, 9, 7, 11, 9, 7, 9, 11, 3, 9, 9, 7, 9, 9, 5, 7, 8, 9, 5, 8, 5, 8, 9, 6, 11, 7, 13, 6, 10, 8, 7, 4, 6, 13, 10, 12, 4, 6, 4, 5, 4, 9, 7, 7, 8, 11, 12, 9, 6, 8, 8, 12, 9, 8, 10, 5, 3, 9, 5, 9, 10, 8, 7, 4, 8, 13, 6, 7, 10, 4, 6, 11, 4, 8, 7, 6, 7, 10, 9, 7, 8, 10, 8, 5, 6, 11, 8, 4, 7, 8, 8, 9, 7, 11, 4, 9, 5, 15, 14, 4, 7, 11, 8, 9, 3, 5, 6, 7, 4, 11, 11, 5, 5, 11, 10, 8, 7, 10, 6, 6, 6, 6, 7, 4, 9, 7, 9, 7, 7, 11, 6, 7, 5, 5, 8, 7, 5, 5, 6, 5, 6, 8, 6, 11, 8, 9, 8, 11, 6, 8, 11, 8, 3, 7, 7, 10, 6, 9, 13, 6, 9, 10, 8, 6, 13, 9, 7, 9, 4, 5, 10, 6, 7, 8, 4, 6, 6, 13, 5, 8, 10, 14, 6, 5, 10, 4, 6, 12, 5, 8, 6, 5, 11, 6, 10, 7, 7, 12, 5, 11, 4, 6, 5, 11, 5, 8, 8, 8, 7, 4, 6, 9, 9, 10, 9, 10, 8, 10, 11, 7, 12, 11, 7, 7, 11, 7, 8, 7, 7, 10, 8, 10, 7, 8, 4, 5, 8, 10, 8, 11, 7, 4, 11, 9, 10, 7, 7, 6, 5, 11, 9, 5, 10, 8, 8, 9, 10, 8, 11, 6, 11, 5, 9, 3, 11, 10, 7, 8, 7, 6, 4, 7, 9, 12, 9, 7, 8, 5, 4, 8, 11, 9, 7, 11, 6, 9, 5, 10, 10, 9, 7, 7, 8, 9, 3, 8, 9, 7, 7, 6, 8, 9, 3, 6, 6, 11, 8, 8, 9, 10, 5, 14, 7, 7, 8, 8, 4, 4, 10, 9, 8, 7, 7, 11, 11, 4, 10, 7, 14, 5, 6, 5, 5, 12, 13, 10, 3, 10, 3, 7, 11, 8, 9, 3, 12, 5, 10, 5, 6, 5, 8, 11, 9, 7, 7, 6, 6, 5, 9, 8, 7, 5, 7, 8, 10, 7, 4, 8, 6, 13, 9, 7, 4, 3, 6, 8, 8, 6, 8, 6, 9, 8, 13, 4, 11, 5, 7, 13, 5, 5, 7, 10, 5, 15, 5, 6, 11, 6, 7, 8, 6, 7, 5, 9, 7, 11, 8, 13, 10, 7, 6, 6, 6, 3, 11, 9, 9, 10, 6, 8, 9, 10, 5, 6, 11, 10, 3, 8, 7, 8, 7, 8, 6, 6, 6, 6, 7, 7, 4, 13, 12, 4, 13, 12, 3, 4, 9, 12, 10, 9, 10, 11, 4, 7, 3, 9, 5, 10, 4, 11, 6, 9, 11, 4, 6, 4, 5, 6, 11, 5, 10, 6, 10, 4, 8, 5, 8, 8, 5, 8, 5, 7, 8, 11, 7, 7, 5, 4, 5, 11, 10, 8, 10, 7, 6, 6, 5, 13, 7, 4, 5, 3, 9, 5, 7, 7, 8, 11, 8, 5, 4, 8, 4, 6, 7, 11, 6, 11, 12, 4, 7, 4, 10, 7, 9, 8, 5, 10, 6, 10, 8, 4, 8, 10, 6, 10, 7, 10, 4, 9, 12, 8, 9, 4, 7, 9, 10, 13, 9, 12, 9, 7, 7, 7, 5, 9, 14, 8, 9, 6, 7, 10, 7, 9, 8, 11, 10, 5, 12, 7, 8, 4, 7, 9, 7, 10, 8, 7, 8, 7, 7, 7, 10, 8, 8, 5, 10, 5, 5, 9, 7, 7, 4, 6, 11, 8, 5, 7, 10, 5, 7, 5, 9, 11, 11, 13, 9, 8, 9, 9, 4, 6, 5, 4, 9, 10, 8, 6, 11, 6, 11, 4, 9, 12, 7, 6, 8, 4, 9, 9, 8, 8, 6, 12, 7, 11, 5, 11, 9, 5, 7, 11, 7, 4, 6, 5, 9, 13, 7, 9, 7, 9, 9, 11, 6, 9, 9, 8, 8, 11, 7, 10, 7, 5, 8, 9, 6, 9, 6, 9, 13, 5, 11, 7, 4, 7, 3, 6, 7, 8, 9, 4, 10, 4, 6, 5, 10, 7, 8, 9, 11, 7, 14, 6, 9, 7, 9, 6, 3, 4, 8, 11, 9, 6, 8, 7, 7, 10, 9, 9, 7, 8, 10, 7, 8, 8, 7, 6, 5, 8, 11, 7, 3, 8, 11, 4, 4, 7, 11, 5, 14, 6, 7, 7, 11, 9, 7, 7, 3, 4, 13, 9, 13, 10, 8, 7, 11, 5, 5, 4, 7, 7, 5, 9, 5, 3, 7, 8, 11, 6, 8, 11, 9, 4, 10, 10, 7, 15, 11, 8, 10, 6, 5, 7, 8, 11, 13, 6, 11, 8, 7, 8, 12, 11, 10, 4, 10, 10, 3, 9, 4, 7, 9, 4, 6, 8, 10, 8, 8, 7, 7, 7, 6, 11, 8, 4, 7, 6, 10, 10, 12, 9, 10, 10, 11, 8, 9, 5, 7, 10, 10, 4, 8, 10, 8, 8, 4, 11, 8, 7, 7, 12, 7, 10, 9, 14, 10, 4, 4, 8, 10, 8, 8, 9, 6, 7, 4, 9, 5, 5, 10, 5, 5, 10, 5, 4, 9, 7, 7, 11, 8, 10, 4, 10, 5, 11, 9, 12, 9, 7, 7, 3, 8, 6, 7, 9, 13, 11, 7, 8, 12, 7, 5, 5, 5, 5, 11, 8, 9, 5, 11, 10, 6, 7, 5, 7, 10, 9, 7, 9, 4, 7, 8, 12, 5, 7, 10, 8, 8, 10, 8, 8, 6, 9, 5, 10, 6, 7, 5, 7, 8, 9, 10, 11, 7, 14, 6, 8, 5, 9, 5, 14, 8, 5, 8, 8, 8, 8, 7, 11, 4, 15, 5, 5, 10, 10, 9, 7, 10, 4, 12, 4, 8, 6, 9, 7, 10, 10, 8, 4, 9, 7, 14, 4, 5, 6, 11, 7, 13, 6, 7, 7, 14, 10, 7, 14, 6, 9, 11, 5, 7, 5, 6, 9, 10, 8, 11, 10, 7, 11, 7, 9, 11, 8, 12, 7, 6, 12, 7, 5, 5, 10, 10, 7, 5, 11, 11, 6, 9, 11, 9, 8, 8, 8, 9, 11, 11, 4, 6, 8, 4, 8, 7, 10, 12, 11, 4, 8, 13, 6, 6, 4, 8, 4, 10, 9, 10, 3, 5, 8, 8, 9, 7, 8, 6, 8, 6, 10, 11, 7, 4, 3, 4, 8, 10, 5, 5, 3, 5, 10, 8, 10, 10, 10, 9, 6, 10, 7, 4, 8, 7, 6, 7, 7, 15, 6, 12, 8, 9, 8, 8, 4, 5, 6, 7, 11, 5, 12, 6, 10, 13, 11, 7, 5, 7, 10, 11, 9, 12, 15, 7, 9, 8, 9, 9, 7, 9, 11, 11, 11, 9, 9, 5, 10, 7, 7, 4, 4, 7, 4, 12, 6, 13, 3, 5, 10, 7, 9, 6, 6, 7, 10, 5, 7, 5, 8, 7, 9, 10, 10, 7, 8, 7, 7, 8, 4, 8, 7, 12, 6, 8, 12, 8, 7, 9, 9, 11, 7, 10, 10, 8, 8, 5, 6, 4, 7, 12, 3, 8, 6, 11, 10, 12, 11, 11, 9, 6, 8, 11, 9, 9, 7, 7, 9, 5, 6, 6, 7, 10, 10, 9, 8, 9, 8, 6, 10, 12, 5, 11, 6, 6, 6, 6, 11, 11, 14, 11, 7, 6, 11, 7, 7, 7, 7, 5, 7, 8, 9, 10, 9, 4, 4, 5, 10, 7, 8, 6, 9, 9, 6, 10, 6, 5, 14, 8, 10, 11, 7, 8, 5, 11, 8, 7, 7, 7, 11, 9, 9, 6, 4, 10, 5, 7, 13, 8, 4, 10, 9, 4, 11, 7, 14, 7, 8, 12, 4, 8, 10, 5, 10, 7, 5, 5, 7, 8, 6, 9, 7, 10, 9, 8, 7, 8, 5, 6, 6, 11, 4, 7, 6, 4, 7, 9, 5, 7, 8, 5, 9, 8, 7, 4, 9, 6, 9, 8, 10, 9, 9, 5, 9, 3, 9, 8, 12, 8, 5, 9, 3, 8, 7, 8, 5, 5, 8, 5, 8, 8, 13, 4, 12, 8, 8, 11, 4, 5, 11, 8, 8, 8, 7, 7, 10, 6, 6, 6, 8, 7, 7, 4, 11, 11, 10, 8, 13, 7, 8, 6, 4, 7, 8, 6, 7, 14, 8, 9, 9, 9, 4, 7, 7, 12, 5, 8, 6, 10, 11, 11, 7, 10, 6, 8, 8, 7, 10, 5, 7, 8, 12, 9, 8, 6, 9, 10, 9, 6, 3, 8, 10, 11, 6, 7, 11, 11, 7, 10, 9, 11, 7, 6, 10, 5, 9, 7, 8, 7, 7, 7, 9, 5, 9, 4, 8, 4, 10, 9, 12, 6, 12, 6, 10, 10, 8, 6, 3, 9, 10, 3, 10, 12, 9, 8, 9, 5, 13, 4, 7, 4, 10, 8, 12, 8, 6, 4, 11, 10, 13, 4, 7, 10, 4, 3, 11, 9, 5, 7, 8, 9, 9, 9, 10, 10, 12, 5, 6, 3, 8, 7, 9, 8, 11, 10, 13, 6, 7, 8, 6, 6, 7, 13, 9, 9, 11, 12, 4, 7, 7, 8, 3, 7, 8, 9, 6, 11, 7, 9, 7, 10, 11, 7, 7, 10, 6, 10, 8, 5, 8, 5, 9, 7, 5, 4, 8, 14, 11, 13, 6, 10, 10, 5, 3, 5, 10, 4, 10, 6, 9, 9, 7, 11, 12, 9, 12, 10, 4, 4, 7, 8, 7, 9, 7, 8, 12, 11, 7, 6, 8, 8, 6, 6, 8, 7, 5, 11, 6, 8, 6, 7, 8, 6, 8, 7, 6, 6, 7, 14, 11, 8, 6, 5, 7, 10, 7, 9, 7, 4, 9, 4, 6, 7, 4, 7, 9, 10, 10, 12, 6, 3, 4, 4, 9, 4, 4, 13, 8, 7, 9, 8, 7, 5, 6, 11, 8, 5, 8, 7, 5, 9, 3, 3, 8, 7, 5, 8, 10, 9, 8, 7, 12, 12, 10, 11, 6, 10, 9, 11, 10, 5, 6, 5, 11, 10, 9, 12, 7, 7, 5, 11, 14, 4, 4, 8, 10, 10, 10, 6, 6, 7, 7, 10, 14, 9, 9, 8, 8, 6, 5, 5, 7, 7, 7, 10, 7, 5, 6, 5, 9, 7, 8, 8, 5, 7, 9, 7, 5, 6, 7, 5, 6, 8, 15, 12, 6, 9, 5, 7, 12, 7, 8, 6, 5, 4, 5, 11, 5, 12, 6, 12, 10, 8, 5, 10, 3, 5, 6, 8, 12, 7, 4, 6, 7, 10, 8, 11, 9, 8, 9, 10, 8, 8, 8, 6, 7, 11, 8, 11, 7, 5, 4, 9, 13, 10, 10, 7, 10, 7, 8, 9, 6, 5, 8, 7, 4, 9, 5, 7, 5, 5, 9, 7, 9, 13, 7, 5, 11, 9, 13, 7, 10, 7, 10, 7, 10, 7, 8, 11, 14, 10, 9, 9, 3, 10, 10, 4, 11, 10, 10, 7, 9, 6, 6, 9, 4, 13, 4, 9, 15, 5, 10, 4, 7, 8, 11, 6, 8, 10, 5, 11, 4, 4, 7, 9, 10, 7, 7, 11, 7, 9, 6, 8, 5, 6, 5, 10, 5, 4, 8, 9, 7, 7, 5, 4, 9, 10, 4, 8, 11, 3, 13, 9, 12, 5, 11, 7, 6, 4, 3, 8, 8, 6, 7, 7, 7, 10, 11, 13, 9, 8, 11, 9, 9, 12, 10, 8, 4, 13, 6, 7, 15, 5, 9, 4, 5, 10, 7, 9, 10, 4, 12, 10, 7, 9, 5, 4, 4, 12, 6, 8, 7, 6, 12, 8, 5, 11, 9, 8, 8, 10, 5, 5, 7, 9, 5, 8, 7, 10, 3, 10, 4, 5, 10, 8, 6, 9, 8, 5, 11, 10, 6, 10, 7, 10, 11, 9, 9, 11, 6, 7, 7, 8, 4, 5, 8, 10, 8, 6, 9, 6, 10, 11, 12, 15, 11, 7, 11, 10, 4, 7, 7, 11, 6, 8, 9, 6, 11, 8, 5, 4, 8, 10, 7, 8, 7, 4, 8, 7, 9, 12, 10, 5, 3, 3, 6, 6, 5, 11, 6, 7, 9, 6, 4, 13, 8, 8, 11, 10, 8, 11, 10, 8, 14, 7, 8, 10, 10, 11, 5, 10, 7, 7, 5, 10, 9, 6, 12, 4, 10, 7, 5, 8, 9, 9, 7, 7, 9, 11, 10, 7, 11, 5, 10, 5, 8, 7, 8, 11, 4, 5, 12, 12, 6, 5, 4, 9, 10, 10, 6, 5, 8, 9, 9, 9, 7, 9, 9, 11, 7, 7, 7, 9, 5, 8, 4, 7, 13, 12, 9, 7, 12, 8, 3, 5, 3, 10, 8, 6, 7, 12, 9, 10, 10, 9, 8, 8, 5, 6, 8, 6, 5, 7, 11, 7, 10, 8, 4, 9, 9, 3, 10, 5, 12, 8, 5, 9, 11, 10, 7, 5, 11, 5, 7, 9, 7, 8, 5, 12, 4, 8, 8, 7, 10, 4, 7, 8, 9, 6, 6, 7, 6, 8, 12, 6, 9, 8, 8, 10, 8, 9, 12, 11, 8, 5, 10, 10, 9, 5, 6, 5, 9, 11, 8, 10, 8, 4, 10, 10, 3, 3, 9, 10, 8, 10, 4, 5, 9, 11, 10, 12, 14, 10, 7, 13, 11, 10, 6, 5, 10, 4, 9, 10, 9, 6, 7, 7, 11, 4, 5, 5, 5, 7, 7, 7, 11, 8, 11, 6, 6, 5, 12, 7, 13, 7, 6, 10, 9, 5, 11, 8, 10, 12, 11, 6, 8, 10, 11, 12, 9, 14, 9, 11, 6, 4, 10, 5, 9, 3, 11, 8, 5, 5, 5, 5, 6, 4, 7, 8, 7, 9, 5, 8, 7, 9, 7, 8, 9, 10, 8, 4, 7, 7, 12, 7, 5, 4, 7, 7, 8, 10, 4, 6, 6, 12, 6, 3, 7, 4, 8, 7, 10, 6, 5, 8, 9, 7, 4, 6, 7, 7, 8, 8, 9, 7, 4, 10, 7, 8, 6, 8, 6, 11, 10, 5, 5, 11, 8, 12, 10, 10, 5, 7, 8, 7, 13, 10, 4, 13, 4, 5, 4, 7, 8, 5, 12, 7, 6, 10, 7, 5, 11, 5, 6, 8, 5, 7, 5, 8, 7, 11, 5, 8, 5, 6, 10, 7, 8, 7, 4, 9, 13, 14, 8, 10, 11, 7, 12, 5, 7, 10, 10, 10, 8, 10, 10, 6, 6, 8, 3, 5, 6, 13, 3, 11, 10, 6, 6, 7, 4, 13, 6, 7, 4, 12, 12, 7, 4, 10, 6, 7, 6, 10, 8, 11, 13, 6, 5, 9, 5, 4, 6, 9, 10, 5, 9, 9, 11, 5, 6, 6, 7, 10, 9, 7, 8, 11, 8, 9, 9, 7, 6, 11, 8, 6, 12, 7, 7, 7, 6, 10, 14, 9, 7, 8, 9, 8, 7, 11, 9, 8, 10, 8, 12, 8, 9, 8, 11, 13, 4, 9, 8, 9, 14, 3, 4, 6, 6, 8, 11, 10, 3, 12, 6, 8, 11, 9, 8, 5, 6, 12, 7, 10, 12, 14, 10, 10, 5, 4, 7, 13, 6, 12, 9, 8, 10, 8, 11, 6, 10, 7, 7, 3, 13, 6, 6, 9, 7, 5, 4, 12, 7, 8, 11, 8, 9, 7, 15, 10, 7, 7, 15, 11, 12, 13, 9, 9, 10, 6, 10, 13, 6, 8, 7, 12, 7, 10, 7, 11, 8, 8, 8, 7, 8, 9, 8, 8, 8, 11, 6, 5, 8, 12, 6, 12, 9, 11, 10, 7, 9, 7, 9, 11, 8, 7, 4, 13, 12, 12, 9, 8, 9, 6, 8, 9, 10, 5, 7, 10, 7, 10, 6, 7, 9, 10, 8, 7, 11, 7, 9, 7, 4, 7, 11, 10, 4, 11, 7, 4, 11, 10, 11, 11, 8, 6, 3, 9, 12, 7, 6, 14, 7, 7, 12, 5, 8, 8, 8, 6, 6, 14, 6, 5, 6, 9, 14, 9, 6, 10, 6, 8, 6, 10, 12, 5, 10, 6, 9, 8, 5, 6, 7, 7, 11, 9, 11, 9, 6, 9, 10, 11, 7, 11, 10, 5, 12, 7, 9, 10, 7, 13, 9, 10, 8, 6, 5, 6, 7, 6, 8, 10, 10, 11, 7, 9, 6, 9, 8, 8, 8, 8, 11, 7, 5, 9, 7, 9, 12, 11, 6, 11, 7, 6, 8, 10, 5, 7, 10, 7, 6, 10, 6, 8, 6, 9, 7, 6, 8, 7, 8, 8, 5, 9, 15, 8, 7, 12, 7, 6, 8, 10, 4, 9, 10, 8, 6, 10, 6, 6, 8, 10, 14, 8, 9, 6, 7, 12, 8, 3, 8, 5, 12, 11, 11, 14, 8, 5, 6, 4, 4, 6, 5, 4, 10, 12, 7, 4, 7, 7, 10, 13, 10, 5, 8, 6, 7, 6, 6, 13, 7, 11, 10, 13, 9, 9, 11, 10, 4, 7, 11, 10, 8, 7, 10, 4, 9, 4, 4, 6, 10, 15, 4, 10, 6, 14, 9, 6, 4, 12, 7, 10, 4, 8, 4, 9, 7, 7, 8, 9, 4, 12, 10, 8, 7, 5, 10, 8, 7, 5, 11, 10, 7, 6, 6, 10, 8, 8, 8, 10, 9, 8, 4, 8, 8, 7, 10, 4, 9, 11, 7, 6, 9, 8, 13, 8, 11, 10, 5, 8, 7, 3, 10, 4, 10, 10, 11, 6, 7, 8, 7, 7, 7, 12, 4, 6, 15, 3, 10, 10, 7, 8, 6, 10, 9, 7, 9, 7, 9, 7, 6, 11, 12, 7, 5, 6, 6, 3, 5, 5, 10, 10, 6, 7, 9, 9, 12, 7, 9, 13, 7, 5, 7, 6, 10, 3, 9, 9, 8, 5, 7, 8, 6, 8, 5, 14, 6, 6, 11, 10, 6, 11, 7, 4, 11, 7, 9, 10, 12, 4, 11, 8, 3, 7, 11, 11, 9, 11, 8, 10, 15, 9, 6, 9, 4, 8, 5, 7, 5, 6, 9, 10, 11, 5, 11, 9, 14, 9, 9, 6, 6, 9, 5, 10, 9, 4, 9, 12, 11, 6, 9, 9, 13, 11, 11, 4, 5, 3, 9, 12, 9, 4, 7, 11, 14, 8, 5, 7, 15, 4, 10, 8, 6, 9, 4, 9, 9, 10, 5, 9, 10, 6, 5, 11, 9, 10, 10, 4, 8, 9, 4, 3, 8, 11, 7, 7, 10, 10, 8, 3, 12, 10, 7, 7, 8, 4, 12, 5, 9, 3, 7, 10, 6, 9, 4, 15, 8, 10, 9, 7, 9, 4, 5, 10, 10, 7, 6, 11, 5, 10, 8, 10, 6, 5, 10, 9, 7, 11, 11, 4, 4, 9, 4, 7, 8, 11, 8, 9, 14, 9, 10, 9, 7, 10, 7, 12, 8, 7, 14, 8, 8, 7, 11, 11, 4, 7, 6, 7, 10, 6, 11, 5, 10, 7, 7, 8, 13, 7, 8, 13, 10, 10, 11, 7, 8, 9, 6, 10, 8, 6, 7, 5, 7, 12, 10, 12, 6, 10, 6, 8, 14, 13, 6, 7, 7, 4, 9, 7, 10, 9, 11, 10, 7, 11, 7, 8, 9, 6, 4, 4, 5, 7, 6, 7, 7, 7, 5, 4, 5, 11, 8, 8, 10, 5, 8, 10, 8, 10, 5, 11, 5, 7, 6, 10, 7, 7, 11, 5, 7, 6, 5, 7, 5, 6, 9, 4, 9, 11, 9, 7, 11, 6, 4, 8, 4, 14, 6, 5, 5, 6, 3, 7, 10, 10, 5, 10, 10, 8, 12, 6, 8, 7, 6, 9, 6, 4, 7, 8, 7, 10, 5, 7, 12, 7, 7, 9, 8, 9, 8, 10, 4, 5, 10, 8, 8, 7, 7, 7, 9, 3, 10, 7, 9, 7, 4, 6, 8, 6, 12, 8, 7, 10, 7, 10, 9, 5, 9, 7, 8, 9, 3, 11, 4, 7, 9, 7, 9, 11, 6, 6, 11, 8, 10, 5, 8, 9, 5, 8, 10, 12, 10, 9, 5, 3, 10, 7, 11, 4, 8, 11, 6, 7, 11, 6, 9, 7, 10, 10, 9, 7, 9, 8, 7, 9, 8, 11, 10, 4, 5, 10, 5, 10, 8, 9, 8, 11, 6, 7, 7, 7, 10, 9, 7, 7, 3, 12, 5, 7, 6, 7, 9, 12, 5, 4, 10, 8, 5, 8, 13, 7, 10, 10, 11, 8, 10, 8, 4, 12, 8, 3, 6, 5, 5, 5, 11, 10, 5, 7, 7, 8, 7, 10, 8, 7, 11, 11, 8, 5, 7, 7, 11, 10, 8, 10, 8, 8, 11, 7, 8, 4, 10, 8, 5, 4, 6, 4, 5, 6, 8, 11, 15, 9, 13, 4, 6, 8, 9, 5, 13, 10, 14, 7, 5, 5, 4, 9, 7, 8, 8, 7, 5, 6, 8, 10, 12, 10, 9, 8, 6, 10, 10, 11, 11, 8, 5, 8, 9, 9, 10, 7, 9, 12, 5, 5, 10, 9, 14, 9, 13, 4, 11, 10, 7, 5, 5, 6, 7, 5, 6, 10, 12, 5, 7, 8, 5, 5, 10, 11, 5, 6, 9, 6, 6, 10, 8, 11, 8, 7, 6, 5, 3, 10, 15, 11, 5, 7, 13, 11, 9, 13, 8, 5, 10, 5, 12, 11, 8, 6, 9, 7, 5, 14, 7, 8, 9, 7, 9, 12, 10, 9, 5, 9, 7, 7, 5, 6, 9, 4, 12, 8, 7, 8, 7, 10, 15, 7, 4, 11, 13, 8, 5, 8, 9, 12, 4, 13, 8, 7, 13, 5, 6, 8, 8, 6, 8, 7, 6, 10, 8, 7, 9, 5, 8, 8, 8, 15, 9, 7, 10, 7, 6, 4, 5, 3, 9, 11, 8, 9, 8, 11, 8, 10, 10, 7, 10, 9, 3, 11, 7, 8, 11, 7, 7, 12, 5, 9, 11, 6, 4, 7, 3, 5, 13, 10, 9, 9, 9, 7, 6, 6, 7, 10, 14, 5, 11, 8, 8, 11, 5, 7, 6, 11, 9, 7, 9, 7, 6, 10, 7, 6, 6, 7, 9, 14, 8, 10, 11, 4, 9, 6, 11, 4, 8, 8, 8, 6, 11, 5, 7, 6, 8, 7, 10, 5, 9, 5, 6, 8, 4, 7, 6, 5, 6, 8, 8, 6, 9, 8, 9, 7, 7, 4, 7, 9, 7, 8, 9, 8, 6, 8, 5, 10, 13, 8, 7, 8, 7, 7, 7, 5, 9, 6, 6, 5, 8, 8, 8, 5, 7, 5, 12, 6, 9, 10, 9, 6, 8, 6, 10, 6, 9, 6, 10, 10, 9, 8, 8, 8, 8, 11, 6, 5, 10, 9, 4, 5, 9, 5, 10, 6, 13, 5, 9, 5, 5, 5, 7, 8, 14, 6, 6, 4, 8, 8, 14, 6, 6, 5, 12, 7, 7, 4, 10, 4, 13, 9, 5, 6, 4, 4, 4, 6, 9, 9, 8, 14, 6, 6, 7, 9, 7, 6, 9, 12, 10, 8, 9, 5, 7, 12, 4, 8, 7, 8, 6, 6, 6, 7, 6, 3, 7, 8, 9, 8, 11, 12, 4, 9, 7, 9, 6, 8, 9, 5, 10, 10, 4, 9, 10, 7, 7, 5, 7, 11, 9, 10, 9, 5, 8, 11, 9, 10, 9, 5, 8, 9, 12, 8, 8, 10, 9, 9, 11, 4, 8, 8, 9, 8, 6, 9, 9, 7, 7, 6, 12, 11, 10, 10, 9, 10, 9, 7, 7, 8, 7, 5, 7, 6, 10, 5, 7, 11, 10, 9, 5, 15, 8, 5, 10, 4, 8, 8, 5, 9, 9, 7, 14, 7, 9, 8, 6, 9, 5, 8, 5, 6, 4, 4, 9, 11, 8, 9, 8, 9, 8, 12, 9, 6, 10, 14, 10, 9, 10, 11, 5, 9, 5, 14, 9, 8, 7, 7, 11, 7, 8, 11, 7, 4, 7, 10, 10, 7, 10, 6, 15, 8, 7, 6, 6, 10, 4, 9, 8, 8, 12, 10, 4, 10, 8, 6, 11, 9, 5, 7, 9, 13, 7, 6, 5, 4, 8, 3, 10, 8, 3, 7, 5, 7, 11, 6, 4, 7, 8, 8, 10, 6, 7, 10, 5, 10, 10, 6, 11, 10, 6, 6, 7, 9, 7, 11, 7, 7, 8, 8, 6, 7, 8, 6, 9, 5, 9, 9, 6, 10, 5, 8, 12, 7, 5, 4, 11, 10, 9, 10, 11, 5, 7, 8, 5, 5, 5, 6, 5, 7, 13, 6, 4, 8, 10, 8, 9, 5, 6, 7, 9, 10, 11, 5, 10, 5, 8, 10, 6, 10, 8, 9, 11, 5, 7, 9, 8, 10, 8, 10, 8, 10, 4, 9, 8, 9, 6, 5, 4, 7, 6, 8, 7, 3, 10, 7, 9, 13, 10, 5, 7, 7, 11, 8, 6, 5, 9, 10, 5, 10, 5, 6, 7, 5, 5, 6, 8, 13, 8, 15, 10, 6, 10, 8, 8, 10, 10, 8, 9, 5, 6, 9, 5, 12, 7, 5, 9, 4, 7, 9, 8, 11, 11, 13, 7, 9, 12, 5, 7, 3, 9, 6, 8, 5, 14, 11, 6, 12, 3, 11, 6, 7, 7, 4, 7, 9, 7, 7, 11, 14, 5, 6, 10, 5, 9, 10, 4, 7, 8, 11, 9, 7, 4, 5, 6, 13, 12, 7, 10, 11, 6, 7, 4, 4, 10, 14, 13, 4, 12, 4, 8, 8, 10, 11, 11, 3, 8, 11, 5, 5, 8, 6, 7, 8, 9, 5, 3, 7, 10, 9, 8, 6, 14, 6, 8, 5, 8, 4, 5, 5, 7, 7, 3, 7, 12, 5, 4, 7, 5, 11, 4, 8, 12, 5, 9, 7, 6, 5, 4, 6, 9, 5, 6, 9, 12, 11, 5, 8, 6, 12, 6, 7, 6, 5, 8, 6, 7, 6, 7, 8, 7, 11, 8, 7, 4, 10, 10, 4, 5, 6, 6, 6, 7, 10, 11, 8, 8, 5, 9, 5, 11, 7, 11, 13, 7, 9, 11, 9, 9, 7, 12, 3, 5, 6, 11, 11, 8, 8, 9, 10, 6, 6, 5, 11, 9, 5, 6, 8, 6, 6, 9, 8, 10, 9, 5, 5, 3, 5, 7, 7, 11, 9, 9, 8, 9, 4, 6, 14, 10, 14, 5, 7, 7, 8, 9, 6, 12, 8, 4, 4, 13, 5, 5, 10, 8, 7, 5, 7, 13, 7, 5, 7, 5, 13, 8, 11, 10, 5, 12, 3, 8, 11, 8, 10, 7, 8, 7, 7, 5, 10, 5, 8, 3, 6, 10, 3, 6, 7, 6, 8, 6, 8, 13, 8, 8, 8, 9, 5, 5, 5, 9, 10, 10, 7, 8, 9, 6, 10, 10, 13, 13, 11, 6, 5, 8, 12, 5, 4, 6, 3, 5, 7, 7, 8, 12, 5, 10, 8, 7, 9, 8, 10, 9, 8, 6, 7, 7, 8, 4, 8, 13, 10, 8, 9, 5, 11, 13, 6, 11, 13, 7, 6, 4, 7, 5, 14, 4, 5, 6, 10, 6, 8, 11, 3, 7, 8, 14, 10, 11, 11, 9, 8, 8, 9, 4, 8, 9, 10, 7, 4, 11, 9, 5, 4, 9, 12, 8, 6, 15, 10, 10, 9, 6, 8, 7, 9, 6, 13, 9, 5, 5, 4, 9, 3, 6, 9, 8, 7, 9, 7, 6, 11, 10, 8, 9, 11, 9, 7, 11, 7, 5, 6, 4, 8, 6, 11, 3, 8, 8, 4, 7, 9, 11, 10, 9, 6, 11, 12, 6, 9, 11, 6, 14, 6, 11, 8, 10, 6, 11, 9, 6, 13, 11, 6, 7, 7, 6, 4, 8, 8, 11, 8, 7, 8, 3, 7, 10, 10, 7, 11, 4, 7, 7, 9, 10, 11, 7, 7, 6, 11, 6, 11, 10, 11, 10, 10, 6, 6, 9, 8, 9, 10, 6, 3, 9, 4, 7, 7, 11, 6, 5, 9, 13, 7, 11, 8, 7, 14, 8, 9, 7, 9, 6, 9, 10, 10, 6, 9, 9, 8, 10, 3, 5, 4, 8, 11, 9, 6, 9, 13, 3, 10, 6, 3, 11, 8, 11, 11, 7, 5, 6, 12, 7, 6, 3, 12, 4, 5, 6, 9, 8, 6, 9, 6, 11, 10, 8, 9, 11, 6, 5, 7, 8, 8, 9, 10, 3, 6, 5, 12, 9, 8, 9, 15, 10, 9, 9, 5, 8, 9, 6, 5, 6, 15, 8, 5, 9, 9, 7, 8, 8, 4, 8, 4, 13, 9, 3, 8, 8, 13, 4, 10, 8, 5, 8, 8, 11, 10, 8, 9, 8, 6, 13, 8, 11, 11, 4, 6, 7, 6, 13, 6, 10, 9, 5, 10, 4, 7, 3, 13, 11, 7, 8, 10, 6, 6, 13, 4, 8, 11, 7, 7, 11, 6, 8, 11, 7, 8, 8, 3, 9, 10, 15, 7, 4, 6, 5, 11, 4, 9, 5, 9, 8, 7, 5, 5, 7, 6, 12, 8, 4, 9, 7, 7, 5, 4, 9, 11, 4, 5, 10, 7, 9, 5, 7, 11, 10, 4, 10, 7, 8, 4, 5, 6, 7, 9, 11, 5, 10, 11, 9, 5, 3, 11, 8, 10, 8, 4, 9, 13, 6, 8, 6, 9, 7, 6, 6, 10, 5, 5, 10, 9, 4, 4, 13, 10, 11, 4, 3, 7, 3, 9, 7, 4, 8, 7, 11, 4, 6, 7, 10, 5, 6, 10, 14, 4, 8, 11, 11, 5, 8, 4, 7, 10, 9, 8, 5, 5, 9, 5, 6, 12, 5, 9, 5, 9, 5, 6, 6, 14, 7, 10, 9, 7, 7, 9, 10, 8, 6, 4, 14, 10, 6, 6, 8, 5, 7, 11, 12, 9, 7, 5, 6, 8, 8, 6, 12, 9, 7, 8, 11, 9, 9, 4, 7, 9, 10, 7, 12, 11, 10, 12, 7, 10, 5, 8, 6, 7, 10, 8, 7, 5, 9, 8, 6, 4, 14, 11, 9, 5, 5, 11, 8, 11, 8, 4, 5, 4, 12, 5, 4, 5, 5, 8, 10, 9, 8, 6, 7, 7, 10, 8, 6, 6, 13, 10, 9, 12, 6, 6, 6, 8, 8, 7, 6, 8, 5, 8, 10, 6, 12, 13, 7, 10, 14, 6, 8, 3, 9, 8, 10, 10, 9, 11, 5, 9, 8, 7, 10, 7, 13, 8, 8, 9, 10, 6, 9, 10, 10, 9, 6, 12, 5, 10, 7, 7, 8, 7, 4, 6, 4, 8, 12, 10, 6, 5, 8, 13, 10, 7, 8, 13, 10, 10, 8, 7, 9, 7, 7, 5, 9, 9, 8, 13, 13, 6, 3, 8, 13, 7, 7, 14, 7, 9, 5, 5, 9, 8, 6, 12, 4, 6, 4, 9, 7, 7, 10, 8, 9, 6, 10, 4, 14, 12, 10, 15, 11, 7, 7, 6, 6, 5, 5, 11, 14, 6, 10, 10, 8, 13, 6, 9, 14, 4, 6, 11, 6, 7, 6, 4, 9, 8, 10, 6, 5, 9, 6, 6, 13, 6, 7, 7, 7, 4, 5, 12, 14, 11, 9, 7, 10, 9, 12, 10, 5, 10, 5, 9, 3, 11, 13, 6, 7, 7, 6, 11, 6, 7, 9, 9, 7, 8, 11, 11, 13, 8, 10, 4, 6, 5, 7, 12, 4, 9, 5, 6, 9, 13, 8, 11, 6, 4, 7, 4, 11, 5, 13, 10, 12, 14, 9, 6, 6, 9, 9, 8, 8, 14, 7, 3, 8, 8, 9, 11, 9, 11, 8, 9, 5, 9, 3, 10, 9, 8, 6, 8, 9, 4, 8, 9, 10, 9, 10, 10, 11, 10, 7, 9, 5, 7, 9, 9, 7, 10, 5, 7, 8, 5, 4, 9, 9, 9, 10, 10, 10, 8, 9, 9, 9, 9, 10, 6, 8, 6, 8, 12, 11, 15, 5, 8, 11, 15, 6, 3, 9, 7, 7, 10, 10, 7, 9, 4, 10, 9, 7, 8, 4, 6, 12, 10, 5, 14, 6, 6, 6, 9, 8, 8, 5, 11, 9, 11, 13, 8, 11, 6, 6, 8, 7, 10, 6, 6, 9, 9, 9, 11, 7, 11, 8, 13, 7, 6, 4, 11, 3, 9, 10, 7, 6, 8, 9, 8, 3, 6, 9, 4, 4, 4, 7, 6, 7, 5, 9, 10, 8, 7, 8, 8, 4, 14, 10, 8, 5, 11, 8, 7, 4, 9, 12, 6, 6, 7, 6, 7, 8, 5, 7, 6, 5, 8, 9, 6, 7, 7, 8, 7, 6, 6, 13, 9, 4, 11, 8, 6, 6, 7, 6, 9, 6, 4, 8, 8, 7, 10, 9, 7, 6, 9, 6, 8, 8, 10, 10, 12, 11, 11, 7, 6, 6, 9, 9, 8, 11, 10, 12, 6, 7, 6, 9, 9, 5, 14, 11, 6, 9, 13, 9, 14, 8, 12, 13, 7, 12, 5, 9, 10, 5, 7, 12, 8, 4, 12, 10, 6, 10, 10, 9, 5, 7, 6, 11, 11, 9, 6, 7, 7, 9, 7, 8, 8, 9, 15, 11, 13, 8, 10, 3, 7, 7, 10, 7, 7, 7, 6, 11, 8, 9, 8, 7, 6, 8, 8, 7, 9, 7, 5, 6, 7, 10, 6, 13, 9, 12, 11, 14, 8, 8, 11, 8, 7, 10, 4, 8, 7, 6, 10, 13, 8, 5, 9, 9, 11, 8, 11, 7, 9, 5, 6, 8, 5, 10, 14, 3, 5, 8, 3, 10, 7, 6, 8, 9, 7, 9, 10, 13, 7, 7, 3, 8, 14, 4, 6, 8, 13, 12, 9, 11, 5, 7, 10, 7, 10, 12, 11, 5, 9, 10, 14, 5, 7, 4, 12, 8, 12, 8, 5, 8, 8, 6, 9, 6, 10, 8, 6, 4, 9, 10, 12, 10, 4, 9, 6, 9, 5, 8, 6, 9, 10, 10, 11, 5, 10, 9, 5, 7, 8, 7, 6, 6, 7, 8, 6, 10, 7, 11, 6, 9, 8, 10, 8, 3, 6, 7, 6, 9, 6, 7, 8, 7, 12, 11, 7, 6, 9, 10, 6, 5, 5, 9, 6, 14, 11, 9, 8, 14, 8, 9, 12, 8, 10, 8, 7, 5, 6, 4, 10, 8, 4, 8, 8, 8, 8, 4, 9, 8, 9, 11, 4, 7, 7, 6, 10, 4, 9, 8, 7, 7, 8, 6, 6, 7, 6, 8, 8, 11, 13, 9, 6, 6, 3, 13, 10, 11, 11, 9, 8, 7, 12, 6, 6, 4, 15, 12, 11, 5, 4, 7, 12, 10, 9, 3, 12, 7, 7, 8, 8, 3, 4, 8, 12, 11, 8, 8, 7, 6, 5, 6, 6, 7, 9, 8, 6, 10, 3, 12, 7, 6, 8, 5, 11, 10, 11, 6, 6, 10, 9, 11, 6, 11, 10, 9, 10, 10, 11, 9, 7, 5, 9, 10, 8, 7, 7, 7, 7, 4, 11, 8, 12, 12, 8, 9, 12, 13, 9, 7, 11, 9, 9, 5, 7, 6, 7, 11, 8, 6, 11, 10, 7, 8, 6, 7, 8, 7, 5, 10, 7, 5, 3, 9, 12, 6, 11, 8, 7, 6, 10, 6, 8, 4, 7, 13, 4, 10, 8, 13, 10, 8, 6, 8, 9, 10, 7, 7, 6, 6, 10, 7, 10, 10, 13, 5, 10, 6, 4, 9, 8, 8, 4, 6, 8, 10, 8, 9, 11, 8, 10, 4, 7, 8, 8, 5, 9, 6, 7, 8, 7, 5, 14, 10, 7, 8, 9, 11, 3, 7, 10, 7, 5, 7, 7, 8, 5, 5, 10, 8, 7, 9, 7, 7, 9, 6, 7, 5, 8, 8, 7, 10, 4, 9, 11, 7, 6, 7, 5, 7, 5, 9, 9, 7, 8, 10, 5, 9, 15, 8, 11, 6, 5, 9, 7, 7, 6, 5, 11, 11, 4, 6, 6, 5, 4, 8, 5, 4, 9, 10, 7, 6, 4, 9, 9, 9, 5, 7, 10, 7, 8, 11, 5, 13, 8, 10, 7, 10, 6, 3, 7, 8, 11, 7, 8, 12, 9, 7, 4, 10, 13, 5, 5, 5, 5, 6, 4, 7, 9, 10, 10, 8, 9, 6, 10, 6, 7, 10, 10, 10, 7, 6, 6, 9, 12, 11, 11, 7, 12, 7, 4, 7, 12, 9, 4, 5, 5, 10, 8, 8, 8, 8, 9, 10, 6, 9, 8, 6, 4, 8, 5, 5, 7, 11, 7, 10, 15, 13, 13, 9, 14, 6, 11, 12, 8, 7, 11, 4, 7, 4, 4, 6, 5, 9, 7, 6, 12, 9, 5, 13, 5, 11, 8, 6, 10, 5, 8, 7, 9, 5, 9, 4, 9, 10, 8, 9, 9, 8, 10, 6, 5, 7, 9, 10, 14, 9, 3, 9, 4, 7, 6, 8, 8, 5, 9, 3, 5, 9, 7, 5, 6, 7, 8, 10, 9, 6, 3, 12, 12, 9, 10, 6, 9, 11, 6, 10, 8, 8, 10, 9, 12, 4, 11, 7, 10, 10, 11, 7, 6, 6, 4, 12, 8, 4, 8, 8, 6, 8, 9, 5, 7, 5, 5, 6, 6, 8, 5, 12, 8, 9, 7, 8, 10, 3, 8, 7, 11, 8, 9, 5, 8, 8, 8, 6, 11, 7, 13, 8, 11, 7, 7, 12, 5, 11, 9, 10, 11, 5, 7, 7, 10, 11, 5, 8, 8, 9, 4, 11, 4, 5, 13, 7, 9, 7, 12, 6, 8, 11, 10, 7, 8, 5, 8, 3, 10, 5, 11, 3, 7, 6, 13, 11, 8, 10, 12, 10, 10, 7, 6, 11, 9, 5, 7, 9, 9, 8, 6, 9, 7, 15, 10, 8, 11, 8, 6, 4, 5, 10, 9, 3, 5, 7, 5, 8, 11, 12, 12, 12, 7, 5, 7, 6, 8, 10, 5, 5, 11, 8, 5, 6, 7, 10, 8, 10, 5, 11, 11, 5, 8, 6, 5, 8, 6, 5, 7, 7, 7, 8, 5, 15, 7, 5, 10, 4, 5, 5, 7, 5, 11, 6, 5, 7, 5, 5, 3, 8, 10, 12, 6, 8, 9, 11, 5, 10, 7, 4, 10, 10, 10, 8, 4, 6, 9, 11, 6, 9, 8, 7, 6, 10, 9, 7, 11, 10, 8, 12, 9, 9, 10, 4, 7, 7, 10, 4, 7, 9, 7, 6, 9, 7, 8, 9, 6, 12, 12, 10, 13, 5, 11, 6, 7, 4, 3, 10, 9, 4, 6, 10, 7, 9, 5, 11, 8, 6, 5, 7, 8, 8, 9, 13, 9, 6, 8, 7, 13, 6, 4, 5, 10, 5, 9, 7, 6, 4, 9, 5, 14, 5, 7, 6, 11, 8, 6, 6, 5, 6, 8, 7, 9, 12, 6, 12, 8, 5, 11, 5, 3, 5, 10, 9, 10, 6, 7, 12, 6, 9, 9, 8, 9, 12, 11, 4, 6, 11, 6, 8, 8, 10, 7, 7, 7, 4, 8, 5, 6, 9, 9, 6, 10, 7, 6, 11, 11, 7, 7, 12, 6, 7, 6, 8, 8, 5, 10, 6, 8, 8, 5, 4, 10, 4, 12, 9, 6, 7, 5, 5, 4, 4, 5, 8, 6, 4, 6, 7, 7, 5, 7, 11, 8, 5, 7, 7, 7, 11, 11, 4, 6, 11, 3, 11, 8, 7, 9, 4, 9, 10, 8, 4, 7, 7, 9, 7, 6, 9, 12, 11, 6, 7, 6, 9, 9, 6, 9, 7, 7, 11, 13, 8, 7, 5, 9, 7, 6, 5, 6, 5, 9, 4, 7, 8, 9, 9, 7, 5, 7, 10, 8, 4, 5, 9, 13, 8, 4, 12, 11, 10, 5, 11, 5, 9, 10, 7, 4, 9, 6, 10, 7, 8, 3, 4, 8, 8, 5, 14, 4, 9, 11, 8, 4, 11, 11, 7, 5, 11, 7, 11, 11, 9, 8, 6, 7, 6, 12, 7, 5, 9, 5, 6, 4, 7, 11, 8, 7, 11, 12, 5, 6, 10, 7, 7, 5, 10, 7, 7, 6, 11, 10, 7, 11, 5, 8, 9, 4, 4, 12, 6, 12, 6, 7, 8, 5, 5, 12, 5, 9, 7, 4, 8, 12, 7, 10, 7, 8, 10, 6, 7, 7, 6, 7, 9, 8, 9, 6, 4, 12, 9, 8, 5, 5, 3, 10, 9, 8, 12, 13, 7, 8, 4, 5, 9, 14, 6, 4, 6, 4, 4, 4, 10, 11, 7, 5, 5, 7, 4, 10, 8, 7, 9, 6, 6, 13, 6, 3, 5, 10, 9, 5, 7, 9, 13, 9, 8, 6, 10, 10, 10, 9, 5, 10, 7, 11, 5, 11, 7, 11, 12, 11, 11, 5, 7, 10, 9, 3, 9, 6, 9, 10, 7, 9, 4, 10, 13, 4, 10, 4, 8, 12, 7, 6, 6, 6, 5, 10, 4, 9, 5, 7, 11, 8, 9, 6, 6, 7, 7, 13, 3, 8, 7, 13, 5, 6, 10, 10, 12, 10, 5, 7, 6, 11, 7, 12, 14, 11, 9, 8, 8, 8, 6, 10, 7, 11, 11, 8, 7, 5, 5, 8, 10, 6, 5, 6, 6, 4, 9, 7, 5, 7, 7, 10, 6, 8, 4, 3, 8, 7, 5, 8, 7, 11, 8, 7, 9, 7, 8, 11, 9, 9, 3, 4, 9, 7, 6, 14, 6, 4, 7, 11, 5, 9, 7, 9, 6, 4, 13, 7, 6, 9, 11, 8, 10, 12, 11, 12, 6, 8, 10, 8, 7, 10, 10, 5, 7, 10, 8, 8, 7, 9, 8, 8, 11, 8, 10, 9, 8, 9, 8, 6, 6, 10, 9, 9, 11, 12, 9, 10, 9, 8, 13, 3, 7, 12, 5, 7, 11, 9, 8, 3, 9, 10, 3, 9, 7, 8, 6, 6, 6, 8, 4, 9, 6, 3, 5, 3, 8, 6, 5, 12, 6, 8, 11, 9, 14, 8, 10, 7, 8, 12, 9, 7, 14, 10, 9, 8, 10, 6, 7, 4, 9, 9, 6, 12, 8, 4, 7, 8, 9, 9, 12, 7, 7, 14, 5, 8, 5, 13, 8, 11, 8, 3, 7, 12, 7, 5, 9, 11, 8, 6, 11, 7, 6, 12, 5, 8, 7, 10, 8, 8, 7, 9, 8, 5, 8, 11, 9, 5, 9, 7, 14, 10, 7, 5, 4, 8, 5, 11, 9, 4, 8, 9, 14, 3, 10, 7, 8, 10, 11, 8, 8, 9, 11, 12, 10, 3, 4, 9, 7, 8, 10, 9, 8, 5, 10, 8, 11, 9, 5, 6, 9, 7, 4, 7, 10, 8, 8, 5, 10, 3, 9, 13, 10, 12, 5, 5, 6, 8, 4, 7, 9, 8, 5, 6, 5, 8, 9, 3, 11, 11, 6, 7, 8, 5, 10, 10, 5, 7, 6, 8, 8, 6, 6, 7, 11, 8, 9, 9, 7, 7, 8, 8, 12, 3, 8, 9, 10, 5, 9, 6, 7, 11, 8, 5, 6, 9, 4, 8, 4, 9, 9, 8, 7, 7, 8, 7, 8, 8, 11, 10, 5, 8, 8, 10, 5, 5, 5, 11, 6, 11, 7, 8, 11, 7, 6, 9, 10, 10, 9, 6, 9, 7, 10, 8, 5, 12, 10, 5, 11, 11, 9, 12, 7, 5, 5, 7, 6, 14, 4, 7, 9, 6, 5, 7, 5, 6, 9, 7, 4, 4, 6, 8, 6, 9, 11, 15, 7, 8, 11, 7, 7, 7, 7, 4, 7, 10, 9, 6, 11, 10, 14, 11, 5, 8, 7, 10, 9, 10, 6, 8, 6, 9, 5, 12, 8, 7, 11, 10, 3, 12, 11, 7, 3, 3, 11, 9, 9, 4, 11, 9, 4, 6, 9, 10, 6, 11, 7, 6, 6, 10, 10, 12, 5, 5, 7, 6, 12, 4, 9, 6, 9, 4, 12, 10, 9, 4, 7, 8, 7, 4, 11, 5, 6, 8, 6, 6, 6, 8, 7, 11, 10, 7, 6, 11, 6, 5, 4, 10, 5, 10, 7, 10, 7, 12, 9, 8, 9, 7, 3, 4, 9, 5, 12, 13, 7, 4, 6, 6, 6, 10, 10, 6, 6, 5, 6, 6, 8, 7, 8, 12, 7, 8, 14, 8, 11, 7, 5, 14, 14, 7, 5, 6, 11, 11, 9, 14, 10, 7, 6, 6, 9, 6, 5, 9, 8, 11, 5, 5, 7, 11, 10, 9, 12, 6, 7, 5, 6, 6, 5, 6, 5, 8, 5, 6, 13, 5, 7, 10, 10, 7, 11, 9, 9, 9, 9, 7, 9, 10, 7, 4, 14, 7, 9, 12, 9, 6, 9, 6, 12, 10, 5, 6, 5, 8, 10, 7, 7, 10, 7, 10, 7, 12, 9, 10, 6, 14, 8, 12, 11, 8, 8, 10, 10, 12, 4, 11, 6, 9, 5, 8, 14, 12, 13, 5, 9, 4, 10, 7, 12, 11, 8, 3, 7, 9, 8, 7, 7, 10, 10, 7, 8, 6, 6, 5, 9, 6, 11, 12, 8, 9, 13, 4, 4, 11, 10, 6, 7, 4, 10, 9, 9, 3, 7, 7, 4, 10, 10, 5, 9, 13, 11, 7, 9, 11, 7, 10, 9, 5, 3, 7, 7, 4, 9, 9, 3, 12, 7, 5, 13, 6, 15, 15, 6, 4, 4, 7, 13, 3, 5, 7, 9, 9, 12, 8, 8, 6, 8, 3, 10, 5, 11, 9, 11, 4, 5, 7, 11, 8, 9, 6, 10, 10, 5, 6, 6, 14, 6, 5, 4, 3, 8, 11, 7, 6, 9, 5, 8, 9, 6, 10, 6, 7, 6, 8, 10, 5, 12, 4, 8, 5, 6, 5, 4, 14, 8, 7, 8, 5, 4, 8, 4, 6, 11, 7, 8, 6, 9, 8, 5, 7, 9, 5, 11, 9, 10, 10, 8, 10, 3, 8, 13, 10, 11, 5, 4, 7, 9, 9, 9, 6, 5, 9, 13, 10, 9, 7, 8, 7, 9, 8, 5, 8, 5, 9, 9, 8, 11, 10, 10, 9, 11, 5, 7, 4, 3, 5, 8, 9, 4, 10, 11, 10, 5, 6, 9, 5, 11, 10, 6, 8, 8, 8, 9, 13, 7, 7, 5, 4, 4, 10, 11, 7, 8, 7, 6, 11, 5, 9, 8, 6, 5, 6, 14, 4, 7, 8, 11, 5, 10, 6, 4, 7, 4, 9, 11, 6, 8, 5, 9, 7, 6, 7, 13, 6, 10, 7, 8, 11, 3, 10, 15, 6, 6, 5, 8, 11, 8, 5, 12, 12, 4, 8, 4, 7, 6, 3, 9, 8, 7, 6, 11, 10, 9, 5, 10, 8, 4, 10, 5, 13, 10, 4, 9, 9, 7, 5, 9, 7, 8, 6, 11, 4, 7, 6, 13, 10, 13, 14, 7, 10, 6, 10, 8, 9, 8, 4, 10, 8, 9, 8, 11, 9, 8, 10, 10, 12, 7, 10, 9, 12, 8, 7, 10, 6, 10, 8, 7, 11, 9, 8, 7, 7, 9, 6, 4, 11, 7, 9, 12, 6, 10, 7, 9, 9, 14, 7, 7, 6, 12, 9, 7, 9, 11, 9, 10, 4, 11, 7, 9, 8, 11, 10, 12, 9, 8, 7, 5, 8, 7, 10, 6, 11, 5, 3, 9, 13, 4, 6, 5, 4, 7, 8, 8, 4, 8, 9, 9, 4, 8, 8, 7, 7, 5, 8, 10, 8, 7, 11, 6, 8, 7, 9, 11, 8, 8, 8, 6, 12, 10, 8, 9, 5, 6, 3, 12, 8, 9, 3, 7, 6, 11, 5, 4, 8, 4, 9, 12, 5, 9, 3, 10, 5, 6, 11, 10, 11, 8, 7, 7, 5, 7, 12, 10, 6, 7, 5, 11, 7, 8, 8, 3, 7, 9, 4, 12, 7, 5, 10, 8, 8, 8, 12, 8, 13, 5, 9, 8, 7, 5, 7, 6, 10, 5, 10, 8, 8, 9, 7, 7, 10, 6, 6, 6, 8, 10, 5, 4, 3, 9, 8, 9, 8, 4, 10, 9, 8, 9, 7, 11, 7, 8, 6, 7, 12, 9, 3, 9, 10, 6, 11, 8, 11, 6, 10, 6, 14, 5, 7, 8, 7, 11, 9, 9, 9, 4, 5, 9, 8, 9, 9, 10, 7, 11, 6, 7, 6, 9, 10, 4, 11, 11, 7, 9, 10, 4, 11, 8, 5, 11, 8, 9, 9, 8, 6, 6, 11, 13, 10, 11, 7, 8, 9, 12, 10, 9, 13, 10, 9, 6, 8, 8, 10, 10, 7, 10, 5, 8, 10, 10, 6, 8, 7, 5, 5, 8, 8, 10, 10, 9, 10, 9, 10, 15, 9, 10, 11, 10, 7, 4, 6, 8, 9, 9, 13, 8, 7, 10, 8, 9, 6, 7, 11, 4, 7, 11, 11, 8, 12, 7, 6, 10, 9, 9, 7, 11, 8, 7, 8, 7, 11, 9, 6, 10, 10, 12, 3, 6, 5, 5, 5, 10, 7, 9, 10, 11, 4, 10, 10, 9, 15, 7, 12, 7, 13, 10, 6, 11, 4, 8, 11, 7, 6, 14, 6, 10, 6, 5, 11, 7, 5, 8, 8, 5, 9, 9, 9, 9, 5, 4, 5, 4, 8, 6, 6, 3, 7, 8, 5, 6, 3, 5, 11, 11, 6, 7, 9, 11, 10, 10, 10, 5, 10, 9, 5, 9, 6, 7, 10, 5, 8, 10, 4, 12, 8, 5, 9, 4, 6, 7, 11, 7, 7, 7, 10, 6, 7, 10, 9, 12, 6, 10, 8, 6, 5, 5, 8, 10, 13, 8, 6, 10, 11, 7, 8, 7, 7, 8, 4, 4, 5, 7, 10, 7, 5, 10, 12, 14, 8, 8, 6, 8, 10, 11, 9, 4, 9, 7, 7, 11, 7, 12, 4, 9, 11, 9, 10, 10, 11, 7, 6, 4, 8, 9, 10, 4, 7, 4, 7, 8, 12, 8, 9, 6, 4, 8, 9, 8, 7, 5, 4, 11, 7, 4, 10, 5, 12, 12, 10, 8, 6, 9, 6, 8, 9, 7, 6, 7, 10, 8, 5, 6, 7, 9, 8, 8, 8, 6, 10, 8, 12, 9, 11, 3, 15, 9, 10, 11, 5, 7, 3, 11, 7, 8, 11, 11, 13, 4, 9, 6, 11, 6, 13, 5, 4, 7, 10, 6, 14, 10, 5, 7, 7, 13, 9, 10, 10, 10, 11, 8, 3, 9, 5, 6, 6, 3, 9, 8, 7, 9, 11, 10, 11, 8, 11, 8, 7, 12, 12, 4, 7, 8, 13, 8, 5, 13, 8, 5, 9, 6, 7, 4, 9, 8, 6, 12, 7, 9, 9, 9, 8, 11, 5, 9, 7, 8, 5, 7, 6, 11, 7, 11, 6, 9, 6, 6, 11, 7, 9, 7, 9, 9, 4, 9, 8, 3, 13, 9, 7, 4, 7, 9, 10, 7, 7, 12, 9, 8, 5, 6, 11, 14, 7, 7, 6, 8, 10, 10, 8, 10, 11, 7, 9, 10, 8, 8, 6, 7, 5, 6, 12, 10, 5, 8, 11, 5, 6, 11, 10, 5, 4, 11, 5, 7, 7, 7, 8, 13, 7, 10, 6, 11, 8, 7, 8, 10, 10, 11, 5, 6, 9, 3, 13, 9, 8, 4, 13, 10, 4, 7, 5, 10, 11, 7, 9, 9, 8, 8, 10, 5, 9, 6, 9, 10, 7, 6, 15, 5, 10, 8, 8, 10, 8, 7, 9, 9, 8, 9, 10, 6, 9, 13, 7, 11, 7, 5, 9, 8, 10, 8, 6, 10, 7, 6, 7, 5, 13, 7, 8, 12, 5, 5, 12, 7, 6, 10, 9, 5, 10, 10, 8, 6, 9, 11, 7, 10, 11, 7, 6, 7, 8, 7, 12, 7, 11, 8, 11, 9, 10, 14, 4, 10, 11, 11, 7, 5, 6, 7, 5, 13, 9, 5, 7, 8, 13, 10, 8, 7, 4, 3, 5, 7, 9, 4, 8, 6, 9, 7, 6, 6, 6, 4, 6, 13, 7, 6, 5, 10, 6, 6, 9, 5, 5, 8, 5, 7, 7, 13, 9, 9, 7, 7, 7, 12, 4, 6, 4, 8, 7, 6, 8, 7, 7, 6, 13, 6, 8, 11, 14, 4, 7, 9, 7, 4, 8, 5, 10, 12, 7, 14, 6, 7, 4, 3, 9, 7, 10, 8, 6, 6, 5, 5, 6, 10, 5, 9, 10, 8, 9, 7, 5, 8, 8, 8, 14, 7, 9, 9, 9, 10, 8, 12, 10, 4, 5, 9, 7, 3, 9, 6, 3, 6, 10, 6, 5, 5, 3, 5, 5, 7, 11, 6, 8, 6, 12, 6, 6, 10, 8, 7, 12, 4, 7, 15, 7, 12, 5, 6, 11, 10, 9, 9, 7, 9, 7, 9, 8, 9, 4, 7, 6, 13, 10, 10, 11, 10, 4, 9, 8, 11, 8, 9, 7, 6, 11, 11, 13, 4, 9, 12, 6, 4, 3, 12, 8, 10, 8, 7, 5, 3, 10, 5, 7, 10, 10, 7, 7, 12, 4, 11, 10, 10, 12, 6, 8, 6, 11, 7, 5, 12, 10, 8, 7, 9, 12, 12, 4, 5, 4, 7, 8, 6, 6, 12, 8, 6, 5, 8, 4, 7, 10, 11, 5, 9, 10, 7, 4, 6, 9, 10, 6, 7, 6, 5, 5, 8, 10, 5, 9, 5, 9, 7, 9, 11, 8, 9, 9, 6, 6, 6, 9, 12, 12, 6, 5, 7, 7, 7, 7, 7, 7, 12, 9, 12, 8, 8, 9, 6, 8, 9, 8, 10, 7, 8, 6, 8, 4, 11, 11, 7, 4, 10, 6, 9, 9, 6, 10, 6, 12, 9, 11, 4, 9, 7, 6, 8, 9, 9, 9, 6, 10, 9, 8, 9, 10, 8, 8, 8, 7, 6, 4, 9, 13, 7, 7, 7, 7, 10, 6, 8, 5, 5, 6, 8, 8, 4, 7, 5, 8, 11, 4, 6, 11, 7, 10, 10, 10, 9, 7, 12, 7, 13, 7, 8, 9, 9, 8, 5, 10, 9, 4, 7, 3, 8, 10, 5, 7, 10, 11, 9, 10, 8, 7, 6, 9, 6, 4, 14, 12, 10, 10, 5, 8, 8, 9, 8, 10, 14, 7, 7, 8, 3, 6, 7, 9, 11, 5, 6, 8, 4, 8, 10, 9, 10, 5, 9, 9, 12, 3, 9, 5, 13, 6, 5, 7, 7, 7, 8, 8, 11, 11, 9, 4, 7, 5, 12, 4, 11, 11, 7, 11, 7, 6, 9, 9, 3, 5, 7, 8, 9, 8, 7, 9, 9, 7, 4, 10, 6, 4, 10, 10, 9, 13, 7, 3, 10, 7, 6, 4, 6, 6, 8, 7, 3, 7, 7, 10, 4, 9, 14, 14, 9, 13, 4, 8, 8, 6, 5, 10, 9, 9, 7, 12, 11, 6, 8, 5, 11, 5, 6, 8, 7, 8, 7, 5, 8, 7, 9, 5, 8, 11, 12, 7, 14, 6, 5, 10, 4, 4, 12, 9, 15, 9, 8, 5, 8, 8, 11, 7, 4, 7, 11, 10, 7, 6, 8, 9, 4, 11, 6, 8, 6, 4, 7, 8, 7, 5, 7, 8, 11, 9, 10, 6, 8, 7, 4, 11, 5, 10, 6, 9, 11, 11, 12, 10, 11, 6, 3, 7, 11, 7, 6, 10, 8, 9, 4, 5, 8, 4, 5, 11, 10, 4, 3, 5, 8, 7, 9, 8, 7, 9, 6, 7, 7, 9, 6, 4, 8, 6, 6, 11, 14, 9, 7, 5, 8, 9, 11, 6, 6, 11, 5, 7, 9, 8, 5, 11, 7, 8, 4, 9, 4, 7, 12, 7, 6, 9, 5, 9, 12, 10, 9, 5, 8, 8, 12, 8, 11, 10, 8, 5, 4, 6, 5, 11, 7, 6, 9, 5, 5, 5, 9, 11, 7, 7, 6, 8, 10, 7, 7, 6, 4, 6, 7, 12, 6, 14, 6, 7, 7, 10, 11, 9, 8, 11, 7, 8, 3, 9, 11, 10, 6, 4, 9, 6, 7, 7, 7, 7, 8, 14, 10, 7, 4, 4, 8, 5, 10, 8, 8, 9, 8, 8, 7, 6, 4, 10, 5, 11, 11, 6, 7, 7, 8, 7, 7, 11, 9, 5, 3, 4, 8, 6, 6, 6, 8, 11, 10, 7, 6, 5, 5, 12, 7, 9, 5, 10, 14, 12, 14, 6, 4, 10, 7, 6, 11, 7, 7, 10, 5, 3, 11, 8, 8, 8, 4, 11, 6, 5, 4, 9, 6, 5, 5, 7, 11, 5, 6, 11, 12, 12, 9, 7, 7, 7, 9, 7, 5, 12, 9, 7, 9, 8, 4, 5, 8, 9, 7, 6, 8, 9, 5, 7, 12, 5, 6, 10, 11, 5, 3, 11, 10, 10, 9, 6, 9, 11, 15, 6, 6, 7, 8, 4, 10, 6, 9, 13, 6, 10, 6, 9, 8, 12, 10, 7, 7, 12, 9, 6, 9, 10, 9, 10, 13, 8, 8, 11, 7, 9, 6, 7, 4, 8, 10, 7, 6, 8, 6, 14, 6, 9, 7, 3, 6, 4, 7, 5, 5, 11, 8, 6, 10, 7, 6, 13, 4, 14, 8, 10, 5, 5, 10, 5, 7, 9, 6, 10, 5, 12, 11, 10, 7, 9, 13, 8, 4, 4, 5, 8, 6, 5, 8, 8, 11, 12, 12, 9, 9, 6, 11, 6, 11, 4, 11, 5, 15, 9, 9, 11, 6, 10, 5, 8, 5, 7, 6, 5, 6, 8, 9, 6, 11, 12, 7, 6, 8, 4, 5, 12, 4, 6, 4, 9, 8, 12, 9, 8, 5, 4, 11, 10, 9, 7, 10, 12, 3, 6, 9, 11, 7, 5, 6, 9, 7, 8, 6, 8, 9, 4, 3, 8, 9, 12, 8, 13, 7, 9, 10, 5, 10, 7, 11, 6, 9, 9, 12, 6, 9, 11, 5, 11, 10, 8, 9, 8, 9, 10, 5, 5, 11, 10, 9, 7, 15, 5, 8, 6, 10, 15, 7, 11, 5, 6, 12, 5, 8, 6, 15, 5, 9, 4, 10, 7, 10, 13, 7, 10, 5, 6, 7, 5, 4, 10, 5, 8, 6, 5, 7, 8, 12, 5, 9, 8, 8, 9, 6, 8, 9, 4, 9, 7, 4, 11, 10, 10, 10, 14, 11, 14, 6, 8, 10, 10, 8, 6, 5, 14, 8, 3, 6, 13, 4, 8, 15, 9, 8, 15, 4, 6, 7, 8, 8, 9, 8, 7, 8, 10, 7, 7, 6, 12, 10, 7, 11, 7, 4, 9, 12, 6, 7, 9, 7, 13, 6, 7, 11, 6, 4, 11, 4, 5, 3, 8, 6, 7, 9, 3, 12, 5, 10, 7, 12, 8, 7, 11, 10, 4, 6, 13, 8, 11, 7, 3, 5, 9, 11, 9, 7, 8, 10, 6, 11, 6, 10, 8, 8, 10, 3, 6, 7, 7, 6, 10, 8, 7, 6, 9, 9, 10, 5, 9, 4, 7, 3, 9, 10, 11, 9, 5, 9, 6, 5, 9, 12, 8, 8, 5, 10, 10, 8, 7, 9, 7, 6, 9, 10, 9, 8, 4, 9, 8, 7, 10, 7, 8, 10, 8, 11, 4, 15, 8, 7, 11, 11, 8, 11, 10, 7, 13, 9, 11, 7, 6, 4, 9, 8, 5, 11, 8, 11, 4, 4, 7, 13, 9, 8, 15, 11, 4, 11, 11, 7, 7, 11, 9, 7, 7, 9, 7, 5, 9, 5, 7, 3, 13, 8, 4, 10, 4, 8, 4, 10, 11, 4, 7, 12, 14, 9, 7, 5, 4, 15, 6, 9, 6, 3, 6, 8, 4, 13, 5, 9, 10, 6, 4, 5, 11, 9, 11, 6, 13, 7, 9, 10, 6, 10, 12, 7, 10, 8, 11, 3, 5, 8, 8, 6, 9, 7, 4, 9, 15, 5, 7, 5, 4, 12, 9, 8, 10, 7, 10, 4, 6, 9, 10, 4, 6, 8, 11, 12, 10, 11, 8, 9, 9, 9, 5, 12, 8, 8, 6, 8, 4, 8, 7, 8, 12, 10, 8, 11, 8, 4, 4, 9, 9, 9, 11, 8, 10, 5, 13, 9, 10, 6, 8, 5, 10, 5, 12, 7, 8, 10, 12, 10, 7, 7, 11, 8, 5, 4, 6, 11, 9, 8, 13, 6, 11, 9, 4, 10, 7, 7, 13, 6, 8, 6, 7, 7, 9, 5, 6, 9, 6, 7, 15, 7, 13, 4, 9, 7, 8, 7, 8, 8, 9, 5, 7, 9, 10, 12, 5, 10, 3, 6, 4, 9, 7, 7, 6, 5, 4, 7, 11, 9, 8, 5, 4, 7, 8, 9, 9, 5, 3, 7, 5, 9, 8, 5, 10, 7, 3, 7, 11, 6, 7, 5, 9, 3, 6, 6, 11, 10, 6, 7, 10, 5, 10, 10, 12, 9, 9, 9, 5, 11, 7, 8, 10, 8, 11, 5, 9, 8, 6, 11, 11, 11, 8, 7, 8, 14, 7, 7, 9, 7, 14, 9, 4, 10, 12, 6, 10, 12, 9, 8, 11, 6, 12, 7, 10, 7, 11, 8, 5, 9, 11, 8, 7, 7, 7, 5, 9, 4, 10, 7, 4, 9, 6, 6, 13, 8, 10, 7, 6, 9, 10, 11, 10, 5, 8, 13, 3, 7, 9, 8, 14, 7, 10, 8, 8, 10, 4, 7, 6, 8, 9, 9, 5, 12, 11, 11, 6, 9, 6, 7, 13, 9, 12, 11, 7, 6, 5, 6, 9, 8, 8, 11, 7, 5, 12, 4, 3, 10, 8, 11, 7, 8, 8, 3, 7, 3, 9, 3, 6, 12, 7, 8, 10, 8, 7, 7, 5, 6, 4, 10, 8, 9, 9, 7, 8, 5, 6, 11, 9, 11, 6, 9, 9, 10, 8, 7, 6, 5, 10, 3, 9, 4, 8, 7, 3, 10, 9, 5, 12, 13, 10, 11, 8, 4, 7, 4, 5, 7, 9, 8, 10, 11, 6, 11, 4, 8, 8, 6, 8, 9, 4, 8, 13, 5, 8, 9, 6, 5, 5, 8, 6, 14, 8, 10, 11, 5, 5, 11, 4, 14, 7, 8, 8, 9, 6, 5, 11, 9]\n"
          ],
          "name": "stdout"
        }
      ]
    },
    {
      "cell_type": "code",
      "metadata": {
        "colab": {
          "base_uri": "https://localhost:8080/"
        },
        "id": "asb6TNAyc2zI",
        "outputId": "b4f5d289-31ca-4b32-86b5-725bc45b8a54"
      },
      "source": [
        "min(rewards_q_learning)"
      ],
      "execution_count": 70,
      "outputs": [
        {
          "output_type": "execute_result",
          "data": {
            "text/plain": [
              "3"
            ]
          },
          "metadata": {
            "tags": []
          },
          "execution_count": 70
        }
      ]
    },
    {
      "cell_type": "code",
      "metadata": {
        "colab": {
          "base_uri": "https://localhost:8080/"
        },
        "id": "aB4pAa3Sc9vu",
        "outputId": "3975791e-0ad3-4b0c-b48e-5a34fea98200"
      },
      "source": [
        "max(rewards_q_learning)"
      ],
      "execution_count": 71,
      "outputs": [
        {
          "output_type": "execute_result",
          "data": {
            "text/plain": [
              "15"
            ]
          },
          "metadata": {
            "tags": []
          },
          "execution_count": 71
        }
      ]
    },
    {
      "cell_type": "code",
      "metadata": {
        "colab": {
          "base_uri": "https://localhost:8080/"
        },
        "id": "gX0EcnO9huhg",
        "outputId": "ff684aee-825b-45fb-bd58-123465ff2452"
      },
      "source": [
        "print (rubrik_criteria(rewards_q_learning[-1000:]))"
      ],
      "execution_count": 72,
      "outputs": [
        {
          "output_type": "stream",
          "text": [
            "5th Percentile:  7.626262626262626\n",
            "95th Percentile:  8.333333333333334\n",
            "\n",
            "Result: Pass!\n",
            "\n",
            "[7.7272727272727275, 7.7272727272727275, 7.707070707070707, 7.636363636363637, 7.646464646464646, 7.616161616161616, 7.606060606060606, 7.595959595959596, 7.636363636363637, 7.656565656565657, 7.666666666666667, 7.666666666666667, 7.656565656565657, 7.616161616161616, 7.616161616161616, 7.626262626262626, 7.666666666666667, 7.626262626262626, 7.636363636363637, 7.626262626262626, 7.636363636363637, 7.686868686868687, 7.6767676767676765, 7.656565656565657, 7.636363636363637, 7.646464646464646, 7.666666666666667, 7.666666666666667, 7.646464646464646, 7.585858585858586, 7.575757575757576, 7.555555555555555, 7.585858585858586, 7.666666666666667, 7.636363636363637, 7.646464646464646, 7.646464646464646, 7.6767676767676765, 7.646464646464646, 7.585858585858586, 7.616161616161616, 7.636363636363637, 7.666666666666667, 7.696969696969697, 7.717171717171717, 7.707070707070707, 7.767676767676767, 7.808080808080808, 7.757575757575758, 7.757575757575758, 7.757575757575758, 7.767676767676767, 7.7272727272727275, 7.757575757575758, 7.747474747474747, 7.7272727272727275, 7.767676767676767, 7.777777777777778, 7.848484848484849, 7.8686868686868685, 7.878787878787879, 7.898989898989899, 7.959595959595959, 8.0, 7.98989898989899, 7.94949494949495, 7.96969696969697, 7.98989898989899, 7.98989898989899, 8.030303030303031, 8.080808080808081, 8.05050505050505, 8.080808080808081, 8.121212121212121, 8.151515151515152, 8.131313131313131, 8.1010101010101, 8.05050505050505, 8.0, 8.0, 8.030303030303031, 7.96969696969697, 7.97979797979798, 8.02020202020202, 7.97979797979798, 7.96969696969697, 7.97979797979798, 7.9393939393939394, 8.030303030303031, 8.06060606060606, 8.04040404040404, 8.030303030303031, 7.97979797979798, 7.959595959595959, 7.959595959595959, 7.91919191919192, 7.909090909090909, 7.909090909090909, 7.97979797979798, 7.96969696969697, 7.96969696969697, 8.02020202020202, 8.04040404040404, 8.030303030303031, 8.05050505050505, 8.04040404040404, 8.121212121212121, 8.090909090909092, 8.070707070707071, 8.0, 7.959595959595959, 7.98989898989899, 7.96969696969697, 7.96969696969697, 7.96969696969697, 7.959595959595959, 8.01010101010101, 7.9393939393939394, 7.96969696969697, 8.01010101010101, 8.02020202020202, 8.01010101010101, 8.06060606060606, 8.141414141414142, 8.141414141414142, 8.090909090909092, 8.06060606060606, 8.05050505050505, 8.05050505050505, 8.02020202020202, 8.02020202020202, 8.030303030303031, 7.98989898989899, 8.05050505050505, 8.11111111111111, 8.131313131313131, 8.11111111111111, 8.151515151515152, 8.181818181818182, 8.181818181818182, 8.141414141414142, 8.151515151515152, 8.1010101010101, 8.151515151515152, 8.11111111111111, 8.151515151515152, 8.090909090909092, 8.121212121212121, 8.171717171717171, 8.16161616161616, 8.181818181818182, 8.191919191919192, 8.171717171717171, 8.16161616161616, 8.141414141414142, 8.070707070707071, 8.06060606060606, 8.02020202020202, 8.04040404040404, 8.04040404040404, 8.02020202020202, 8.01010101010101, 8.030303030303031, 8.030303030303031, 8.02020202020202, 7.97979797979798, 7.929292929292929, 7.91919191919192, 7.94949494949495, 7.888888888888889, 7.858585858585859, 7.797979797979798, 7.757575757575758, 7.757575757575758, 7.797979797979798, 7.777777777777778, 7.787878787878788, 7.747474747474747, 7.7272727272727275, 7.767676767676767, 7.828282828282828, 7.838383838383838, 7.808080808080808, 7.838383838383838, 7.898989898989899, 7.848484848484849, 7.848484848484849, 7.797979797979798, 7.848484848484849, 7.828282828282828, 7.808080808080808, 7.838383838383838, 7.8686868686868685, 7.898989898989899, 7.909090909090909, 7.91919191919192, 7.94949494949495, 7.929292929292929, 7.888888888888889, 7.858585858585859, 7.838383838383838, 7.858585858585859, 7.91919191919192, 7.8686868686868685, 7.959595959595959, 7.888888888888889, 7.898989898989899, 7.898989898989899, 7.898989898989899, 7.94949494949495, 7.91919191919192, 7.97979797979798, 7.96969696969697, 7.96969696969697, 8.0, 8.02020202020202, 8.030303030303031, 8.0, 8.0, 7.94949494949495, 7.98989898989899, 8.0, 7.94949494949495, 7.959595959595959, 8.0, 8.05050505050505, 8.1010101010101, 8.070707070707071, 8.06060606060606, 8.121212121212121, 8.141414141414142, 8.151515151515152, 8.11111111111111, 8.141414141414142, 8.070707070707071, 8.06060606060606, 8.030303030303031, 8.070707070707071, 8.11111111111111, 8.121212121212121, 8.121212121212121, 8.131313131313131, 8.080808080808081, 8.151515151515152, 8.05050505050505, 8.04040404040404, 8.01010101010101, 8.05050505050505, 8.04040404040404, 8.030303030303031, 8.02020202020202, 8.04040404040404, 8.06060606060606, 8.090909090909092, 8.16161616161616, 8.181818181818182, 8.222222222222221, 8.191919191919192, 8.16161616161616, 8.171717171717171, 8.11111111111111, 8.030303030303031, 8.06060606060606, 8.05050505050505, 8.05050505050505, 8.070707070707071, 8.070707070707071, 8.02020202020202, 8.06060606060606, 8.121212121212121, 8.131313131313131, 8.131313131313131, 8.131313131313131, 8.090909090909092, 8.090909090909092, 8.070707070707071, 8.1010101010101, 8.151515151515152, 8.080808080808081, 8.070707070707071, 8.05050505050505, 8.02020202020202, 8.030303030303031, 8.01010101010101, 8.080808080808081, 8.121212121212121, 8.171717171717171, 8.171717171717171, 8.242424242424242, 8.252525252525253, 8.272727272727273, 8.282828282828282, 8.313131313131313, 8.313131313131313, 8.313131313131313, 8.282828282828282, 8.333333333333334, 8.373737373737374, 8.373737373737374, 8.353535353535353, 8.393939393939394, 8.313131313131313, 8.313131313131313, 8.333333333333334, 8.353535353535353, 8.343434343434344, 8.393939393939394, 8.383838383838384, 8.343434343434344, 8.343434343434344, 8.313131313131313, 8.333333333333334, 8.333333333333334, 8.323232323232324, 8.272727272727273, 8.292929292929292, 8.303030303030303, 8.262626262626263, 8.282828282828282, 8.232323232323232, 8.252525252525253, 8.272727272727273, 8.252525252525253, 8.282828282828282, 8.262626262626263, 8.202020202020202, 8.242424242424242, 8.313131313131313, 8.262626262626263, 8.232323232323232, 8.232323232323232, 8.232323232323232, 8.212121212121213, 8.222222222222221, 8.212121212121213, 8.262626262626263, 8.222222222222221, 8.11111111111111, 8.151515151515152, 8.080808080808081, 8.080808080808081, 8.05050505050505, 8.01010101010101, 8.02020202020202, 8.01010101010101, 8.04040404040404, 7.91919191919192, 7.98989898989899, 7.94949494949495, 8.01010101010101, 7.97979797979798, 8.030303030303031, 8.01010101010101, 7.94949494949495, 7.98989898989899, 7.98989898989899, 7.97979797979798, 7.97979797979798, 8.04040404040404, 8.070707070707071, 8.141414141414142, 8.11111111111111, 8.090909090909092, 8.06060606060606, 8.090909090909092, 8.151515151515152, 8.171717171717171, 8.16161616161616, 8.121212121212121, 8.171717171717171, 8.141414141414142, 8.171717171717171, 8.151515151515152, 8.16161616161616, 8.181818181818182, 8.181818181818182, 8.191919191919192, 8.181818181818182, 8.151515151515152, 8.151515151515152, 8.181818181818182, 8.131313131313131, 8.131313131313131, 8.11111111111111, 8.080808080808081, 8.0, 7.97979797979798, 7.929292929292929, 7.96969696969697, 7.9393939393939394, 7.929292929292929, 7.8686868686868685, 7.858585858585859, 7.828282828282828, 7.8686868686868685, 7.828282828282828, 7.858585858585859, 7.91919191919192, 7.909090909090909, 7.8686868686868685, 7.888888888888889, 7.858585858585859, 7.797979797979798, 7.828282828282828, 7.828282828282828, 7.757575757575758, 7.767676767676767, 7.808080808080808, 7.838383838383838, 7.838383838383838, 7.828282828282828, 7.828282828282828, 7.818181818181818, 7.808080808080808, 7.818181818181818, 7.818181818181818, 7.838383838383838, 7.848484848484849, 7.828282828282828, 7.797979797979798, 7.777777777777778, 7.777777777777778, 7.767676767676767, 7.767676767676767, 7.808080808080808, 7.818181818181818, 7.777777777777778, 7.828282828282828, 7.797979797979798, 7.858585858585859, 7.8686868686868685, 7.808080808080808, 7.858585858585859, 7.898989898989899, 7.8686868686868685, 7.91919191919192, 7.97979797979798, 7.9393939393939394, 8.030303030303031, 8.070707070707071, 8.151515151515152, 8.141414141414142, 8.141414141414142, 8.11111111111111, 8.11111111111111, 8.16161616161616, 8.090909090909092, 8.151515151515152, 8.131313131313131, 8.171717171717171, 8.090909090909092, 8.05050505050505, 8.05050505050505, 8.070707070707071, 8.06060606060606, 8.1010101010101, 8.191919191919192, 8.171717171717171, 8.131313131313131, 8.131313131313131, 8.171717171717171, 8.212121212121213, 8.232323232323232, 8.252525252525253, 8.232323232323232, 8.212121212121213, 8.212121212121213, 8.222222222222221, 8.191919191919192, 8.181818181818182, 8.16161616161616, 8.151515151515152, 8.121212121212121, 8.070707070707071, 8.121212121212121, 8.1010101010101, 8.11111111111111, 8.151515151515152, 8.121212121212121, 8.131313131313131, 8.11111111111111, 8.11111111111111, 8.141414141414142, 8.11111111111111, 8.121212121212121, 8.151515151515152, 8.202020202020202, 8.191919191919192, 8.212121212121213, 8.171717171717171, 8.171717171717171, 8.252525252525253, 8.282828282828282, 8.282828282828282, 8.242424242424242, 8.16161616161616, 8.131313131313131, 8.16161616161616, 8.11111111111111, 8.181818181818182, 8.181818181818182, 8.181818181818182, 8.16161616161616, 8.141414141414142, 8.1010101010101, 8.1010101010101, 8.11111111111111, 8.1010101010101, 8.131313131313131, 8.121212121212121, 8.16161616161616, 8.16161616161616, 8.191919191919192, 8.202020202020202, 8.16161616161616, 8.171717171717171, 8.212121212121213, 8.242424242424242, 8.252525252525253, 8.252525252525253, 8.292929292929292, 8.222222222222221, 8.202020202020202, 8.202020202020202, 8.181818181818182, 8.16161616161616, 8.141414141414142, 8.171717171717171, 8.06060606060606, 8.070707070707071, 8.151515151515152, 8.090909090909092, 8.05050505050505, 8.02020202020202, 7.94949494949495, 7.96969696969697, 7.98989898989899, 7.9393939393939394, 7.94949494949495, 7.909090909090909, 7.9393939393939394, 7.91919191919192, 7.9393939393939394, 7.9393939393939394, 7.959595959595959, 7.94949494949495, 7.898989898989899, 7.898989898989899, 7.898989898989899, 7.97979797979798, 8.04040404040404, 8.080808080808081, 8.030303030303031, 8.030303030303031, 8.04040404040404, 7.97979797979798, 7.91919191919192, 8.0, 7.96969696969697, 7.9393939393939394, 7.929292929292929, 7.9393939393939394, 7.8686868686868685, 7.858585858585859, 7.858585858585859, 7.8686868686868685, 7.898989898989899, 7.929292929292929, 7.959595959595959, 7.97979797979798, 8.01010101010101, 7.97979797979798, 7.98989898989899, 7.94949494949495, 7.959595959595959, 8.01010101010101, 8.02020202020202, 8.06060606060606, 8.080808080808081, 8.090909090909092, 8.121212121212121, 8.1010101010101, 8.16161616161616, 8.151515151515152, 8.11111111111111, 8.02020202020202, 8.030303030303031, 8.01010101010101, 8.080808080808081, 8.11111111111111, 8.04040404040404, 8.080808080808081, 8.11111111111111, 8.151515151515152, 8.191919191919192, 8.202020202020202, 8.232323232323232, 8.272727272727273, 8.191919191919192, 8.181818181818182, 8.151515151515152, 8.16161616161616, 8.191919191919192, 8.232323232323232, 8.313131313131313, 8.262626262626263, 8.282828282828282, 8.262626262626263, 8.242424242424242, 8.212121212121213, 8.212121212121213, 8.191919191919192, 8.222222222222221, 8.222222222222221, 8.202020202020202, 8.141414141414142, 8.141414141414142, 8.11111111111111, 8.121212121212121, 8.06060606060606, 8.090909090909092, 8.131313131313131, 8.11111111111111, 8.1010101010101, 8.191919191919192, 8.171717171717171, 8.232323232323232, 8.232323232323232, 8.232323232323232, 8.151515151515152, 8.181818181818182, 8.181818181818182, 8.212121212121213, 8.252525252525253, 8.222222222222221, 8.181818181818182, 8.171717171717171, 8.16161616161616, 8.191919191919192, 8.212121212121213, 8.222222222222221, 8.262626262626263, 8.202020202020202, 8.16161616161616, 8.16161616161616, 8.191919191919192, 8.181818181818182, 8.141414141414142, 8.080808080808081, 8.030303030303031, 7.959595959595959, 7.94949494949495, 7.96969696969697, 7.96969696969697, 7.959595959595959, 7.959595959595959, 7.878787878787879, 7.8686868686868685, 7.8686868686868685, 7.898989898989899, 7.909090909090909, 7.91919191919192, 7.8686868686868685, 7.8686868686868685, 7.838383838383838, 7.808080808080808, 7.787878787878788, 7.757575757575758, 7.747474747474747, 7.737373737373737, 7.7272727272727275, 7.757575757575758, 7.777777777777778, 7.747474747474747, 7.7272727272727275, 7.666666666666667, 7.6767676767676765, 7.606060606060606, 7.616161616161616, 7.545454545454546, 7.565656565656566, 7.565656565656566, 7.565656565656566, 7.555555555555555, 7.606060606060606, 7.555555555555555, 7.606060606060606, 7.585858585858586, 7.636363636363637, 7.646464646464646, 7.636363636363637, 7.606060606060606, 7.555555555555555, 7.595959595959596, 7.595959595959596, 7.565656565656566, 7.585858585858586, 7.616161616161616, 7.686868686868687, 7.6767676767676765, 7.656565656565657, 7.646464646464646, 7.626262626262626, 7.606060606060606, 7.656565656565657, 7.656565656565657, 7.646464646464646, 7.6767676767676765, 7.656565656565657, 7.7272727272727275, 7.7272727272727275, 7.666666666666667, 7.696969696969697, 7.686868686868687, 7.767676767676767, 7.787878787878788, 7.757575757575758, 7.767676767676767, 7.838383838383838, 7.838383838383838, 7.848484848484849, 7.909090909090909, 7.929292929292929, 7.858585858585859, 7.898989898989899, 7.828282828282828, 7.909090909090909, 7.888888888888889, 7.91919191919192, 7.909090909090909, 7.94949494949495, 7.94949494949495, 7.91919191919192, 7.91919191919192, 7.97979797979798, 7.98989898989899, 7.96969696969697, 7.9393939393939394, 7.888888888888889, 7.888888888888889, 7.878787878787879, 7.888888888888889, 7.929292929292929, 7.959595959595959, 7.909090909090909, 7.929292929292929, 7.91919191919192, 7.91919191919192, 8.0, 8.04040404040404, 8.070707070707071, 8.030303030303031, 8.0, 8.01010101010101, 8.06060606060606, 8.131313131313131, 8.16161616161616, 8.131313131313131, 8.121212121212121, 8.16161616161616, 8.141414141414142, 8.181818181818182, 8.202020202020202, 8.232323232323232, 8.282828282828282, 8.272727272727273, 8.323232323232324, 8.303030303030303, 8.313131313131313, 8.383838383838384, 8.353535353535353, 8.313131313131313, 8.313131313131313, 8.323232323232324, 8.363636363636363, 8.363636363636363, 8.383838383838384, 8.444444444444445, 8.494949494949495, 8.494949494949495, 8.454545454545455, 8.484848484848484, 8.474747474747474, 8.444444444444445, 8.525252525252526, 8.515151515151516, 8.535353535353535, 8.525252525252526, 8.505050505050505, 8.474747474747474, 8.434343434343434, 8.444444444444445, 8.424242424242424, 8.434343434343434, 8.434343434343434, 8.444444444444445, 8.434343434343434, 8.373737373737374, 8.444444444444445, 8.393939393939394, 8.343434343434344, 8.383838383838384, 8.353535353535353, 8.353535353535353, 8.313131313131313, 8.313131313131313, 8.323232323232324, 8.272727272727273, 8.202020202020202, 8.16161616161616, 8.181818181818182, 8.121212121212121, 8.11111111111111, 8.090909090909092, 8.070707070707071, 8.11111111111111, 8.11111111111111, 8.070707070707071, 8.080808080808081, 8.05050505050505, 7.97979797979798, 7.94949494949495, 7.909090909090909, 7.898989898989899, 7.91919191919192, 7.888888888888889, 7.909090909090909, 7.878787878787879, 7.888888888888889, 7.828282828282828, 7.808080808080808, 7.8686868686868685, 7.8686868686868685, 7.8686868686868685, 7.848484848484849, 7.8686868686868685, 7.888888888888889, 7.91919191919192, 7.94949494949495, 7.929292929292929, 7.94949494949495, 7.898989898989899, 7.929292929292929, 7.91919191919192, 7.91919191919192, 7.898989898989899, 7.91919191919192, 7.858585858585859, 7.808080808080808, 7.808080808080808, 7.828282828282828, 7.818181818181818, 7.848484848484849, 7.878787878787879, 7.8686868686868685, 7.878787878787879, 7.909090909090909, 7.8686868686868685, 7.808080808080808, 7.818181818181818, 7.797979797979798, 7.777777777777778, 7.787878787878788, 7.7272727272727275, 7.757575757575758, 7.767676767676767, 7.747474747474747, 7.777777777777778, 7.717171717171717, 7.757575757575758, 7.767676767676767, 7.767676767676767, 7.767676767676767, 7.767676767676767, 7.717171717171717, 7.747474747474747, 7.757575757575758, 7.696969696969697, 7.666666666666667, 7.696969696969697, 7.666666666666667, 7.656565656565657, 7.636363636363637, 7.585858585858586, 7.555555555555555, 7.575757575757576, 7.545454545454546, 7.575757575757576, 7.626262626262626, 7.626262626262626, 7.616161616161616, 7.636363636363637, 7.595959595959596, 7.656565656565657, 7.616161616161616, 7.626262626262626, 7.656565656565657, 7.626262626262626, 7.646464646464646, 7.666666666666667, 7.6767676767676765]\n"
          ],
          "name": "stdout"
        }
      ]
    },
    {
      "cell_type": "code",
      "metadata": {
        "colab": {
          "base_uri": "https://localhost:8080/",
          "height": 265
        },
        "id": "P7IU2rd3785j",
        "outputId": "3b20ad7c-c32d-4633-ced3-65418a944821"
      },
      "source": [
        "import matplotlib.pyplot as plt\n",
        "windowed_rewards = np.convolve(rewards_q_learning_plot, np.ones(100), 'valid')\n",
        "plt.plot(windowed_rewards/100)\n",
        "plt.show()"
      ],
      "execution_count": 73,
      "outputs": [
        {
          "output_type": "display_data",
          "data": {
            "image/png": "[encoded data removed]",
            "text/plain": [
              "<Figure size 432x288 with 1 Axes>"
            ]
          },
          "metadata": {
            "tags": [],
            "needs_background": "light"
          }
        }
      ]
    }
  ]
}